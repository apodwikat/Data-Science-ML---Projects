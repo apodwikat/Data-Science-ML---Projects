{
 "cells": [
  {
   "cell_type": "code",
   "execution_count": 11,
   "id": "8856aa25-c7ed-4f0d-b79e-fb83dba031ca",
   "metadata": {},
   "outputs": [],
   "source": [
    "import pandas as pd\n",
    "import plotly.express as px\n",
    "from country_converter import CountryConverter\n",
    "from pprint import PrettyPrinter\n",
    "from pymongo import MongoClient"
   ]
  },
  {
   "cell_type": "code",
   "execution_count": 10,
   "id": "3a329c82-4cea-46de-a37f-e773d1f47254",
   "metadata": {},
   "outputs": [
    {
     "name": "stdout",
     "output_type": "stream",
     "text": [
      "pp type: <class 'pprint.PrettyPrinter'>\n"
     ]
    }
   ],
   "source": [
    "#pp is the object, PrettyPrinter() is the class which we follow its ibstructions (blueprint) \n",
    "## so here yopu go from class to object which is pp, (indent=2) is the argument\n",
    "pp = PrettyPrinter(indent=2)\n",
    "print(\"pp type:\", type(pp))"
   ]
  },
  {
   "cell_type": "markdown",
   "id": "8f459627-b9cf-4a2c-9109-6dd653c1fc4a",
   "metadata": {
    "jp-MarkdownHeadingCollapsed": true
   },
   "source": [
    "# Connnect to MongoDB DataBase"
   ]
  },
  {
   "cell_type": "code",
   "execution_count": 12,
   "id": "e90cbc6f-f1cc-416a-ab4b-e1ea59446acd",
   "metadata": {},
   "outputs": [
    {
     "name": "stdout",
     "output_type": "stream",
     "text": [
      "clien type: <class 'pymongo.synchronous.mongo_client.MongoClient'>\n"
     ]
    }
   ],
   "source": [
    "client = MongoClient(host=\"loalhost\", port=27017)\n",
    "print(\"clien type:\", type(client))"
   ]
  },
  {
   "cell_type": "markdown",
   "id": "d64131c8-cd07-43e7-8406-23b5bc4a8200",
   "metadata": {},
   "source": [
    "## Print a list of the databases available on client."
   ]
  },
  {
   "cell_type": "code",
   "execution_count": 15,
   "id": "93f0f719-4af7-4089-ad45-dc01a7dc4d64",
   "metadata": {},
   "outputs": [],
   "source": [
    "# pp.pprint(list(client.list_databases()))"
   ]
  },
  {
   "cell_type": "markdown",
   "id": "fe242650-ba12-436c-bf09-f0dd37cb121a",
   "metadata": {},
   "source": [
    "## We're interested in the \"wqu-abtest\" database, so let's assign a variable and get moving.\n",
    "\n",
    "### By the way, did you notice our old friend the air quality data? Isn't it nice to know that if you ever wanted to go back and do those projects again, the data will be there waiting for you?"
   ]
  },
  {
   "cell_type": "markdown",
   "id": "5718d56f-a223-4a4d-aa2b-ab79e49d6dc4",
   "metadata": {},
   "source": [
    "### Assign the \"ds-applicants\" collection in the \"wqu-abtest\" database to the variable name ds_app."
   ]
  },
  {
   "cell_type": "code",
   "execution_count": 16,
   "id": "1a1f1c6e-547f-4275-b3cd-9453c5f2e2b1",
   "metadata": {},
   "outputs": [],
   "source": [
    "# db = client[\"wqu-abtest\"]\n",
    "# ds_app = db[\"ds-applicants\"]\n",
    "# print(\"ds_app type:\", type(ds_app))"
   ]
  },
  {
   "cell_type": "markdown",
   "id": "73368931-820e-4fcd-9ab6-00853825e156",
   "metadata": {},
   "source": [
    "## Use the count_documents method to see how many documents are in the ds_app collection."
   ]
  },
  {
   "cell_type": "code",
   "execution_count": 17,
   "id": "c5fbd4f2-8e14-47e9-b970-eb4af78366e5",
   "metadata": {},
   "outputs": [],
   "source": [
    "# n_documents = ds_app.count_documents({})\n",
    "# print(\"Num. documents in 'ds-applicants':\", n_documents)"
   ]
  },
  {
   "cell_type": "markdown",
   "id": "d8aae8ef-a5a4-4c8a-90df-76eb82a0591c",
   "metadata": {},
   "source": [
    "## Use the find_one method to retrieve one document from the ds_app collection and assign it to the variable name result."
   ]
  },
  {
   "cell_type": "code",
   "execution_count": 18,
   "id": "7056dd2e-eecb-420e-9393-e872961d2291",
   "metadata": {},
   "outputs": [],
   "source": [
    "# result = ds_app.find_one({\n",
    "# })\n",
    "# print(\"result type:\", type(result))\n",
    "# pp.pprint(result)"
   ]
  },
  {
   "cell_type": "markdown",
   "id": "d2daab33-0e05-471d-bec5-b580a2cb707b",
   "metadata": {
    "jp-MarkdownHeadingCollapsed": true
   },
   "source": [
    "# Open the Data from Excel"
   ]
  },
  {
   "cell_type": "code",
   "execution_count": 51,
   "id": "72b62145-a020-44c3-9f33-9c51bc2f33ac",
   "metadata": {},
   "outputs": [
    {
     "data": {
      "text/html": [
       "<div>\n",
       "<style scoped>\n",
       "    .dataframe tbody tr th:only-of-type {\n",
       "        vertical-align: middle;\n",
       "    }\n",
       "\n",
       "    .dataframe tbody tr th {\n",
       "        vertical-align: top;\n",
       "    }\n",
       "\n",
       "    .dataframe thead th {\n",
       "        text-align: right;\n",
       "    }\n",
       "</style>\n",
       "<table border=\"1\" class=\"dataframe\">\n",
       "  <thead>\n",
       "    <tr style=\"text-align: right;\">\n",
       "      <th></th>\n",
       "      <th>_id</th>\n",
       "      <th>firstName</th>\n",
       "      <th>lastName</th>\n",
       "      <th>email</th>\n",
       "      <th>birthday</th>\n",
       "      <th>gender</th>\n",
       "      <th>highestDegreeEarned</th>\n",
       "      <th>countryISO2</th>\n",
       "      <th>admissionsQuiz</th>\n",
       "    </tr>\n",
       "  </thead>\n",
       "  <tbody>\n",
       "    <tr>\n",
       "      <th>0</th>\n",
       "      <td>6525d787953844722c8383f8</td>\n",
       "      <td>Terry</td>\n",
       "      <td>Hassler</td>\n",
       "      <td>terry.hassler28@yahow.com</td>\n",
       "      <td>1998-04-29</td>\n",
       "      <td>male</td>\n",
       "      <td>Bachelor's degree</td>\n",
       "      <td>GB</td>\n",
       "      <td>incomplete</td>\n",
       "    </tr>\n",
       "    <tr>\n",
       "      <th>1</th>\n",
       "      <td>6525d787953844722c8383f9</td>\n",
       "      <td>Alan</td>\n",
       "      <td>Noble</td>\n",
       "      <td>alan.noble91@hotmeal.com</td>\n",
       "      <td>1999-03-03</td>\n",
       "      <td>male</td>\n",
       "      <td>Bachelor's degree</td>\n",
       "      <td>NG</td>\n",
       "      <td>complete</td>\n",
       "    </tr>\n",
       "    <tr>\n",
       "      <th>2</th>\n",
       "      <td>6525d787953844722c8383fa</td>\n",
       "      <td>Ruth</td>\n",
       "      <td>Vedovelli</td>\n",
       "      <td>ruth.vedovelli46@microsift.com</td>\n",
       "      <td>1994-08-16</td>\n",
       "      <td>female</td>\n",
       "      <td>Master's degree</td>\n",
       "      <td>ZM</td>\n",
       "      <td>incomplete</td>\n",
       "    </tr>\n",
       "    <tr>\n",
       "      <th>3</th>\n",
       "      <td>6525d787953844722c8383fb</td>\n",
       "      <td>Jennifer</td>\n",
       "      <td>Mayer</td>\n",
       "      <td>jennifer.mayer25@gmall.com</td>\n",
       "      <td>1984-11-23</td>\n",
       "      <td>female</td>\n",
       "      <td>Bachelor's degree</td>\n",
       "      <td>NG</td>\n",
       "      <td>complete</td>\n",
       "    </tr>\n",
       "    <tr>\n",
       "      <th>4</th>\n",
       "      <td>6525d787953844722c8383fc</td>\n",
       "      <td>Ray</td>\n",
       "      <td>Hersey</td>\n",
       "      <td>ray.hersey99@hotmeal.com</td>\n",
       "      <td>1990-10-15</td>\n",
       "      <td>male</td>\n",
       "      <td>Master's degree</td>\n",
       "      <td>PK</td>\n",
       "      <td>complete</td>\n",
       "    </tr>\n",
       "    <tr>\n",
       "      <th>...</th>\n",
       "      <td>...</td>\n",
       "      <td>...</td>\n",
       "      <td>...</td>\n",
       "      <td>...</td>\n",
       "      <td>...</td>\n",
       "      <td>...</td>\n",
       "      <td>...</td>\n",
       "      <td>...</td>\n",
       "      <td>...</td>\n",
       "    </tr>\n",
       "    <tr>\n",
       "      <th>5020</th>\n",
       "      <td>6525d787953844722c839794</td>\n",
       "      <td>Victor</td>\n",
       "      <td>Collins</td>\n",
       "      <td>victor.collins67@microsift.com</td>\n",
       "      <td>1985-02-15</td>\n",
       "      <td>male</td>\n",
       "      <td>Bachelor's degree</td>\n",
       "      <td>UG</td>\n",
       "      <td>incomplete</td>\n",
       "    </tr>\n",
       "    <tr>\n",
       "      <th>5021</th>\n",
       "      <td>6525d787953844722c839795</td>\n",
       "      <td>Justin</td>\n",
       "      <td>Nelson</td>\n",
       "      <td>justin.nelson95@microsift.com</td>\n",
       "      <td>1992-08-30</td>\n",
       "      <td>male</td>\n",
       "      <td>High School or Baccalaureate</td>\n",
       "      <td>NG</td>\n",
       "      <td>complete</td>\n",
       "    </tr>\n",
       "    <tr>\n",
       "      <th>5022</th>\n",
       "      <td>6525d787953844722c839796</td>\n",
       "      <td>Rosemary</td>\n",
       "      <td>Marsha</td>\n",
       "      <td>rosemary.marsha44@gmall.com</td>\n",
       "      <td>1990-03-22</td>\n",
       "      <td>female</td>\n",
       "      <td>Bachelor's degree</td>\n",
       "      <td>SZ</td>\n",
       "      <td>complete</td>\n",
       "    </tr>\n",
       "    <tr>\n",
       "      <th>5023</th>\n",
       "      <td>6525d787953844722c839797</td>\n",
       "      <td>Florine</td>\n",
       "      <td>Thomas</td>\n",
       "      <td>florine.thomas60@hotmeal.com</td>\n",
       "      <td>1983-01-24</td>\n",
       "      <td>female</td>\n",
       "      <td>Master's degree</td>\n",
       "      <td>ZA</td>\n",
       "      <td>incomplete</td>\n",
       "    </tr>\n",
       "    <tr>\n",
       "      <th>5024</th>\n",
       "      <td>6525d787953844722c839798</td>\n",
       "      <td>Matthew</td>\n",
       "      <td>Smith</td>\n",
       "      <td>matthew.smith67@yahow.com</td>\n",
       "      <td>1992-11-12</td>\n",
       "      <td>male</td>\n",
       "      <td>Bachelor's degree</td>\n",
       "      <td>IN</td>\n",
       "      <td>complete</td>\n",
       "    </tr>\n",
       "  </tbody>\n",
       "</table>\n",
       "<p>5025 rows × 9 columns</p>\n",
       "</div>"
      ],
      "text/plain": [
       "                           _id firstName   lastName  \\\n",
       "0     6525d787953844722c8383f8     Terry    Hassler   \n",
       "1     6525d787953844722c8383f9      Alan      Noble   \n",
       "2     6525d787953844722c8383fa      Ruth  Vedovelli   \n",
       "3     6525d787953844722c8383fb  Jennifer      Mayer   \n",
       "4     6525d787953844722c8383fc       Ray     Hersey   \n",
       "...                        ...       ...        ...   \n",
       "5020  6525d787953844722c839794    Victor    Collins   \n",
       "5021  6525d787953844722c839795    Justin     Nelson   \n",
       "5022  6525d787953844722c839796  Rosemary     Marsha   \n",
       "5023  6525d787953844722c839797   Florine     Thomas   \n",
       "5024  6525d787953844722c839798   Matthew      Smith   \n",
       "\n",
       "                               email   birthday  gender  \\\n",
       "0          terry.hassler28@yahow.com 1998-04-29    male   \n",
       "1           alan.noble91@hotmeal.com 1999-03-03    male   \n",
       "2     ruth.vedovelli46@microsift.com 1994-08-16  female   \n",
       "3         jennifer.mayer25@gmall.com 1984-11-23  female   \n",
       "4           ray.hersey99@hotmeal.com 1990-10-15    male   \n",
       "...                              ...        ...     ...   \n",
       "5020  victor.collins67@microsift.com 1985-02-15    male   \n",
       "5021   justin.nelson95@microsift.com 1992-08-30    male   \n",
       "5022     rosemary.marsha44@gmall.com 1990-03-22  female   \n",
       "5023    florine.thomas60@hotmeal.com 1983-01-24  female   \n",
       "5024       matthew.smith67@yahow.com 1992-11-12    male   \n",
       "\n",
       "               highestDegreeEarned countryISO2 admissionsQuiz  \n",
       "0                Bachelor's degree          GB     incomplete  \n",
       "1                Bachelor's degree          NG       complete  \n",
       "2                  Master's degree          ZM     incomplete  \n",
       "3                Bachelor's degree          NG       complete  \n",
       "4                  Master's degree          PK       complete  \n",
       "...                            ...         ...            ...  \n",
       "5020             Bachelor's degree          UG     incomplete  \n",
       "5021  High School or Baccalaureate          NG       complete  \n",
       "5022             Bachelor's degree          SZ       complete  \n",
       "5023               Master's degree          ZA     incomplete  \n",
       "5024             Bachelor's degree          IN       complete  \n",
       "\n",
       "[5025 rows x 9 columns]"
      ]
     },
     "execution_count": 51,
     "metadata": {},
     "output_type": "execute_result"
    }
   ],
   "source": [
    "df = pd.read_excel(r\"C:\\Users\\hp\\WorldQuantum\\7) A-B Testing\\Wq-TestInfo-AB.xlsx\")\n",
    "df"
   ]
  },
  {
   "cell_type": "markdown",
   "id": "6424e63c-1512-4b52-b691-8486fb409d77",
   "metadata": {
    "jp-MarkdownHeadingCollapsed": true
   },
   "source": [
    "# Nationality"
   ]
  },
  {
   "cell_type": "markdown",
   "id": "d90f52b7-4421-4805-bad6-a0db873f4bcb",
   "metadata": {},
   "source": [
    "#### Use the aggregate method to calculate how many applicants there are from each country."
   ]
  },
  {
   "cell_type": "code",
   "execution_count": 52,
   "id": "dac37e74-d898-49ac-bbd9-2ee428aa9156",
   "metadata": {},
   "outputs": [
    {
     "data": {
      "text/plain": [
       "array(['GB', 'NG', 'ZM', 'PK', 'CM', 'VN', 'MN', 'HK', 'IN', 'GM', 'MW',\n",
       "       'EG', 'ET', 'SG', 'CN', 'AI', 'AR', 'BD', 'TZ', 'US', 'RW', 'NP',\n",
       "       'CD', 'SL', 'CY', 'ZA', 'FJ', 'GH', 'AO', 'KE', 'SO', 'IQ', 'ES',\n",
       "       'SD', 'ID', 'MY', 'AL', nan, 'ZW', 'AF', 'PH', 'MU', 'CI', 'UG',\n",
       "       'LK', 'MA', 'UA', 'DJ', 'MK', 'MZ', 'MX', 'PG', 'IT', 'BW', 'BT',\n",
       "       'RU', 'TG', 'BJ', 'NE', 'FR', 'KG', 'TH', 'LB', 'TR', 'CA', 'BB',\n",
       "       'TD', 'SS', 'AZ', 'LS', 'CR', 'BR', 'KR', 'LY', 'CO', 'PA', 'ML',\n",
       "       'TJ', 'SZ', 'AD', 'TN', 'IL', 'GR', 'SN', 'BF', 'DE', 'KM', 'JO',\n",
       "       'LR', 'MM', 'GW', 'AE', 'TW', 'PT', 'AU', 'UZ', 'DZ', 'CG', 'SK',\n",
       "       'AG', 'NL', 'HT', 'GN', 'ER', 'PR', 'RS', 'AX', 'BG', 'TL', 'ST',\n",
       "       'BY', 'DM', 'YE', 'TO', 'KZ', 'HU', 'VE', 'GY', 'CZ', 'PL', 'WS',\n",
       "       'PE', 'VI', 'BI', 'RO', 'TM', 'KH', 'BE', 'GQ', 'MG', 'CL', 'CF',\n",
       "       'MR', 'AM', 'BA', 'VU', 'MO', 'SE', 'GA'], dtype=object)"
      ]
     },
     "execution_count": 52,
     "metadata": {},
     "output_type": "execute_result"
    }
   ],
   "source": [
    "df[\"countryISO2\"].unique()"
   ]
  },
  {
   "cell_type": "code",
   "execution_count": 58,
   "id": "c75ed169-b258-4b0b-85bd-33d6c4fd4ad8",
   "metadata": {},
   "outputs": [
    {
     "name": "stdout",
     "output_type": "stream",
     "text": [
      "df_nationality type: <class 'pandas.core.frame.DataFrame'>\n",
      "df_nationality shape (138, 2)\n"
     ]
    },
    {
     "data": {
      "text/html": [
       "<div>\n",
       "<style scoped>\n",
       "    .dataframe tbody tr th:only-of-type {\n",
       "        vertical-align: middle;\n",
       "    }\n",
       "\n",
       "    .dataframe tbody tr th {\n",
       "        vertical-align: top;\n",
       "    }\n",
       "\n",
       "    .dataframe thead th {\n",
       "        text-align: right;\n",
       "    }\n",
       "</style>\n",
       "<table border=\"1\" class=\"dataframe\">\n",
       "  <thead>\n",
       "    <tr style=\"text-align: right;\">\n",
       "      <th></th>\n",
       "      <th>country_iso2</th>\n",
       "      <th>count</th>\n",
       "    </tr>\n",
       "  </thead>\n",
       "  <tbody>\n",
       "    <tr>\n",
       "      <th>4</th>\n",
       "      <td>BD</td>\n",
       "      <td>254</td>\n",
       "    </tr>\n",
       "    <tr>\n",
       "      <th>3</th>\n",
       "      <td>KE</td>\n",
       "      <td>304</td>\n",
       "    </tr>\n",
       "    <tr>\n",
       "      <th>2</th>\n",
       "      <td>IN</td>\n",
       "      <td>511</td>\n",
       "    </tr>\n",
       "    <tr>\n",
       "      <th>1</th>\n",
       "      <td>PK</td>\n",
       "      <td>568</td>\n",
       "    </tr>\n",
       "    <tr>\n",
       "      <th>0</th>\n",
       "      <td>NG</td>\n",
       "      <td>1238</td>\n",
       "    </tr>\n",
       "  </tbody>\n",
       "</table>\n",
       "</div>"
      ],
      "text/plain": [
       "  country_iso2  count\n",
       "4           BD    254\n",
       "3           KE    304\n",
       "2           IN    511\n",
       "1           PK    568\n",
       "0           NG   1238"
      ]
     },
     "execution_count": 58,
     "metadata": {},
     "output_type": "execute_result"
    }
   ],
   "source": [
    "# Count applicants per country\n",
    "country_counts = df['countryISO2'].value_counts()\n",
    "\n",
    "# Convert to DataFrame and reset index to get a column with country codes\n",
    "df_nationality = country_counts.reset_index()\n",
    "\n",
    "# Rename columns\n",
    "df_nationality.columns = ['country_iso2', 'count']\n",
    "\n",
    "# Sort by 'count'\n",
    "df_nationality = df_nationality.sort_values('count', ascending=True)\n",
    "\n",
    "print(\"df_nationality type:\", type(df_nationality))\n",
    "print(\"df_nationality shape\", df_nationality.shape)\n",
    "# Display the top rows\n",
    "df_nationality.tail()"
   ]
  },
  {
   "cell_type": "markdown",
   "id": "b75618bf-62eb-4a88-8df1-d414b7469a49",
   "metadata": {},
   "source": [
    "## Country Converter: Open Source Software"
   ]
  },
  {
   "cell_type": "code",
   "execution_count": 62,
   "id": "2fd5ec7a-8af2-4e96-8f68-74cfbbd51b88",
   "metadata": {},
   "outputs": [
    {
     "name": "stdout",
     "output_type": "stream",
     "text": [
      "df_nationality shape: (138, 3)\n"
     ]
    },
    {
     "data": {
      "text/html": [
       "<div>\n",
       "<style scoped>\n",
       "    .dataframe tbody tr th:only-of-type {\n",
       "        vertical-align: middle;\n",
       "    }\n",
       "\n",
       "    .dataframe tbody tr th {\n",
       "        vertical-align: top;\n",
       "    }\n",
       "\n",
       "    .dataframe thead th {\n",
       "        text-align: right;\n",
       "    }\n",
       "</style>\n",
       "<table border=\"1\" class=\"dataframe\">\n",
       "  <thead>\n",
       "    <tr style=\"text-align: right;\">\n",
       "      <th></th>\n",
       "      <th>country_iso2</th>\n",
       "      <th>count</th>\n",
       "      <th>country_name</th>\n",
       "    </tr>\n",
       "  </thead>\n",
       "  <tbody>\n",
       "    <tr>\n",
       "      <th>137</th>\n",
       "      <td>GA</td>\n",
       "      <td>1</td>\n",
       "      <td>Gabon</td>\n",
       "    </tr>\n",
       "    <tr>\n",
       "      <th>110</th>\n",
       "      <td>GQ</td>\n",
       "      <td>1</td>\n",
       "      <td>Equatorial Guinea</td>\n",
       "    </tr>\n",
       "    <tr>\n",
       "      <th>111</th>\n",
       "      <td>BE</td>\n",
       "      <td>1</td>\n",
       "      <td>Belgium</td>\n",
       "    </tr>\n",
       "    <tr>\n",
       "      <th>112</th>\n",
       "      <td>SE</td>\n",
       "      <td>1</td>\n",
       "      <td>Sweden</td>\n",
       "    </tr>\n",
       "    <tr>\n",
       "      <th>113</th>\n",
       "      <td>KH</td>\n",
       "      <td>1</td>\n",
       "      <td>Cambodia</td>\n",
       "    </tr>\n",
       "  </tbody>\n",
       "</table>\n",
       "</div>"
      ],
      "text/plain": [
       "    country_iso2  count       country_name\n",
       "137           GA      1              Gabon\n",
       "110           GQ      1  Equatorial Guinea\n",
       "111           BE      1            Belgium\n",
       "112           SE      1             Sweden\n",
       "113           KH      1           Cambodia"
      ]
     },
     "execution_count": 62,
     "metadata": {},
     "output_type": "execute_result"
    }
   ],
   "source": [
    "cc = CountryConverter()\n",
    "df_nationality[\"country_name\"] = cc.convert(\n",
    "    df_nationality[\"country_iso2\"], to=\"name_short\"\n",
    ")\n",
    "\n",
    "print(\"df_nationality shape:\", df_nationality.shape)\n",
    "df_nationality.head()"
   ]
  },
  {
   "cell_type": "markdown",
   "id": "59772bb7-cee7-49a2-afae-49338e079ad6",
   "metadata": {},
   "source": [
    "## Create Some Visualizations "
   ]
  },
  {
   "cell_type": "code",
   "execution_count": 65,
   "id": "ac1954b0-cdac-472a-b532-1f1a58ae0288",
   "metadata": {},
   "outputs": [
    {
     "data": {
      "application/vnd.plotly.v1+json": {
       "config": {
        "plotlyServerURL": "https://plot.ly"
       },
       "data": [
        {
         "alignmentgroup": "True",
         "hovertemplate": "count=%{x}<br>country_name=%{y}<extra></extra>",
         "legendgroup": "",
         "marker": {
          "color": "#636efa",
          "pattern": {
           "shape": ""
          }
         },
         "name": "",
         "offsetgroup": "",
         "orientation": "h",
         "showlegend": false,
         "textposition": "auto",
         "type": "bar",
         "x": [
          94,
          97,
          109,
          167,
          187,
          254,
          304,
          511,
          568,
          1238
         ],
         "xaxis": "x",
         "y": [
          "Zimbabwe",
          "United States",
          "Philippines",
          "Ghana",
          "Ethiopia",
          "Bangladesh",
          "Kenya",
          "India",
          "Pakistan",
          "Nigeria"
         ],
         "yaxis": "y"
        }
       ],
       "layout": {
        "autosize": true,
        "barmode": "relative",
        "legend": {
         "tracegroupgap": 0
        },
        "template": {
         "data": {
          "bar": [
           {
            "error_x": {
             "color": "#2a3f5f"
            },
            "error_y": {
             "color": "#2a3f5f"
            },
            "marker": {
             "line": {
              "color": "#E5ECF6",
              "width": 0.5
             },
             "pattern": {
              "fillmode": "overlay",
              "size": 10,
              "solidity": 0.2
             }
            },
            "type": "bar"
           }
          ],
          "barpolar": [
           {
            "marker": {
             "line": {
              "color": "#E5ECF6",
              "width": 0.5
             },
             "pattern": {
              "fillmode": "overlay",
              "size": 10,
              "solidity": 0.2
             }
            },
            "type": "barpolar"
           }
          ],
          "carpet": [
           {
            "aaxis": {
             "endlinecolor": "#2a3f5f",
             "gridcolor": "white",
             "linecolor": "white",
             "minorgridcolor": "white",
             "startlinecolor": "#2a3f5f"
            },
            "baxis": {
             "endlinecolor": "#2a3f5f",
             "gridcolor": "white",
             "linecolor": "white",
             "minorgridcolor": "white",
             "startlinecolor": "#2a3f5f"
            },
            "type": "carpet"
           }
          ],
          "choropleth": [
           {
            "colorbar": {
             "outlinewidth": 0,
             "ticks": ""
            },
            "type": "choropleth"
           }
          ],
          "contour": [
           {
            "colorbar": {
             "outlinewidth": 0,
             "ticks": ""
            },
            "colorscale": [
             [
              0,
              "#0d0887"
             ],
             [
              0.1111111111111111,
              "#46039f"
             ],
             [
              0.2222222222222222,
              "#7201a8"
             ],
             [
              0.3333333333333333,
              "#9c179e"
             ],
             [
              0.4444444444444444,
              "#bd3786"
             ],
             [
              0.5555555555555556,
              "#d8576b"
             ],
             [
              0.6666666666666666,
              "#ed7953"
             ],
             [
              0.7777777777777778,
              "#fb9f3a"
             ],
             [
              0.8888888888888888,
              "#fdca26"
             ],
             [
              1,
              "#f0f921"
             ]
            ],
            "type": "contour"
           }
          ],
          "contourcarpet": [
           {
            "colorbar": {
             "outlinewidth": 0,
             "ticks": ""
            },
            "type": "contourcarpet"
           }
          ],
          "heatmap": [
           {
            "colorbar": {
             "outlinewidth": 0,
             "ticks": ""
            },
            "colorscale": [
             [
              0,
              "#0d0887"
             ],
             [
              0.1111111111111111,
              "#46039f"
             ],
             [
              0.2222222222222222,
              "#7201a8"
             ],
             [
              0.3333333333333333,
              "#9c179e"
             ],
             [
              0.4444444444444444,
              "#bd3786"
             ],
             [
              0.5555555555555556,
              "#d8576b"
             ],
             [
              0.6666666666666666,
              "#ed7953"
             ],
             [
              0.7777777777777778,
              "#fb9f3a"
             ],
             [
              0.8888888888888888,
              "#fdca26"
             ],
             [
              1,
              "#f0f921"
             ]
            ],
            "type": "heatmap"
           }
          ],
          "heatmapgl": [
           {
            "colorbar": {
             "outlinewidth": 0,
             "ticks": ""
            },
            "colorscale": [
             [
              0,
              "#0d0887"
             ],
             [
              0.1111111111111111,
              "#46039f"
             ],
             [
              0.2222222222222222,
              "#7201a8"
             ],
             [
              0.3333333333333333,
              "#9c179e"
             ],
             [
              0.4444444444444444,
              "#bd3786"
             ],
             [
              0.5555555555555556,
              "#d8576b"
             ],
             [
              0.6666666666666666,
              "#ed7953"
             ],
             [
              0.7777777777777778,
              "#fb9f3a"
             ],
             [
              0.8888888888888888,
              "#fdca26"
             ],
             [
              1,
              "#f0f921"
             ]
            ],
            "type": "heatmapgl"
           }
          ],
          "histogram": [
           {
            "marker": {
             "pattern": {
              "fillmode": "overlay",
              "size": 10,
              "solidity": 0.2
             }
            },
            "type": "histogram"
           }
          ],
          "histogram2d": [
           {
            "colorbar": {
             "outlinewidth": 0,
             "ticks": ""
            },
            "colorscale": [
             [
              0,
              "#0d0887"
             ],
             [
              0.1111111111111111,
              "#46039f"
             ],
             [
              0.2222222222222222,
              "#7201a8"
             ],
             [
              0.3333333333333333,
              "#9c179e"
             ],
             [
              0.4444444444444444,
              "#bd3786"
             ],
             [
              0.5555555555555556,
              "#d8576b"
             ],
             [
              0.6666666666666666,
              "#ed7953"
             ],
             [
              0.7777777777777778,
              "#fb9f3a"
             ],
             [
              0.8888888888888888,
              "#fdca26"
             ],
             [
              1,
              "#f0f921"
             ]
            ],
            "type": "histogram2d"
           }
          ],
          "histogram2dcontour": [
           {
            "colorbar": {
             "outlinewidth": 0,
             "ticks": ""
            },
            "colorscale": [
             [
              0,
              "#0d0887"
             ],
             [
              0.1111111111111111,
              "#46039f"
             ],
             [
              0.2222222222222222,
              "#7201a8"
             ],
             [
              0.3333333333333333,
              "#9c179e"
             ],
             [
              0.4444444444444444,
              "#bd3786"
             ],
             [
              0.5555555555555556,
              "#d8576b"
             ],
             [
              0.6666666666666666,
              "#ed7953"
             ],
             [
              0.7777777777777778,
              "#fb9f3a"
             ],
             [
              0.8888888888888888,
              "#fdca26"
             ],
             [
              1,
              "#f0f921"
             ]
            ],
            "type": "histogram2dcontour"
           }
          ],
          "mesh3d": [
           {
            "colorbar": {
             "outlinewidth": 0,
             "ticks": ""
            },
            "type": "mesh3d"
           }
          ],
          "parcoords": [
           {
            "line": {
             "colorbar": {
              "outlinewidth": 0,
              "ticks": ""
             }
            },
            "type": "parcoords"
           }
          ],
          "pie": [
           {
            "automargin": true,
            "type": "pie"
           }
          ],
          "scatter": [
           {
            "fillpattern": {
             "fillmode": "overlay",
             "size": 10,
             "solidity": 0.2
            },
            "type": "scatter"
           }
          ],
          "scatter3d": [
           {
            "line": {
             "colorbar": {
              "outlinewidth": 0,
              "ticks": ""
             }
            },
            "marker": {
             "colorbar": {
              "outlinewidth": 0,
              "ticks": ""
             }
            },
            "type": "scatter3d"
           }
          ],
          "scattercarpet": [
           {
            "marker": {
             "colorbar": {
              "outlinewidth": 0,
              "ticks": ""
             }
            },
            "type": "scattercarpet"
           }
          ],
          "scattergeo": [
           {
            "marker": {
             "colorbar": {
              "outlinewidth": 0,
              "ticks": ""
             }
            },
            "type": "scattergeo"
           }
          ],
          "scattergl": [
           {
            "marker": {
             "colorbar": {
              "outlinewidth": 0,
              "ticks": ""
             }
            },
            "type": "scattergl"
           }
          ],
          "scattermapbox": [
           {
            "marker": {
             "colorbar": {
              "outlinewidth": 0,
              "ticks": ""
             }
            },
            "type": "scattermapbox"
           }
          ],
          "scatterpolar": [
           {
            "marker": {
             "colorbar": {
              "outlinewidth": 0,
              "ticks": ""
             }
            },
            "type": "scatterpolar"
           }
          ],
          "scatterpolargl": [
           {
            "marker": {
             "colorbar": {
              "outlinewidth": 0,
              "ticks": ""
             }
            },
            "type": "scatterpolargl"
           }
          ],
          "scatterternary": [
           {
            "marker": {
             "colorbar": {
              "outlinewidth": 0,
              "ticks": ""
             }
            },
            "type": "scatterternary"
           }
          ],
          "surface": [
           {
            "colorbar": {
             "outlinewidth": 0,
             "ticks": ""
            },
            "colorscale": [
             [
              0,
              "#0d0887"
             ],
             [
              0.1111111111111111,
              "#46039f"
             ],
             [
              0.2222222222222222,
              "#7201a8"
             ],
             [
              0.3333333333333333,
              "#9c179e"
             ],
             [
              0.4444444444444444,
              "#bd3786"
             ],
             [
              0.5555555555555556,
              "#d8576b"
             ],
             [
              0.6666666666666666,
              "#ed7953"
             ],
             [
              0.7777777777777778,
              "#fb9f3a"
             ],
             [
              0.8888888888888888,
              "#fdca26"
             ],
             [
              1,
              "#f0f921"
             ]
            ],
            "type": "surface"
           }
          ],
          "table": [
           {
            "cells": {
             "fill": {
              "color": "#EBF0F8"
             },
             "line": {
              "color": "white"
             }
            },
            "header": {
             "fill": {
              "color": "#C8D4E3"
             },
             "line": {
              "color": "white"
             }
            },
            "type": "table"
           }
          ]
         },
         "layout": {
          "annotationdefaults": {
           "arrowcolor": "#2a3f5f",
           "arrowhead": 0,
           "arrowwidth": 1
          },
          "autotypenumbers": "strict",
          "coloraxis": {
           "colorbar": {
            "outlinewidth": 0,
            "ticks": ""
           }
          },
          "colorscale": {
           "diverging": [
            [
             0,
             "#8e0152"
            ],
            [
             0.1,
             "#c51b7d"
            ],
            [
             0.2,
             "#de77ae"
            ],
            [
             0.3,
             "#f1b6da"
            ],
            [
             0.4,
             "#fde0ef"
            ],
            [
             0.5,
             "#f7f7f7"
            ],
            [
             0.6,
             "#e6f5d0"
            ],
            [
             0.7,
             "#b8e186"
            ],
            [
             0.8,
             "#7fbc41"
            ],
            [
             0.9,
             "#4d9221"
            ],
            [
             1,
             "#276419"
            ]
           ],
           "sequential": [
            [
             0,
             "#0d0887"
            ],
            [
             0.1111111111111111,
             "#46039f"
            ],
            [
             0.2222222222222222,
             "#7201a8"
            ],
            [
             0.3333333333333333,
             "#9c179e"
            ],
            [
             0.4444444444444444,
             "#bd3786"
            ],
            [
             0.5555555555555556,
             "#d8576b"
            ],
            [
             0.6666666666666666,
             "#ed7953"
            ],
            [
             0.7777777777777778,
             "#fb9f3a"
            ],
            [
             0.8888888888888888,
             "#fdca26"
            ],
            [
             1,
             "#f0f921"
            ]
           ],
           "sequentialminus": [
            [
             0,
             "#0d0887"
            ],
            [
             0.1111111111111111,
             "#46039f"
            ],
            [
             0.2222222222222222,
             "#7201a8"
            ],
            [
             0.3333333333333333,
             "#9c179e"
            ],
            [
             0.4444444444444444,
             "#bd3786"
            ],
            [
             0.5555555555555556,
             "#d8576b"
            ],
            [
             0.6666666666666666,
             "#ed7953"
            ],
            [
             0.7777777777777778,
             "#fb9f3a"
            ],
            [
             0.8888888888888888,
             "#fdca26"
            ],
            [
             1,
             "#f0f921"
            ]
           ]
          },
          "colorway": [
           "#636efa",
           "#EF553B",
           "#00cc96",
           "#ab63fa",
           "#FFA15A",
           "#19d3f3",
           "#FF6692",
           "#B6E880",
           "#FF97FF",
           "#FECB52"
          ],
          "font": {
           "color": "#2a3f5f"
          },
          "geo": {
           "bgcolor": "white",
           "lakecolor": "white",
           "landcolor": "#E5ECF6",
           "showlakes": true,
           "showland": true,
           "subunitcolor": "white"
          },
          "hoverlabel": {
           "align": "left"
          },
          "hovermode": "closest",
          "mapbox": {
           "style": "light"
          },
          "paper_bgcolor": "white",
          "plot_bgcolor": "#E5ECF6",
          "polar": {
           "angularaxis": {
            "gridcolor": "white",
            "linecolor": "white",
            "ticks": ""
           },
           "bgcolor": "#E5ECF6",
           "radialaxis": {
            "gridcolor": "white",
            "linecolor": "white",
            "ticks": ""
           }
          },
          "scene": {
           "xaxis": {
            "backgroundcolor": "#E5ECF6",
            "gridcolor": "white",
            "gridwidth": 2,
            "linecolor": "white",
            "showbackground": true,
            "ticks": "",
            "zerolinecolor": "white"
           },
           "yaxis": {
            "backgroundcolor": "#E5ECF6",
            "gridcolor": "white",
            "gridwidth": 2,
            "linecolor": "white",
            "showbackground": true,
            "ticks": "",
            "zerolinecolor": "white"
           },
           "zaxis": {
            "backgroundcolor": "#E5ECF6",
            "gridcolor": "white",
            "gridwidth": 2,
            "linecolor": "white",
            "showbackground": true,
            "ticks": "",
            "zerolinecolor": "white"
           }
          },
          "shapedefaults": {
           "line": {
            "color": "#2a3f5f"
           }
          },
          "ternary": {
           "aaxis": {
            "gridcolor": "white",
            "linecolor": "white",
            "ticks": ""
           },
           "baxis": {
            "gridcolor": "white",
            "linecolor": "white",
            "ticks": ""
           },
           "bgcolor": "#E5ECF6",
           "caxis": {
            "gridcolor": "white",
            "linecolor": "white",
            "ticks": ""
           }
          },
          "title": {
           "x": 0.05
          },
          "xaxis": {
           "automargin": true,
           "gridcolor": "white",
           "linecolor": "white",
           "ticks": "",
           "title": {
            "standoff": 15
           },
           "zerolinecolor": "white",
           "zerolinewidth": 2
          },
          "yaxis": {
           "automargin": true,
           "gridcolor": "white",
           "linecolor": "white",
           "ticks": "",
           "title": {
            "standoff": 15
           },
           "zerolinecolor": "white",
           "zerolinewidth": 2
          }
         }
        },
        "title": {
         "text": "DS Applicants: Nationality"
        },
        "xaxis": {
         "anchor": "y",
         "autorange": true,
         "domain": [
          0,
          1
         ],
         "range": [
          0,
          1303.157894736842
         ],
         "title": {
          "text": "frequency [count]"
         },
         "type": "linear"
        },
        "yaxis": {
         "anchor": "x",
         "autorange": true,
         "domain": [
          0,
          1
         ],
         "range": [
          -0.5,
          9.5
         ],
         "title": {
          "text": "Country"
         },
         "type": "category"
        }
       }
      },
      "image/png": "[encoded data removed]",
      "text/html": [
       "<div>                            <div id=\"1d2f9371-f0cc-44c6-ab38-85433f995816\" class=\"plotly-graph-div\" style=\"height:525px; width:100%;\"></div>            <script type=\"text/javascript\">                require([\"plotly\"], function(Plotly) {                    window.PLOTLYENV=window.PLOTLYENV || {};                                    if (document.getElementById(\"1d2f9371-f0cc-44c6-ab38-85433f995816\")) {                    Plotly.newPlot(                        \"1d2f9371-f0cc-44c6-ab38-85433f995816\",                        [{\"alignmentgroup\":\"True\",\"hovertemplate\":\"count=%{x}\\u003cbr\\u003ecountry_name=%{y}\\u003cextra\\u003e\\u003c\\u002fextra\\u003e\",\"legendgroup\":\"\",\"marker\":{\"color\":\"#636efa\",\"pattern\":{\"shape\":\"\"}},\"name\":\"\",\"offsetgroup\":\"\",\"orientation\":\"h\",\"showlegend\":false,\"textposition\":\"auto\",\"x\":[94,97,109,167,187,254,304,511,568,1238],\"xaxis\":\"x\",\"y\":[\"Zimbabwe\",\"United States\",\"Philippines\",\"Ghana\",\"Ethiopia\",\"Bangladesh\",\"Kenya\",\"India\",\"Pakistan\",\"Nigeria\"],\"yaxis\":\"y\",\"type\":\"bar\"}],                        {\"template\":{\"data\":{\"histogram2dcontour\":[{\"type\":\"histogram2dcontour\",\"colorbar\":{\"outlinewidth\":0,\"ticks\":\"\"},\"colorscale\":[[0.0,\"#0d0887\"],[0.1111111111111111,\"#46039f\"],[0.2222222222222222,\"#7201a8\"],[0.3333333333333333,\"#9c179e\"],[0.4444444444444444,\"#bd3786\"],[0.5555555555555556,\"#d8576b\"],[0.6666666666666666,\"#ed7953\"],[0.7777777777777778,\"#fb9f3a\"],[0.8888888888888888,\"#fdca26\"],[1.0,\"#f0f921\"]]}],\"choropleth\":[{\"type\":\"choropleth\",\"colorbar\":{\"outlinewidth\":0,\"ticks\":\"\"}}],\"histogram2d\":[{\"type\":\"histogram2d\",\"colorbar\":{\"outlinewidth\":0,\"ticks\":\"\"},\"colorscale\":[[0.0,\"#0d0887\"],[0.1111111111111111,\"#46039f\"],[0.2222222222222222,\"#7201a8\"],[0.3333333333333333,\"#9c179e\"],[0.4444444444444444,\"#bd3786\"],[0.5555555555555556,\"#d8576b\"],[0.6666666666666666,\"#ed7953\"],[0.7777777777777778,\"#fb9f3a\"],[0.8888888888888888,\"#fdca26\"],[1.0,\"#f0f921\"]]}],\"heatmap\":[{\"type\":\"heatmap\",\"colorbar\":{\"outlinewidth\":0,\"ticks\":\"\"},\"colorscale\":[[0.0,\"#0d0887\"],[0.1111111111111111,\"#46039f\"],[0.2222222222222222,\"#7201a8\"],[0.3333333333333333,\"#9c179e\"],[0.4444444444444444,\"#bd3786\"],[0.5555555555555556,\"#d8576b\"],[0.6666666666666666,\"#ed7953\"],[0.7777777777777778,\"#fb9f3a\"],[0.8888888888888888,\"#fdca26\"],[1.0,\"#f0f921\"]]}],\"heatmapgl\":[{\"type\":\"heatmapgl\",\"colorbar\":{\"outlinewidth\":0,\"ticks\":\"\"},\"colorscale\":[[0.0,\"#0d0887\"],[0.1111111111111111,\"#46039f\"],[0.2222222222222222,\"#7201a8\"],[0.3333333333333333,\"#9c179e\"],[0.4444444444444444,\"#bd3786\"],[0.5555555555555556,\"#d8576b\"],[0.6666666666666666,\"#ed7953\"],[0.7777777777777778,\"#fb9f3a\"],[0.8888888888888888,\"#fdca26\"],[1.0,\"#f0f921\"]]}],\"contourcarpet\":[{\"type\":\"contourcarpet\",\"colorbar\":{\"outlinewidth\":0,\"ticks\":\"\"}}],\"contour\":[{\"type\":\"contour\",\"colorbar\":{\"outlinewidth\":0,\"ticks\":\"\"},\"colorscale\":[[0.0,\"#0d0887\"],[0.1111111111111111,\"#46039f\"],[0.2222222222222222,\"#7201a8\"],[0.3333333333333333,\"#9c179e\"],[0.4444444444444444,\"#bd3786\"],[0.5555555555555556,\"#d8576b\"],[0.6666666666666666,\"#ed7953\"],[0.7777777777777778,\"#fb9f3a\"],[0.8888888888888888,\"#fdca26\"],[1.0,\"#f0f921\"]]}],\"surface\":[{\"type\":\"surface\",\"colorbar\":{\"outlinewidth\":0,\"ticks\":\"\"},\"colorscale\":[[0.0,\"#0d0887\"],[0.1111111111111111,\"#46039f\"],[0.2222222222222222,\"#7201a8\"],[0.3333333333333333,\"#9c179e\"],[0.4444444444444444,\"#bd3786\"],[0.5555555555555556,\"#d8576b\"],[0.6666666666666666,\"#ed7953\"],[0.7777777777777778,\"#fb9f3a\"],[0.8888888888888888,\"#fdca26\"],[1.0,\"#f0f921\"]]}],\"mesh3d\":[{\"type\":\"mesh3d\",\"colorbar\":{\"outlinewidth\":0,\"ticks\":\"\"}}],\"scatter\":[{\"fillpattern\":{\"fillmode\":\"overlay\",\"size\":10,\"solidity\":0.2},\"type\":\"scatter\"}],\"parcoords\":[{\"type\":\"parcoords\",\"line\":{\"colorbar\":{\"outlinewidth\":0,\"ticks\":\"\"}}}],\"scatterpolargl\":[{\"type\":\"scatterpolargl\",\"marker\":{\"colorbar\":{\"outlinewidth\":0,\"ticks\":\"\"}}}],\"bar\":[{\"error_x\":{\"color\":\"#2a3f5f\"},\"error_y\":{\"color\":\"#2a3f5f\"},\"marker\":{\"line\":{\"color\":\"#E5ECF6\",\"width\":0.5},\"pattern\":{\"fillmode\":\"overlay\",\"size\":10,\"solidity\":0.2}},\"type\":\"bar\"}],\"scattergeo\":[{\"type\":\"scattergeo\",\"marker\":{\"colorbar\":{\"outlinewidth\":0,\"ticks\":\"\"}}}],\"scatterpolar\":[{\"type\":\"scatterpolar\",\"marker\":{\"colorbar\":{\"outlinewidth\":0,\"ticks\":\"\"}}}],\"histogram\":[{\"marker\":{\"pattern\":{\"fillmode\":\"overlay\",\"size\":10,\"solidity\":0.2}},\"type\":\"histogram\"}],\"scattergl\":[{\"type\":\"scattergl\",\"marker\":{\"colorbar\":{\"outlinewidth\":0,\"ticks\":\"\"}}}],\"scatter3d\":[{\"type\":\"scatter3d\",\"line\":{\"colorbar\":{\"outlinewidth\":0,\"ticks\":\"\"}},\"marker\":{\"colorbar\":{\"outlinewidth\":0,\"ticks\":\"\"}}}],\"scattermapbox\":[{\"type\":\"scattermapbox\",\"marker\":{\"colorbar\":{\"outlinewidth\":0,\"ticks\":\"\"}}}],\"scatterternary\":[{\"type\":\"scatterternary\",\"marker\":{\"colorbar\":{\"outlinewidth\":0,\"ticks\":\"\"}}}],\"scattercarpet\":[{\"type\":\"scattercarpet\",\"marker\":{\"colorbar\":{\"outlinewidth\":0,\"ticks\":\"\"}}}],\"carpet\":[{\"aaxis\":{\"endlinecolor\":\"#2a3f5f\",\"gridcolor\":\"white\",\"linecolor\":\"white\",\"minorgridcolor\":\"white\",\"startlinecolor\":\"#2a3f5f\"},\"baxis\":{\"endlinecolor\":\"#2a3f5f\",\"gridcolor\":\"white\",\"linecolor\":\"white\",\"minorgridcolor\":\"white\",\"startlinecolor\":\"#2a3f5f\"},\"type\":\"carpet\"}],\"table\":[{\"cells\":{\"fill\":{\"color\":\"#EBF0F8\"},\"line\":{\"color\":\"white\"}},\"header\":{\"fill\":{\"color\":\"#C8D4E3\"},\"line\":{\"color\":\"white\"}},\"type\":\"table\"}],\"barpolar\":[{\"marker\":{\"line\":{\"color\":\"#E5ECF6\",\"width\":0.5},\"pattern\":{\"fillmode\":\"overlay\",\"size\":10,\"solidity\":0.2}},\"type\":\"barpolar\"}],\"pie\":[{\"automargin\":true,\"type\":\"pie\"}]},\"layout\":{\"autotypenumbers\":\"strict\",\"colorway\":[\"#636efa\",\"#EF553B\",\"#00cc96\",\"#ab63fa\",\"#FFA15A\",\"#19d3f3\",\"#FF6692\",\"#B6E880\",\"#FF97FF\",\"#FECB52\"],\"font\":{\"color\":\"#2a3f5f\"},\"hovermode\":\"closest\",\"hoverlabel\":{\"align\":\"left\"},\"paper_bgcolor\":\"white\",\"plot_bgcolor\":\"#E5ECF6\",\"polar\":{\"bgcolor\":\"#E5ECF6\",\"angularaxis\":{\"gridcolor\":\"white\",\"linecolor\":\"white\",\"ticks\":\"\"},\"radialaxis\":{\"gridcolor\":\"white\",\"linecolor\":\"white\",\"ticks\":\"\"}},\"ternary\":{\"bgcolor\":\"#E5ECF6\",\"aaxis\":{\"gridcolor\":\"white\",\"linecolor\":\"white\",\"ticks\":\"\"},\"baxis\":{\"gridcolor\":\"white\",\"linecolor\":\"white\",\"ticks\":\"\"},\"caxis\":{\"gridcolor\":\"white\",\"linecolor\":\"white\",\"ticks\":\"\"}},\"coloraxis\":{\"colorbar\":{\"outlinewidth\":0,\"ticks\":\"\"}},\"colorscale\":{\"sequential\":[[0.0,\"#0d0887\"],[0.1111111111111111,\"#46039f\"],[0.2222222222222222,\"#7201a8\"],[0.3333333333333333,\"#9c179e\"],[0.4444444444444444,\"#bd3786\"],[0.5555555555555556,\"#d8576b\"],[0.6666666666666666,\"#ed7953\"],[0.7777777777777778,\"#fb9f3a\"],[0.8888888888888888,\"#fdca26\"],[1.0,\"#f0f921\"]],\"sequentialminus\":[[0.0,\"#0d0887\"],[0.1111111111111111,\"#46039f\"],[0.2222222222222222,\"#7201a8\"],[0.3333333333333333,\"#9c179e\"],[0.4444444444444444,\"#bd3786\"],[0.5555555555555556,\"#d8576b\"],[0.6666666666666666,\"#ed7953\"],[0.7777777777777778,\"#fb9f3a\"],[0.8888888888888888,\"#fdca26\"],[1.0,\"#f0f921\"]],\"diverging\":[[0,\"#8e0152\"],[0.1,\"#c51b7d\"],[0.2,\"#de77ae\"],[0.3,\"#f1b6da\"],[0.4,\"#fde0ef\"],[0.5,\"#f7f7f7\"],[0.6,\"#e6f5d0\"],[0.7,\"#b8e186\"],[0.8,\"#7fbc41\"],[0.9,\"#4d9221\"],[1,\"#276419\"]]},\"xaxis\":{\"gridcolor\":\"white\",\"linecolor\":\"white\",\"ticks\":\"\",\"title\":{\"standoff\":15},\"zerolinecolor\":\"white\",\"automargin\":true,\"zerolinewidth\":2},\"yaxis\":{\"gridcolor\":\"white\",\"linecolor\":\"white\",\"ticks\":\"\",\"title\":{\"standoff\":15},\"zerolinecolor\":\"white\",\"automargin\":true,\"zerolinewidth\":2},\"scene\":{\"xaxis\":{\"backgroundcolor\":\"#E5ECF6\",\"gridcolor\":\"white\",\"linecolor\":\"white\",\"showbackground\":true,\"ticks\":\"\",\"zerolinecolor\":\"white\",\"gridwidth\":2},\"yaxis\":{\"backgroundcolor\":\"#E5ECF6\",\"gridcolor\":\"white\",\"linecolor\":\"white\",\"showbackground\":true,\"ticks\":\"\",\"zerolinecolor\":\"white\",\"gridwidth\":2},\"zaxis\":{\"backgroundcolor\":\"#E5ECF6\",\"gridcolor\":\"white\",\"linecolor\":\"white\",\"showbackground\":true,\"ticks\":\"\",\"zerolinecolor\":\"white\",\"gridwidth\":2}},\"shapedefaults\":{\"line\":{\"color\":\"#2a3f5f\"}},\"annotationdefaults\":{\"arrowcolor\":\"#2a3f5f\",\"arrowhead\":0,\"arrowwidth\":1},\"geo\":{\"bgcolor\":\"white\",\"landcolor\":\"#E5ECF6\",\"subunitcolor\":\"white\",\"showland\":true,\"showlakes\":true,\"lakecolor\":\"white\"},\"title\":{\"x\":0.05},\"mapbox\":{\"style\":\"light\"}}},\"xaxis\":{\"anchor\":\"y\",\"domain\":[0.0,1.0],\"title\":{\"text\":\"frequency [count]\"}},\"yaxis\":{\"anchor\":\"x\",\"domain\":[0.0,1.0],\"title\":{\"text\":\"Country\"}},\"legend\":{\"tracegroupgap\":0},\"title\":{\"text\":\"DS Applicants: Nationality\"},\"barmode\":\"relative\"},                        {\"responsive\": true}                    ).then(function(){\n",
       "                            \n",
       "var gd = document.getElementById('1d2f9371-f0cc-44c6-ab38-85433f995816');\n",
       "var x = new MutationObserver(function (mutations, observer) {{\n",
       "        var display = window.getComputedStyle(gd).display;\n",
       "        if (!display || display === 'none') {{\n",
       "            console.log([gd, 'removed!']);\n",
       "            Plotly.purge(gd);\n",
       "            observer.disconnect();\n",
       "        }}\n",
       "}});\n",
       "\n",
       "// Listen for the removal of the full notebook cells\n",
       "var notebookContainer = gd.closest('#notebook-container');\n",
       "if (notebookContainer) {{\n",
       "    x.observe(notebookContainer, {childList: true});\n",
       "}}\n",
       "\n",
       "// Listen for the clearing of the current output cell\n",
       "var outputEl = gd.closest('.output');\n",
       "if (outputEl) {{\n",
       "    x.observe(outputEl, {childList: true});\n",
       "}}\n",
       "\n",
       "                        })                };                });            </script>        </div>"
      ]
     },
     "metadata": {},
     "output_type": "display_data"
    }
   ],
   "source": [
    "# Create horizontal bar chart\n",
    "fig = px.bar(\n",
    "    data_frame=df_nationality.tail(10),\n",
    "    x=\"count\",\n",
    "    y=\"country_name\",\n",
    "    orientation=\"h\",\n",
    "    title=\"DS Applicants: Nationality\"\n",
    ")\n",
    "# Set axis labels\n",
    "fig.update_layout(xaxis_title=\"frequency [count]\", yaxis_title=\"Country\")\n",
    "fig.show()"
   ]
  },
  {
   "cell_type": "markdown",
   "id": "8076c787-8f9e-4942-ab62-94b5d6267ded",
   "metadata": {},
   "source": [
    "### Normaliza Nationality (What Percentage Does each Country Represent)"
   ]
  },
  {
   "cell_type": "code",
   "execution_count": 66,
   "id": "5a6e8849-f97a-4c7d-bd42-9d822f066edf",
   "metadata": {},
   "outputs": [
    {
     "name": "stdout",
     "output_type": "stream",
     "text": [
      "df_nationality shape: (138, 4)\n"
     ]
    },
    {
     "data": {
      "text/html": [
       "<div>\n",
       "<style scoped>\n",
       "    .dataframe tbody tr th:only-of-type {\n",
       "        vertical-align: middle;\n",
       "    }\n",
       "\n",
       "    .dataframe tbody tr th {\n",
       "        vertical-align: top;\n",
       "    }\n",
       "\n",
       "    .dataframe thead th {\n",
       "        text-align: right;\n",
       "    }\n",
       "</style>\n",
       "<table border=\"1\" class=\"dataframe\">\n",
       "  <thead>\n",
       "    <tr style=\"text-align: right;\">\n",
       "      <th></th>\n",
       "      <th>country_iso2</th>\n",
       "      <th>count</th>\n",
       "      <th>country_name</th>\n",
       "      <th>count_pct</th>\n",
       "    </tr>\n",
       "  </thead>\n",
       "  <tbody>\n",
       "    <tr>\n",
       "      <th>137</th>\n",
       "      <td>GA</td>\n",
       "      <td>1</td>\n",
       "      <td>Gabon</td>\n",
       "      <td>0.019928</td>\n",
       "    </tr>\n",
       "    <tr>\n",
       "      <th>110</th>\n",
       "      <td>GQ</td>\n",
       "      <td>1</td>\n",
       "      <td>Equatorial Guinea</td>\n",
       "      <td>0.019928</td>\n",
       "    </tr>\n",
       "    <tr>\n",
       "      <th>111</th>\n",
       "      <td>BE</td>\n",
       "      <td>1</td>\n",
       "      <td>Belgium</td>\n",
       "      <td>0.019928</td>\n",
       "    </tr>\n",
       "    <tr>\n",
       "      <th>112</th>\n",
       "      <td>SE</td>\n",
       "      <td>1</td>\n",
       "      <td>Sweden</td>\n",
       "      <td>0.019928</td>\n",
       "    </tr>\n",
       "    <tr>\n",
       "      <th>113</th>\n",
       "      <td>KH</td>\n",
       "      <td>1</td>\n",
       "      <td>Cambodia</td>\n",
       "      <td>0.019928</td>\n",
       "    </tr>\n",
       "  </tbody>\n",
       "</table>\n",
       "</div>"
      ],
      "text/plain": [
       "    country_iso2  count       country_name  count_pct\n",
       "137           GA      1              Gabon   0.019928\n",
       "110           GQ      1  Equatorial Guinea   0.019928\n",
       "111           BE      1            Belgium   0.019928\n",
       "112           SE      1             Sweden   0.019928\n",
       "113           KH      1           Cambodia   0.019928"
      ]
     },
     "execution_count": 66,
     "metadata": {},
     "output_type": "execute_result"
    }
   ],
   "source": [
    "df_nationality[\"count_pct\"] = (\n",
    "    (df_nationality[\"count\"] / df_nationality[\"count\"].sum()) * 100\n",
    ")\n",
    "print(\"df_nationality shape:\", df_nationality.shape)\n",
    "df_nationality.head()"
   ]
  },
  {
   "cell_type": "code",
   "execution_count": 69,
   "id": "8dcbc192-79ce-44aa-a60b-97ea62ebd94c",
   "metadata": {},
   "outputs": [
    {
     "data": {
      "application/vnd.plotly.v1+json": {
       "config": {
        "plotlyServerURL": "https://plot.ly"
       },
       "data": [
        {
         "alignmentgroup": "True",
         "hovertemplate": "count_pct=%{x}<br>country_name=%{y}<extra></extra>",
         "legendgroup": "",
         "marker": {
          "color": "#636efa",
          "pattern": {
           "shape": ""
          }
         },
         "name": "",
         "offsetgroup": "",
         "orientation": "h",
         "showlegend": false,
         "textposition": "auto",
         "type": "bar",
         "x": [
          1.8732562774013553,
          1.9330410522120367,
          2.172180151454763,
          3.328019131127939,
          3.726584296532483,
          5.061777600637704,
          6.0581905141490635,
          10.18333997608609,
          11.31925069748904,
          24.671183738541252
         ],
         "xaxis": "x",
         "y": [
          "Zimbabwe",
          "United States",
          "Philippines",
          "Ghana",
          "Ethiopia",
          "Bangladesh",
          "Kenya",
          "India",
          "Pakistan",
          "Nigeria"
         ],
         "yaxis": "y"
        }
       ],
       "layout": {
        "autosize": true,
        "barmode": "relative",
        "legend": {
         "tracegroupgap": 0
        },
        "template": {
         "data": {
          "bar": [
           {
            "error_x": {
             "color": "#2a3f5f"
            },
            "error_y": {
             "color": "#2a3f5f"
            },
            "marker": {
             "line": {
              "color": "#E5ECF6",
              "width": 0.5
             },
             "pattern": {
              "fillmode": "overlay",
              "size": 10,
              "solidity": 0.2
             }
            },
            "type": "bar"
           }
          ],
          "barpolar": [
           {
            "marker": {
             "line": {
              "color": "#E5ECF6",
              "width": 0.5
             },
             "pattern": {
              "fillmode": "overlay",
              "size": 10,
              "solidity": 0.2
             }
            },
            "type": "barpolar"
           }
          ],
          "carpet": [
           {
            "aaxis": {
             "endlinecolor": "#2a3f5f",
             "gridcolor": "white",
             "linecolor": "white",
             "minorgridcolor": "white",
             "startlinecolor": "#2a3f5f"
            },
            "baxis": {
             "endlinecolor": "#2a3f5f",
             "gridcolor": "white",
             "linecolor": "white",
             "minorgridcolor": "white",
             "startlinecolor": "#2a3f5f"
            },
            "type": "carpet"
           }
          ],
          "choropleth": [
           {
            "colorbar": {
             "outlinewidth": 0,
             "ticks": ""
            },
            "type": "choropleth"
           }
          ],
          "contour": [
           {
            "colorbar": {
             "outlinewidth": 0,
             "ticks": ""
            },
            "colorscale": [
             [
              0,
              "#0d0887"
             ],
             [
              0.1111111111111111,
              "#46039f"
             ],
             [
              0.2222222222222222,
              "#7201a8"
             ],
             [
              0.3333333333333333,
              "#9c179e"
             ],
             [
              0.4444444444444444,
              "#bd3786"
             ],
             [
              0.5555555555555556,
              "#d8576b"
             ],
             [
              0.6666666666666666,
              "#ed7953"
             ],
             [
              0.7777777777777778,
              "#fb9f3a"
             ],
             [
              0.8888888888888888,
              "#fdca26"
             ],
             [
              1,
              "#f0f921"
             ]
            ],
            "type": "contour"
           }
          ],
          "contourcarpet": [
           {
            "colorbar": {
             "outlinewidth": 0,
             "ticks": ""
            },
            "type": "contourcarpet"
           }
          ],
          "heatmap": [
           {
            "colorbar": {
             "outlinewidth": 0,
             "ticks": ""
            },
            "colorscale": [
             [
              0,
              "#0d0887"
             ],
             [
              0.1111111111111111,
              "#46039f"
             ],
             [
              0.2222222222222222,
              "#7201a8"
             ],
             [
              0.3333333333333333,
              "#9c179e"
             ],
             [
              0.4444444444444444,
              "#bd3786"
             ],
             [
              0.5555555555555556,
              "#d8576b"
             ],
             [
              0.6666666666666666,
              "#ed7953"
             ],
             [
              0.7777777777777778,
              "#fb9f3a"
             ],
             [
              0.8888888888888888,
              "#fdca26"
             ],
             [
              1,
              "#f0f921"
             ]
            ],
            "type": "heatmap"
           }
          ],
          "heatmapgl": [
           {
            "colorbar": {
             "outlinewidth": 0,
             "ticks": ""
            },
            "colorscale": [
             [
              0,
              "#0d0887"
             ],
             [
              0.1111111111111111,
              "#46039f"
             ],
             [
              0.2222222222222222,
              "#7201a8"
             ],
             [
              0.3333333333333333,
              "#9c179e"
             ],
             [
              0.4444444444444444,
              "#bd3786"
             ],
             [
              0.5555555555555556,
              "#d8576b"
             ],
             [
              0.6666666666666666,
              "#ed7953"
             ],
             [
              0.7777777777777778,
              "#fb9f3a"
             ],
             [
              0.8888888888888888,
              "#fdca26"
             ],
             [
              1,
              "#f0f921"
             ]
            ],
            "type": "heatmapgl"
           }
          ],
          "histogram": [
           {
            "marker": {
             "pattern": {
              "fillmode": "overlay",
              "size": 10,
              "solidity": 0.2
             }
            },
            "type": "histogram"
           }
          ],
          "histogram2d": [
           {
            "colorbar": {
             "outlinewidth": 0,
             "ticks": ""
            },
            "colorscale": [
             [
              0,
              "#0d0887"
             ],
             [
              0.1111111111111111,
              "#46039f"
             ],
             [
              0.2222222222222222,
              "#7201a8"
             ],
             [
              0.3333333333333333,
              "#9c179e"
             ],
             [
              0.4444444444444444,
              "#bd3786"
             ],
             [
              0.5555555555555556,
              "#d8576b"
             ],
             [
              0.6666666666666666,
              "#ed7953"
             ],
             [
              0.7777777777777778,
              "#fb9f3a"
             ],
             [
              0.8888888888888888,
              "#fdca26"
             ],
             [
              1,
              "#f0f921"
             ]
            ],
            "type": "histogram2d"
           }
          ],
          "histogram2dcontour": [
           {
            "colorbar": {
             "outlinewidth": 0,
             "ticks": ""
            },
            "colorscale": [
             [
              0,
              "#0d0887"
             ],
             [
              0.1111111111111111,
              "#46039f"
             ],
             [
              0.2222222222222222,
              "#7201a8"
             ],
             [
              0.3333333333333333,
              "#9c179e"
             ],
             [
              0.4444444444444444,
              "#bd3786"
             ],
             [
              0.5555555555555556,
              "#d8576b"
             ],
             [
              0.6666666666666666,
              "#ed7953"
             ],
             [
              0.7777777777777778,
              "#fb9f3a"
             ],
             [
              0.8888888888888888,
              "#fdca26"
             ],
             [
              1,
              "#f0f921"
             ]
            ],
            "type": "histogram2dcontour"
           }
          ],
          "mesh3d": [
           {
            "colorbar": {
             "outlinewidth": 0,
             "ticks": ""
            },
            "type": "mesh3d"
           }
          ],
          "parcoords": [
           {
            "line": {
             "colorbar": {
              "outlinewidth": 0,
              "ticks": ""
             }
            },
            "type": "parcoords"
           }
          ],
          "pie": [
           {
            "automargin": true,
            "type": "pie"
           }
          ],
          "scatter": [
           {
            "fillpattern": {
             "fillmode": "overlay",
             "size": 10,
             "solidity": 0.2
            },
            "type": "scatter"
           }
          ],
          "scatter3d": [
           {
            "line": {
             "colorbar": {
              "outlinewidth": 0,
              "ticks": ""
             }
            },
            "marker": {
             "colorbar": {
              "outlinewidth": 0,
              "ticks": ""
             }
            },
            "type": "scatter3d"
           }
          ],
          "scattercarpet": [
           {
            "marker": {
             "colorbar": {
              "outlinewidth": 0,
              "ticks": ""
             }
            },
            "type": "scattercarpet"
           }
          ],
          "scattergeo": [
           {
            "marker": {
             "colorbar": {
              "outlinewidth": 0,
              "ticks": ""
             }
            },
            "type": "scattergeo"
           }
          ],
          "scattergl": [
           {
            "marker": {
             "colorbar": {
              "outlinewidth": 0,
              "ticks": ""
             }
            },
            "type": "scattergl"
           }
          ],
          "scattermapbox": [
           {
            "marker": {
             "colorbar": {
              "outlinewidth": 0,
              "ticks": ""
             }
            },
            "type": "scattermapbox"
           }
          ],
          "scatterpolar": [
           {
            "marker": {
             "colorbar": {
              "outlinewidth": 0,
              "ticks": ""
             }
            },
            "type": "scatterpolar"
           }
          ],
          "scatterpolargl": [
           {
            "marker": {
             "colorbar": {
              "outlinewidth": 0,
              "ticks": ""
             }
            },
            "type": "scatterpolargl"
           }
          ],
          "scatterternary": [
           {
            "marker": {
             "colorbar": {
              "outlinewidth": 0,
              "ticks": ""
             }
            },
            "type": "scatterternary"
           }
          ],
          "surface": [
           {
            "colorbar": {
             "outlinewidth": 0,
             "ticks": ""
            },
            "colorscale": [
             [
              0,
              "#0d0887"
             ],
             [
              0.1111111111111111,
              "#46039f"
             ],
             [
              0.2222222222222222,
              "#7201a8"
             ],
             [
              0.3333333333333333,
              "#9c179e"
             ],
             [
              0.4444444444444444,
              "#bd3786"
             ],
             [
              0.5555555555555556,
              "#d8576b"
             ],
             [
              0.6666666666666666,
              "#ed7953"
             ],
             [
              0.7777777777777778,
              "#fb9f3a"
             ],
             [
              0.8888888888888888,
              "#fdca26"
             ],
             [
              1,
              "#f0f921"
             ]
            ],
            "type": "surface"
           }
          ],
          "table": [
           {
            "cells": {
             "fill": {
              "color": "#EBF0F8"
             },
             "line": {
              "color": "white"
             }
            },
            "header": {
             "fill": {
              "color": "#C8D4E3"
             },
             "line": {
              "color": "white"
             }
            },
            "type": "table"
           }
          ]
         },
         "layout": {
          "annotationdefaults": {
           "arrowcolor": "#2a3f5f",
           "arrowhead": 0,
           "arrowwidth": 1
          },
          "autotypenumbers": "strict",
          "coloraxis": {
           "colorbar": {
            "outlinewidth": 0,
            "ticks": ""
           }
          },
          "colorscale": {
           "diverging": [
            [
             0,
             "#8e0152"
            ],
            [
             0.1,
             "#c51b7d"
            ],
            [
             0.2,
             "#de77ae"
            ],
            [
             0.3,
             "#f1b6da"
            ],
            [
             0.4,
             "#fde0ef"
            ],
            [
             0.5,
             "#f7f7f7"
            ],
            [
             0.6,
             "#e6f5d0"
            ],
            [
             0.7,
             "#b8e186"
            ],
            [
             0.8,
             "#7fbc41"
            ],
            [
             0.9,
             "#4d9221"
            ],
            [
             1,
             "#276419"
            ]
           ],
           "sequential": [
            [
             0,
             "#0d0887"
            ],
            [
             0.1111111111111111,
             "#46039f"
            ],
            [
             0.2222222222222222,
             "#7201a8"
            ],
            [
             0.3333333333333333,
             "#9c179e"
            ],
            [
             0.4444444444444444,
             "#bd3786"
            ],
            [
             0.5555555555555556,
             "#d8576b"
            ],
            [
             0.6666666666666666,
             "#ed7953"
            ],
            [
             0.7777777777777778,
             "#fb9f3a"
            ],
            [
             0.8888888888888888,
             "#fdca26"
            ],
            [
             1,
             "#f0f921"
            ]
           ],
           "sequentialminus": [
            [
             0,
             "#0d0887"
            ],
            [
             0.1111111111111111,
             "#46039f"
            ],
            [
             0.2222222222222222,
             "#7201a8"
            ],
            [
             0.3333333333333333,
             "#9c179e"
            ],
            [
             0.4444444444444444,
             "#bd3786"
            ],
            [
             0.5555555555555556,
             "#d8576b"
            ],
            [
             0.6666666666666666,
             "#ed7953"
            ],
            [
             0.7777777777777778,
             "#fb9f3a"
            ],
            [
             0.8888888888888888,
             "#fdca26"
            ],
            [
             1,
             "#f0f921"
            ]
           ]
          },
          "colorway": [
           "#636efa",
           "#EF553B",
           "#00cc96",
           "#ab63fa",
           "#FFA15A",
           "#19d3f3",
           "#FF6692",
           "#B6E880",
           "#FF97FF",
           "#FECB52"
          ],
          "font": {
           "color": "#2a3f5f"
          },
          "geo": {
           "bgcolor": "white",
           "lakecolor": "white",
           "landcolor": "#E5ECF6",
           "showlakes": true,
           "showland": true,
           "subunitcolor": "white"
          },
          "hoverlabel": {
           "align": "left"
          },
          "hovermode": "closest",
          "mapbox": {
           "style": "light"
          },
          "paper_bgcolor": "white",
          "plot_bgcolor": "#E5ECF6",
          "polar": {
           "angularaxis": {
            "gridcolor": "white",
            "linecolor": "white",
            "ticks": ""
           },
           "bgcolor": "#E5ECF6",
           "radialaxis": {
            "gridcolor": "white",
            "linecolor": "white",
            "ticks": ""
           }
          },
          "scene": {
           "xaxis": {
            "backgroundcolor": "#E5ECF6",
            "gridcolor": "white",
            "gridwidth": 2,
            "linecolor": "white",
            "showbackground": true,
            "ticks": "",
            "zerolinecolor": "white"
           },
           "yaxis": {
            "backgroundcolor": "#E5ECF6",
            "gridcolor": "white",
            "gridwidth": 2,
            "linecolor": "white",
            "showbackground": true,
            "ticks": "",
            "zerolinecolor": "white"
           },
           "zaxis": {
            "backgroundcolor": "#E5ECF6",
            "gridcolor": "white",
            "gridwidth": 2,
            "linecolor": "white",
            "showbackground": true,
            "ticks": "",
            "zerolinecolor": "white"
           }
          },
          "shapedefaults": {
           "line": {
            "color": "#2a3f5f"
           }
          },
          "ternary": {
           "aaxis": {
            "gridcolor": "white",
            "linecolor": "white",
            "ticks": ""
           },
           "baxis": {
            "gridcolor": "white",
            "linecolor": "white",
            "ticks": ""
           },
           "bgcolor": "#E5ECF6",
           "caxis": {
            "gridcolor": "white",
            "linecolor": "white",
            "ticks": ""
           }
          },
          "title": {
           "x": 0.05
          },
          "xaxis": {
           "automargin": true,
           "gridcolor": "white",
           "linecolor": "white",
           "ticks": "",
           "title": {
            "standoff": 15
           },
           "zerolinecolor": "white",
           "zerolinewidth": 2
          },
          "yaxis": {
           "automargin": true,
           "gridcolor": "white",
           "linecolor": "white",
           "ticks": "",
           "title": {
            "standoff": 15
           },
           "zerolinecolor": "white",
           "zerolinewidth": 2
          }
         }
        },
        "title": {
         "text": "DS Applicants: Nationality"
        },
        "xaxis": {
         "anchor": "y",
         "autorange": true,
         "domain": [
          0,
          1
         ],
         "range": [
          0,
          25.96966709320132
         ],
         "title": {
          "text": "Frequency [%]"
         },
         "type": "linear"
        },
        "yaxis": {
         "anchor": "x",
         "autorange": true,
         "domain": [
          0,
          1
         ],
         "range": [
          -0.5,
          9.5
         ],
         "title": {
          "text": "Country"
         },
         "type": "category"
        }
       }
      },
      "image/png": "[encoded data removed]",
      "text/html": [
       "<div>                            <div id=\"27eba4d1-2b31-4c5d-b124-dbf58b62782b\" class=\"plotly-graph-div\" style=\"height:525px; width:100%;\"></div>            <script type=\"text/javascript\">                require([\"plotly\"], function(Plotly) {                    window.PLOTLYENV=window.PLOTLYENV || {};                                    if (document.getElementById(\"27eba4d1-2b31-4c5d-b124-dbf58b62782b\")) {                    Plotly.newPlot(                        \"27eba4d1-2b31-4c5d-b124-dbf58b62782b\",                        [{\"alignmentgroup\":\"True\",\"hovertemplate\":\"count_pct=%{x}\\u003cbr\\u003ecountry_name=%{y}\\u003cextra\\u003e\\u003c\\u002fextra\\u003e\",\"legendgroup\":\"\",\"marker\":{\"color\":\"#636efa\",\"pattern\":{\"shape\":\"\"}},\"name\":\"\",\"offsetgroup\":\"\",\"orientation\":\"h\",\"showlegend\":false,\"textposition\":\"auto\",\"x\":[1.8732562774013553,1.9330410522120367,2.172180151454763,3.328019131127939,3.726584296532483,5.061777600637704,6.0581905141490635,10.18333997608609,11.31925069748904,24.671183738541252],\"xaxis\":\"x\",\"y\":[\"Zimbabwe\",\"United States\",\"Philippines\",\"Ghana\",\"Ethiopia\",\"Bangladesh\",\"Kenya\",\"India\",\"Pakistan\",\"Nigeria\"],\"yaxis\":\"y\",\"type\":\"bar\"}],                        {\"template\":{\"data\":{\"histogram2dcontour\":[{\"type\":\"histogram2dcontour\",\"colorbar\":{\"outlinewidth\":0,\"ticks\":\"\"},\"colorscale\":[[0.0,\"#0d0887\"],[0.1111111111111111,\"#46039f\"],[0.2222222222222222,\"#7201a8\"],[0.3333333333333333,\"#9c179e\"],[0.4444444444444444,\"#bd3786\"],[0.5555555555555556,\"#d8576b\"],[0.6666666666666666,\"#ed7953\"],[0.7777777777777778,\"#fb9f3a\"],[0.8888888888888888,\"#fdca26\"],[1.0,\"#f0f921\"]]}],\"choropleth\":[{\"type\":\"choropleth\",\"colorbar\":{\"outlinewidth\":0,\"ticks\":\"\"}}],\"histogram2d\":[{\"type\":\"histogram2d\",\"colorbar\":{\"outlinewidth\":0,\"ticks\":\"\"},\"colorscale\":[[0.0,\"#0d0887\"],[0.1111111111111111,\"#46039f\"],[0.2222222222222222,\"#7201a8\"],[0.3333333333333333,\"#9c179e\"],[0.4444444444444444,\"#bd3786\"],[0.5555555555555556,\"#d8576b\"],[0.6666666666666666,\"#ed7953\"],[0.7777777777777778,\"#fb9f3a\"],[0.8888888888888888,\"#fdca26\"],[1.0,\"#f0f921\"]]}],\"heatmap\":[{\"type\":\"heatmap\",\"colorbar\":{\"outlinewidth\":0,\"ticks\":\"\"},\"colorscale\":[[0.0,\"#0d0887\"],[0.1111111111111111,\"#46039f\"],[0.2222222222222222,\"#7201a8\"],[0.3333333333333333,\"#9c179e\"],[0.4444444444444444,\"#bd3786\"],[0.5555555555555556,\"#d8576b\"],[0.6666666666666666,\"#ed7953\"],[0.7777777777777778,\"#fb9f3a\"],[0.8888888888888888,\"#fdca26\"],[1.0,\"#f0f921\"]]}],\"heatmapgl\":[{\"type\":\"heatmapgl\",\"colorbar\":{\"outlinewidth\":0,\"ticks\":\"\"},\"colorscale\":[[0.0,\"#0d0887\"],[0.1111111111111111,\"#46039f\"],[0.2222222222222222,\"#7201a8\"],[0.3333333333333333,\"#9c179e\"],[0.4444444444444444,\"#bd3786\"],[0.5555555555555556,\"#d8576b\"],[0.6666666666666666,\"#ed7953\"],[0.7777777777777778,\"#fb9f3a\"],[0.8888888888888888,\"#fdca26\"],[1.0,\"#f0f921\"]]}],\"contourcarpet\":[{\"type\":\"contourcarpet\",\"colorbar\":{\"outlinewidth\":0,\"ticks\":\"\"}}],\"contour\":[{\"type\":\"contour\",\"colorbar\":{\"outlinewidth\":0,\"ticks\":\"\"},\"colorscale\":[[0.0,\"#0d0887\"],[0.1111111111111111,\"#46039f\"],[0.2222222222222222,\"#7201a8\"],[0.3333333333333333,\"#9c179e\"],[0.4444444444444444,\"#bd3786\"],[0.5555555555555556,\"#d8576b\"],[0.6666666666666666,\"#ed7953\"],[0.7777777777777778,\"#fb9f3a\"],[0.8888888888888888,\"#fdca26\"],[1.0,\"#f0f921\"]]}],\"surface\":[{\"type\":\"surface\",\"colorbar\":{\"outlinewidth\":0,\"ticks\":\"\"},\"colorscale\":[[0.0,\"#0d0887\"],[0.1111111111111111,\"#46039f\"],[0.2222222222222222,\"#7201a8\"],[0.3333333333333333,\"#9c179e\"],[0.4444444444444444,\"#bd3786\"],[0.5555555555555556,\"#d8576b\"],[0.6666666666666666,\"#ed7953\"],[0.7777777777777778,\"#fb9f3a\"],[0.8888888888888888,\"#fdca26\"],[1.0,\"#f0f921\"]]}],\"mesh3d\":[{\"type\":\"mesh3d\",\"colorbar\":{\"outlinewidth\":0,\"ticks\":\"\"}}],\"scatter\":[{\"fillpattern\":{\"fillmode\":\"overlay\",\"size\":10,\"solidity\":0.2},\"type\":\"scatter\"}],\"parcoords\":[{\"type\":\"parcoords\",\"line\":{\"colorbar\":{\"outlinewidth\":0,\"ticks\":\"\"}}}],\"scatterpolargl\":[{\"type\":\"scatterpolargl\",\"marker\":{\"colorbar\":{\"outlinewidth\":0,\"ticks\":\"\"}}}],\"bar\":[{\"error_x\":{\"color\":\"#2a3f5f\"},\"error_y\":{\"color\":\"#2a3f5f\"},\"marker\":{\"line\":{\"color\":\"#E5ECF6\",\"width\":0.5},\"pattern\":{\"fillmode\":\"overlay\",\"size\":10,\"solidity\":0.2}},\"type\":\"bar\"}],\"scattergeo\":[{\"type\":\"scattergeo\",\"marker\":{\"colorbar\":{\"outlinewidth\":0,\"ticks\":\"\"}}}],\"scatterpolar\":[{\"type\":\"scatterpolar\",\"marker\":{\"colorbar\":{\"outlinewidth\":0,\"ticks\":\"\"}}}],\"histogram\":[{\"marker\":{\"pattern\":{\"fillmode\":\"overlay\",\"size\":10,\"solidity\":0.2}},\"type\":\"histogram\"}],\"scattergl\":[{\"type\":\"scattergl\",\"marker\":{\"colorbar\":{\"outlinewidth\":0,\"ticks\":\"\"}}}],\"scatter3d\":[{\"type\":\"scatter3d\",\"line\":{\"colorbar\":{\"outlinewidth\":0,\"ticks\":\"\"}},\"marker\":{\"colorbar\":{\"outlinewidth\":0,\"ticks\":\"\"}}}],\"scattermapbox\":[{\"type\":\"scattermapbox\",\"marker\":{\"colorbar\":{\"outlinewidth\":0,\"ticks\":\"\"}}}],\"scatterternary\":[{\"type\":\"scatterternary\",\"marker\":{\"colorbar\":{\"outlinewidth\":0,\"ticks\":\"\"}}}],\"scattercarpet\":[{\"type\":\"scattercarpet\",\"marker\":{\"colorbar\":{\"outlinewidth\":0,\"ticks\":\"\"}}}],\"carpet\":[{\"aaxis\":{\"endlinecolor\":\"#2a3f5f\",\"gridcolor\":\"white\",\"linecolor\":\"white\",\"minorgridcolor\":\"white\",\"startlinecolor\":\"#2a3f5f\"},\"baxis\":{\"endlinecolor\":\"#2a3f5f\",\"gridcolor\":\"white\",\"linecolor\":\"white\",\"minorgridcolor\":\"white\",\"startlinecolor\":\"#2a3f5f\"},\"type\":\"carpet\"}],\"table\":[{\"cells\":{\"fill\":{\"color\":\"#EBF0F8\"},\"line\":{\"color\":\"white\"}},\"header\":{\"fill\":{\"color\":\"#C8D4E3\"},\"line\":{\"color\":\"white\"}},\"type\":\"table\"}],\"barpolar\":[{\"marker\":{\"line\":{\"color\":\"#E5ECF6\",\"width\":0.5},\"pattern\":{\"fillmode\":\"overlay\",\"size\":10,\"solidity\":0.2}},\"type\":\"barpolar\"}],\"pie\":[{\"automargin\":true,\"type\":\"pie\"}]},\"layout\":{\"autotypenumbers\":\"strict\",\"colorway\":[\"#636efa\",\"#EF553B\",\"#00cc96\",\"#ab63fa\",\"#FFA15A\",\"#19d3f3\",\"#FF6692\",\"#B6E880\",\"#FF97FF\",\"#FECB52\"],\"font\":{\"color\":\"#2a3f5f\"},\"hovermode\":\"closest\",\"hoverlabel\":{\"align\":\"left\"},\"paper_bgcolor\":\"white\",\"plot_bgcolor\":\"#E5ECF6\",\"polar\":{\"bgcolor\":\"#E5ECF6\",\"angularaxis\":{\"gridcolor\":\"white\",\"linecolor\":\"white\",\"ticks\":\"\"},\"radialaxis\":{\"gridcolor\":\"white\",\"linecolor\":\"white\",\"ticks\":\"\"}},\"ternary\":{\"bgcolor\":\"#E5ECF6\",\"aaxis\":{\"gridcolor\":\"white\",\"linecolor\":\"white\",\"ticks\":\"\"},\"baxis\":{\"gridcolor\":\"white\",\"linecolor\":\"white\",\"ticks\":\"\"},\"caxis\":{\"gridcolor\":\"white\",\"linecolor\":\"white\",\"ticks\":\"\"}},\"coloraxis\":{\"colorbar\":{\"outlinewidth\":0,\"ticks\":\"\"}},\"colorscale\":{\"sequential\":[[0.0,\"#0d0887\"],[0.1111111111111111,\"#46039f\"],[0.2222222222222222,\"#7201a8\"],[0.3333333333333333,\"#9c179e\"],[0.4444444444444444,\"#bd3786\"],[0.5555555555555556,\"#d8576b\"],[0.6666666666666666,\"#ed7953\"],[0.7777777777777778,\"#fb9f3a\"],[0.8888888888888888,\"#fdca26\"],[1.0,\"#f0f921\"]],\"sequentialminus\":[[0.0,\"#0d0887\"],[0.1111111111111111,\"#46039f\"],[0.2222222222222222,\"#7201a8\"],[0.3333333333333333,\"#9c179e\"],[0.4444444444444444,\"#bd3786\"],[0.5555555555555556,\"#d8576b\"],[0.6666666666666666,\"#ed7953\"],[0.7777777777777778,\"#fb9f3a\"],[0.8888888888888888,\"#fdca26\"],[1.0,\"#f0f921\"]],\"diverging\":[[0,\"#8e0152\"],[0.1,\"#c51b7d\"],[0.2,\"#de77ae\"],[0.3,\"#f1b6da\"],[0.4,\"#fde0ef\"],[0.5,\"#f7f7f7\"],[0.6,\"#e6f5d0\"],[0.7,\"#b8e186\"],[0.8,\"#7fbc41\"],[0.9,\"#4d9221\"],[1,\"#276419\"]]},\"xaxis\":{\"gridcolor\":\"white\",\"linecolor\":\"white\",\"ticks\":\"\",\"title\":{\"standoff\":15},\"zerolinecolor\":\"white\",\"automargin\":true,\"zerolinewidth\":2},\"yaxis\":{\"gridcolor\":\"white\",\"linecolor\":\"white\",\"ticks\":\"\",\"title\":{\"standoff\":15},\"zerolinecolor\":\"white\",\"automargin\":true,\"zerolinewidth\":2},\"scene\":{\"xaxis\":{\"backgroundcolor\":\"#E5ECF6\",\"gridcolor\":\"white\",\"linecolor\":\"white\",\"showbackground\":true,\"ticks\":\"\",\"zerolinecolor\":\"white\",\"gridwidth\":2},\"yaxis\":{\"backgroundcolor\":\"#E5ECF6\",\"gridcolor\":\"white\",\"linecolor\":\"white\",\"showbackground\":true,\"ticks\":\"\",\"zerolinecolor\":\"white\",\"gridwidth\":2},\"zaxis\":{\"backgroundcolor\":\"#E5ECF6\",\"gridcolor\":\"white\",\"linecolor\":\"white\",\"showbackground\":true,\"ticks\":\"\",\"zerolinecolor\":\"white\",\"gridwidth\":2}},\"shapedefaults\":{\"line\":{\"color\":\"#2a3f5f\"}},\"annotationdefaults\":{\"arrowcolor\":\"#2a3f5f\",\"arrowhead\":0,\"arrowwidth\":1},\"geo\":{\"bgcolor\":\"white\",\"landcolor\":\"#E5ECF6\",\"subunitcolor\":\"white\",\"showland\":true,\"showlakes\":true,\"lakecolor\":\"white\"},\"title\":{\"x\":0.05},\"mapbox\":{\"style\":\"light\"}}},\"xaxis\":{\"anchor\":\"y\",\"domain\":[0.0,1.0],\"title\":{\"text\":\"Frequency [%]\"}},\"yaxis\":{\"anchor\":\"x\",\"domain\":[0.0,1.0],\"title\":{\"text\":\"Country\"}},\"legend\":{\"tracegroupgap\":0},\"title\":{\"text\":\"DS Applicants: Nationality\"},\"barmode\":\"relative\"},                        {\"responsive\": true}                    ).then(function(){\n",
       "                            \n",
       "var gd = document.getElementById('27eba4d1-2b31-4c5d-b124-dbf58b62782b');\n",
       "var x = new MutationObserver(function (mutations, observer) {{\n",
       "        var display = window.getComputedStyle(gd).display;\n",
       "        if (!display || display === 'none') {{\n",
       "            console.log([gd, 'removed!']);\n",
       "            Plotly.purge(gd);\n",
       "            observer.disconnect();\n",
       "        }}\n",
       "}});\n",
       "\n",
       "// Listen for the removal of the full notebook cells\n",
       "var notebookContainer = gd.closest('#notebook-container');\n",
       "if (notebookContainer) {{\n",
       "    x.observe(notebookContainer, {childList: true});\n",
       "}}\n",
       "\n",
       "// Listen for the clearing of the current output cell\n",
       "var outputEl = gd.closest('.output');\n",
       "if (outputEl) {{\n",
       "    x.observe(outputEl, {childList: true});\n",
       "}}\n",
       "\n",
       "                        })                };                });            </script>        </div>"
      ]
     },
     "metadata": {},
     "output_type": "display_data"
    }
   ],
   "source": [
    "# Create horizontal bar chart\n",
    "fig = px.bar(\n",
    "    data_frame=df_nationality.tail(10),\n",
    "    x=\"count_pct\",\n",
    "    y=\"country_name\",\n",
    "    orientation=\"h\",\n",
    "    title=\"DS Applicants: Nationality\"\n",
    ")\n",
    "# Set axis labels\n",
    "fig.update_layout(xaxis_title=\"Frequency [%]\", yaxis_title=\"Country\")\n",
    "fig.show()"
   ]
  },
  {
   "cell_type": "markdown",
   "id": "ba0c6a15-5138-4b8a-833c-c3343741c09a",
   "metadata": {},
   "source": [
    "#### Bar charts are useful, but since we're talking about actual places here, let's see how this data looks when we put it on a world map. However, plotly express requires the ISO 3166-1 alpha-3 codes. This means that we'll need to add another column to our DataFrame before we can make our visualization."
   ]
  },
  {
   "cell_type": "markdown",
   "id": "c42e97ac-21b1-4105-9044-a17bcafdd43e",
   "metadata": {},
   "source": [
    "## Add a column named \"country_iso3\" to df_nationality. It should contain the 3-letter ISO abbreviation for each country in \"country_iso2\"."
   ]
  },
  {
   "cell_type": "code",
   "execution_count": 70,
   "id": "89ed7ade-dca6-4041-a8d5-b0ce8f08bde8",
   "metadata": {},
   "outputs": [
    {
     "name": "stdout",
     "output_type": "stream",
     "text": [
      "df_nationality shape: (138, 5)\n"
     ]
    },
    {
     "data": {
      "text/html": [
       "<div>\n",
       "<style scoped>\n",
       "    .dataframe tbody tr th:only-of-type {\n",
       "        vertical-align: middle;\n",
       "    }\n",
       "\n",
       "    .dataframe tbody tr th {\n",
       "        vertical-align: top;\n",
       "    }\n",
       "\n",
       "    .dataframe thead th {\n",
       "        text-align: right;\n",
       "    }\n",
       "</style>\n",
       "<table border=\"1\" class=\"dataframe\">\n",
       "  <thead>\n",
       "    <tr style=\"text-align: right;\">\n",
       "      <th></th>\n",
       "      <th>country_iso2</th>\n",
       "      <th>count</th>\n",
       "      <th>country_name</th>\n",
       "      <th>count_pct</th>\n",
       "      <th>country_iso3</th>\n",
       "    </tr>\n",
       "  </thead>\n",
       "  <tbody>\n",
       "    <tr>\n",
       "      <th>137</th>\n",
       "      <td>GA</td>\n",
       "      <td>1</td>\n",
       "      <td>Gabon</td>\n",
       "      <td>0.019928</td>\n",
       "      <td>GAB</td>\n",
       "    </tr>\n",
       "    <tr>\n",
       "      <th>110</th>\n",
       "      <td>GQ</td>\n",
       "      <td>1</td>\n",
       "      <td>Equatorial Guinea</td>\n",
       "      <td>0.019928</td>\n",
       "      <td>GNQ</td>\n",
       "    </tr>\n",
       "    <tr>\n",
       "      <th>111</th>\n",
       "      <td>BE</td>\n",
       "      <td>1</td>\n",
       "      <td>Belgium</td>\n",
       "      <td>0.019928</td>\n",
       "      <td>BEL</td>\n",
       "    </tr>\n",
       "    <tr>\n",
       "      <th>112</th>\n",
       "      <td>SE</td>\n",
       "      <td>1</td>\n",
       "      <td>Sweden</td>\n",
       "      <td>0.019928</td>\n",
       "      <td>SWE</td>\n",
       "    </tr>\n",
       "    <tr>\n",
       "      <th>113</th>\n",
       "      <td>KH</td>\n",
       "      <td>1</td>\n",
       "      <td>Cambodia</td>\n",
       "      <td>0.019928</td>\n",
       "      <td>KHM</td>\n",
       "    </tr>\n",
       "  </tbody>\n",
       "</table>\n",
       "</div>"
      ],
      "text/plain": [
       "    country_iso2  count       country_name  count_pct country_iso3\n",
       "137           GA      1              Gabon   0.019928          GAB\n",
       "110           GQ      1  Equatorial Guinea   0.019928          GNQ\n",
       "111           BE      1            Belgium   0.019928          BEL\n",
       "112           SE      1             Sweden   0.019928          SWE\n",
       "113           KH      1           Cambodia   0.019928          KHM"
      ]
     },
     "execution_count": 70,
     "metadata": {},
     "output_type": "execute_result"
    }
   ],
   "source": [
    "df_nationality[\"country_iso3\"] = cc.convert(df_nationality[\"country_iso2\"], to=\"ISO3\")\n",
    "\n",
    "print(\"df_nationality shape:\", df_nationality.shape)\n",
    "df_nationality.head()"
   ]
  },
  {
   "cell_type": "markdown",
   "id": "538d96e9-40cd-449c-91f6-113d1f727074",
   "metadata": {},
   "source": [
    "## Choropleth Map"
   ]
  },
  {
   "cell_type": "markdown",
   "id": "88175721-c3d9-44f0-8f81-ea5cc52b27d7",
   "metadata": {},
   "source": [
    "#### Create a function build_nat_choropleth that returns plotly choropleth map showing the \"count\" of DS applicants in each country in the globe. Be sure to set your projection to \"natural earth\", and color_continuous_scale to px.colors.sequential.Oranges."
   ]
  },
  {
   "cell_type": "code",
   "execution_count": 71,
   "id": "56671230-d368-4b8c-99c6-2d7e0eed52e6",
   "metadata": {},
   "outputs": [
    {
     "name": "stdout",
     "output_type": "stream",
     "text": [
      "nat_fig type: <class 'plotly.graph_objs._figure.Figure'>\n"
     ]
    },
    {
     "data": {
      "application/vnd.plotly.v1+json": {
       "config": {
        "plotlyServerURL": "https://plot.ly"
       },
       "data": [
        {
         "coloraxis": "coloraxis",
         "geo": "geo",
         "hovertemplate": "country_iso3=%{location}<br>count_pct=%{z}<extra></extra>",
         "locations": [
          "GAB",
          "GNQ",
          "BEL",
          "SWE",
          "KHM",
          "CHL",
          "MAC",
          "TKM",
          "ROU",
          "BIH",
          "VUT",
          "MRT",
          "CRI",
          "VIR",
          "AIA",
          "VEN",
          "GUY",
          "CYP",
          "MKD",
          "BRB",
          "AND",
          "DJI",
          "GNB",
          "PRT",
          "TLS",
          "STP",
          "DMA",
          "ISR",
          "WSM",
          "HUN",
          "BLR",
          "HTI",
          "TON",
          "BGR",
          "ERI",
          "CAF",
          "CZE",
          "SVK",
          "NER",
          "ARG",
          "TJK",
          "PER",
          "COM",
          "ARE",
          "MDG",
          "NLD",
          "SRB",
          "PRI",
          "MMR",
          "MNG",
          "ATG",
          "MUS",
          "GRC",
          "ARM",
          "AGO",
          "KGZ",
          "BDI",
          "LBN",
          "PAN",
          "GIN",
          "POL",
          "KAZ",
          "ITA",
          "BTN",
          "COL",
          "FJI",
          "FRA",
          "SDN",
          "UKR",
          "COG",
          "TWN",
          "BFA",
          "KOR",
          "YEM",
          "PNG",
          "SEN",
          "JOR",
          "UZB",
          "HKG",
          "ESP",
          "LBY",
          "ALA",
          "AUS",
          "AZE",
          "MOZ",
          "MLI",
          "RUS",
          "TCD",
          "ALB",
          "COD",
          "TUR",
          "MEX",
          "DEU",
          "CAN",
          "CIV",
          "SWZ",
          "SSD",
          "MYS",
          "THA",
          "GBR",
          "TUN",
          "BRA",
          "MAR",
          "LSO",
          "TGO",
          "BEN",
          "SGP",
          "IRQ",
          "BWA",
          "GMB",
          "LBR",
          "DZA",
          "EGY",
          "LKA",
          "TZA",
          "CHN",
          "SLE",
          "RWA",
          "MWI",
          "IDN",
          "NPL",
          "SOM",
          "ZAF",
          "VNM",
          "CMR",
          "ZMB",
          "UGA",
          "AFG",
          "ZWE",
          "USA",
          "PHL",
          "GHA",
          "ETH",
          "BGD",
          "KEN",
          "IND",
          "PAK",
          "NGA"
         ],
         "name": "",
         "type": "choropleth",
         "z": [
          0.01992825827022718,
          0.01992825827022718,
          0.01992825827022718,
          0.01992825827022718,
          0.01992825827022718,
          0.01992825827022718,
          0.01992825827022718,
          0.01992825827022718,
          0.01992825827022718,
          0.01992825827022718,
          0.01992825827022718,
          0.01992825827022718,
          0.01992825827022718,
          0.01992825827022718,
          0.01992825827022718,
          0.01992825827022718,
          0.01992825827022718,
          0.01992825827022718,
          0.01992825827022718,
          0.01992825827022718,
          0.01992825827022718,
          0.01992825827022718,
          0.01992825827022718,
          0.01992825827022718,
          0.01992825827022718,
          0.01992825827022718,
          0.01992825827022718,
          0.01992825827022718,
          0.03985651654045436,
          0.03985651654045436,
          0.03985651654045436,
          0.03985651654045436,
          0.03985651654045436,
          0.03985651654045436,
          0.03985651654045436,
          0.03985651654045436,
          0.03985651654045436,
          0.03985651654045436,
          0.03985651654045436,
          0.03985651654045436,
          0.03985651654045436,
          0.03985651654045436,
          0.03985651654045436,
          0.03985651654045436,
          0.03985651654045436,
          0.03985651654045436,
          0.05978477481068154,
          0.05978477481068154,
          0.05978477481068154,
          0.05978477481068154,
          0.05978477481068154,
          0.05978477481068154,
          0.05978477481068154,
          0.05978477481068154,
          0.05978477481068154,
          0.05978477481068154,
          0.05978477481068154,
          0.05978477481068154,
          0.05978477481068154,
          0.05978477481068154,
          0.05978477481068154,
          0.07971303308090873,
          0.07971303308090873,
          0.07971303308090873,
          0.07971303308090873,
          0.07971303308090873,
          0.07971303308090873,
          0.09964129135113592,
          0.09964129135113592,
          0.09964129135113592,
          0.09964129135113592,
          0.09964129135113592,
          0.09964129135113592,
          0.11956954962136308,
          0.11956954962136308,
          0.11956954962136308,
          0.11956954962136308,
          0.11956954962136308,
          0.11956954962136308,
          0.11956954962136308,
          0.13949780789159028,
          0.15942606616181745,
          0.15942606616181745,
          0.15942606616181745,
          0.17935432443204463,
          0.17935432443204463,
          0.17935432443204463,
          0.19928258270227184,
          0.219210840972499,
          0.219210840972499,
          0.23913909924272617,
          0.23913909924272617,
          0.23913909924272617,
          0.2590673575129534,
          0.2590673575129534,
          0.27899561578318055,
          0.27899561578318055,
          0.2989238740534077,
          0.2989238740534077,
          0.3188521323236349,
          0.3188521323236349,
          0.3188521323236349,
          0.3188521323236349,
          0.3188521323236349,
          0.3387803905938621,
          0.3387803905938621,
          0.35870864886408926,
          0.3985651654045437,
          0.3985651654045437,
          0.438421681944998,
          0.47827819848545233,
          0.47827819848545233,
          0.5181347150259068,
          0.6377042646472698,
          0.7572738142686329,
          0.8369868473495418,
          0.8967716221602232,
          0.8967716221602232,
          0.9964129135113591,
          1.0163411717815862,
          1.0561976883220408,
          1.096054204862495,
          1.1359107214029494,
          1.2355520127540853,
          1.2754085292945396,
          1.315265045834994,
          1.3750498206456756,
          1.534475886807493,
          1.8732562774013553,
          1.9330410522120367,
          2.172180151454763,
          3.328019131127939,
          3.726584296532483,
          5.061777600637704,
          6.0581905141490635,
          10.18333997608609,
          11.31925069748904,
          24.671183738541252
         ]
        }
       ],
       "layout": {
        "autosize": true,
        "coloraxis": {
         "colorbar": {
          "title": {
           "text": "count_pct"
          }
         },
         "colorscale": [
          [
           0,
           "rgb(255,245,235)"
          ],
          [
           0.125,
           "rgb(254,230,206)"
          ],
          [
           0.25,
           "rgb(253,208,162)"
          ],
          [
           0.375,
           "rgb(253,174,107)"
          ],
          [
           0.5,
           "rgb(253,141,60)"
          ],
          [
           0.625,
           "rgb(241,105,19)"
          ],
          [
           0.75,
           "rgb(217,72,1)"
          ],
          [
           0.875,
           "rgb(166,54,3)"
          ],
          [
           1,
           "rgb(127,39,4)"
          ]
         ]
        },
        "geo": {
         "center": {
          "lat": -0.49841622281348297,
          "lon": -8.15057792186657
         },
         "domain": {
          "x": [
           0,
           1
          ],
          "y": [
           0,
           1
          ]
         },
         "projection": {
          "rotation": {
           "lon": -8.15057792186657
          },
          "scale": 0.7071067811865478,
          "type": "natural earth"
         }
        },
        "legend": {
         "tracegroupgap": 0
        },
        "template": {
         "data": {
          "bar": [
           {
            "error_x": {
             "color": "#2a3f5f"
            },
            "error_y": {
             "color": "#2a3f5f"
            },
            "marker": {
             "line": {
              "color": "#E5ECF6",
              "width": 0.5
             },
             "pattern": {
              "fillmode": "overlay",
              "size": 10,
              "solidity": 0.2
             }
            },
            "type": "bar"
           }
          ],
          "barpolar": [
           {
            "marker": {
             "line": {
              "color": "#E5ECF6",
              "width": 0.5
             },
             "pattern": {
              "fillmode": "overlay",
              "size": 10,
              "solidity": 0.2
             }
            },
            "type": "barpolar"
           }
          ],
          "carpet": [
           {
            "aaxis": {
             "endlinecolor": "#2a3f5f",
             "gridcolor": "white",
             "linecolor": "white",
             "minorgridcolor": "white",
             "startlinecolor": "#2a3f5f"
            },
            "baxis": {
             "endlinecolor": "#2a3f5f",
             "gridcolor": "white",
             "linecolor": "white",
             "minorgridcolor": "white",
             "startlinecolor": "#2a3f5f"
            },
            "type": "carpet"
           }
          ],
          "choropleth": [
           {
            "colorbar": {
             "outlinewidth": 0,
             "ticks": ""
            },
            "type": "choropleth"
           }
          ],
          "contour": [
           {
            "colorbar": {
             "outlinewidth": 0,
             "ticks": ""
            },
            "colorscale": [
             [
              0,
              "#0d0887"
             ],
             [
              0.1111111111111111,
              "#46039f"
             ],
             [
              0.2222222222222222,
              "#7201a8"
             ],
             [
              0.3333333333333333,
              "#9c179e"
             ],
             [
              0.4444444444444444,
              "#bd3786"
             ],
             [
              0.5555555555555556,
              "#d8576b"
             ],
             [
              0.6666666666666666,
              "#ed7953"
             ],
             [
              0.7777777777777778,
              "#fb9f3a"
             ],
             [
              0.8888888888888888,
              "#fdca26"
             ],
             [
              1,
              "#f0f921"
             ]
            ],
            "type": "contour"
           }
          ],
          "contourcarpet": [
           {
            "colorbar": {
             "outlinewidth": 0,
             "ticks": ""
            },
            "type": "contourcarpet"
           }
          ],
          "heatmap": [
           {
            "colorbar": {
             "outlinewidth": 0,
             "ticks": ""
            },
            "colorscale": [
             [
              0,
              "#0d0887"
             ],
             [
              0.1111111111111111,
              "#46039f"
             ],
             [
              0.2222222222222222,
              "#7201a8"
             ],
             [
              0.3333333333333333,
              "#9c179e"
             ],
             [
              0.4444444444444444,
              "#bd3786"
             ],
             [
              0.5555555555555556,
              "#d8576b"
             ],
             [
              0.6666666666666666,
              "#ed7953"
             ],
             [
              0.7777777777777778,
              "#fb9f3a"
             ],
             [
              0.8888888888888888,
              "#fdca26"
             ],
             [
              1,
              "#f0f921"
             ]
            ],
            "type": "heatmap"
           }
          ],
          "heatmapgl": [
           {
            "colorbar": {
             "outlinewidth": 0,
             "ticks": ""
            },
            "colorscale": [
             [
              0,
              "#0d0887"
             ],
             [
              0.1111111111111111,
              "#46039f"
             ],
             [
              0.2222222222222222,
              "#7201a8"
             ],
             [
              0.3333333333333333,
              "#9c179e"
             ],
             [
              0.4444444444444444,
              "#bd3786"
             ],
             [
              0.5555555555555556,
              "#d8576b"
             ],
             [
              0.6666666666666666,
              "#ed7953"
             ],
             [
              0.7777777777777778,
              "#fb9f3a"
             ],
             [
              0.8888888888888888,
              "#fdca26"
             ],
             [
              1,
              "#f0f921"
             ]
            ],
            "type": "heatmapgl"
           }
          ],
          "histogram": [
           {
            "marker": {
             "pattern": {
              "fillmode": "overlay",
              "size": 10,
              "solidity": 0.2
             }
            },
            "type": "histogram"
           }
          ],
          "histogram2d": [
           {
            "colorbar": {
             "outlinewidth": 0,
             "ticks": ""
            },
            "colorscale": [
             [
              0,
              "#0d0887"
             ],
             [
              0.1111111111111111,
              "#46039f"
             ],
             [
              0.2222222222222222,
              "#7201a8"
             ],
             [
              0.3333333333333333,
              "#9c179e"
             ],
             [
              0.4444444444444444,
              "#bd3786"
             ],
             [
              0.5555555555555556,
              "#d8576b"
             ],
             [
              0.6666666666666666,
              "#ed7953"
             ],
             [
              0.7777777777777778,
              "#fb9f3a"
             ],
             [
              0.8888888888888888,
              "#fdca26"
             ],
             [
              1,
              "#f0f921"
             ]
            ],
            "type": "histogram2d"
           }
          ],
          "histogram2dcontour": [
           {
            "colorbar": {
             "outlinewidth": 0,
             "ticks": ""
            },
            "colorscale": [
             [
              0,
              "#0d0887"
             ],
             [
              0.1111111111111111,
              "#46039f"
             ],
             [
              0.2222222222222222,
              "#7201a8"
             ],
             [
              0.3333333333333333,
              "#9c179e"
             ],
             [
              0.4444444444444444,
              "#bd3786"
             ],
             [
              0.5555555555555556,
              "#d8576b"
             ],
             [
              0.6666666666666666,
              "#ed7953"
             ],
             [
              0.7777777777777778,
              "#fb9f3a"
             ],
             [
              0.8888888888888888,
              "#fdca26"
             ],
             [
              1,
              "#f0f921"
             ]
            ],
            "type": "histogram2dcontour"
           }
          ],
          "mesh3d": [
           {
            "colorbar": {
             "outlinewidth": 0,
             "ticks": ""
            },
            "type": "mesh3d"
           }
          ],
          "parcoords": [
           {
            "line": {
             "colorbar": {
              "outlinewidth": 0,
              "ticks": ""
             }
            },
            "type": "parcoords"
           }
          ],
          "pie": [
           {
            "automargin": true,
            "type": "pie"
           }
          ],
          "scatter": [
           {
            "fillpattern": {
             "fillmode": "overlay",
             "size": 10,
             "solidity": 0.2
            },
            "type": "scatter"
           }
          ],
          "scatter3d": [
           {
            "line": {
             "colorbar": {
              "outlinewidth": 0,
              "ticks": ""
             }
            },
            "marker": {
             "colorbar": {
              "outlinewidth": 0,
              "ticks": ""
             }
            },
            "type": "scatter3d"
           }
          ],
          "scattercarpet": [
           {
            "marker": {
             "colorbar": {
              "outlinewidth": 0,
              "ticks": ""
             }
            },
            "type": "scattercarpet"
           }
          ],
          "scattergeo": [
           {
            "marker": {
             "colorbar": {
              "outlinewidth": 0,
              "ticks": ""
             }
            },
            "type": "scattergeo"
           }
          ],
          "scattergl": [
           {
            "marker": {
             "colorbar": {
              "outlinewidth": 0,
              "ticks": ""
             }
            },
            "type": "scattergl"
           }
          ],
          "scattermapbox": [
           {
            "marker": {
             "colorbar": {
              "outlinewidth": 0,
              "ticks": ""
             }
            },
            "type": "scattermapbox"
           }
          ],
          "scatterpolar": [
           {
            "marker": {
             "colorbar": {
              "outlinewidth": 0,
              "ticks": ""
             }
            },
            "type": "scatterpolar"
           }
          ],
          "scatterpolargl": [
           {
            "marker": {
             "colorbar": {
              "outlinewidth": 0,
              "ticks": ""
             }
            },
            "type": "scatterpolargl"
           }
          ],
          "scatterternary": [
           {
            "marker": {
             "colorbar": {
              "outlinewidth": 0,
              "ticks": ""
             }
            },
            "type": "scatterternary"
           }
          ],
          "surface": [
           {
            "colorbar": {
             "outlinewidth": 0,
             "ticks": ""
            },
            "colorscale": [
             [
              0,
              "#0d0887"
             ],
             [
              0.1111111111111111,
              "#46039f"
             ],
             [
              0.2222222222222222,
              "#7201a8"
             ],
             [
              0.3333333333333333,
              "#9c179e"
             ],
             [
              0.4444444444444444,
              "#bd3786"
             ],
             [
              0.5555555555555556,
              "#d8576b"
             ],
             [
              0.6666666666666666,
              "#ed7953"
             ],
             [
              0.7777777777777778,
              "#fb9f3a"
             ],
             [
              0.8888888888888888,
              "#fdca26"
             ],
             [
              1,
              "#f0f921"
             ]
            ],
            "type": "surface"
           }
          ],
          "table": [
           {
            "cells": {
             "fill": {
              "color": "#EBF0F8"
             },
             "line": {
              "color": "white"
             }
            },
            "header": {
             "fill": {
              "color": "#C8D4E3"
             },
             "line": {
              "color": "white"
             }
            },
            "type": "table"
           }
          ]
         },
         "layout": {
          "annotationdefaults": {
           "arrowcolor": "#2a3f5f",
           "arrowhead": 0,
           "arrowwidth": 1
          },
          "autotypenumbers": "strict",
          "coloraxis": {
           "colorbar": {
            "outlinewidth": 0,
            "ticks": ""
           }
          },
          "colorscale": {
           "diverging": [
            [
             0,
             "#8e0152"
            ],
            [
             0.1,
             "#c51b7d"
            ],
            [
             0.2,
             "#de77ae"
            ],
            [
             0.3,
             "#f1b6da"
            ],
            [
             0.4,
             "#fde0ef"
            ],
            [
             0.5,
             "#f7f7f7"
            ],
            [
             0.6,
             "#e6f5d0"
            ],
            [
             0.7,
             "#b8e186"
            ],
            [
             0.8,
             "#7fbc41"
            ],
            [
             0.9,
             "#4d9221"
            ],
            [
             1,
             "#276419"
            ]
           ],
           "sequential": [
            [
             0,
             "#0d0887"
            ],
            [
             0.1111111111111111,
             "#46039f"
            ],
            [
             0.2222222222222222,
             "#7201a8"
            ],
            [
             0.3333333333333333,
             "#9c179e"
            ],
            [
             0.4444444444444444,
             "#bd3786"
            ],
            [
             0.5555555555555556,
             "#d8576b"
            ],
            [
             0.6666666666666666,
             "#ed7953"
            ],
            [
             0.7777777777777778,
             "#fb9f3a"
            ],
            [
             0.8888888888888888,
             "#fdca26"
            ],
            [
             1,
             "#f0f921"
            ]
           ],
           "sequentialminus": [
            [
             0,
             "#0d0887"
            ],
            [
             0.1111111111111111,
             "#46039f"
            ],
            [
             0.2222222222222222,
             "#7201a8"
            ],
            [
             0.3333333333333333,
             "#9c179e"
            ],
            [
             0.4444444444444444,
             "#bd3786"
            ],
            [
             0.5555555555555556,
             "#d8576b"
            ],
            [
             0.6666666666666666,
             "#ed7953"
            ],
            [
             0.7777777777777778,
             "#fb9f3a"
            ],
            [
             0.8888888888888888,
             "#fdca26"
            ],
            [
             1,
             "#f0f921"
            ]
           ]
          },
          "colorway": [
           "#636efa",
           "#EF553B",
           "#00cc96",
           "#ab63fa",
           "#FFA15A",
           "#19d3f3",
           "#FF6692",
           "#B6E880",
           "#FF97FF",
           "#FECB52"
          ],
          "font": {
           "color": "#2a3f5f"
          },
          "geo": {
           "bgcolor": "white",
           "lakecolor": "white",
           "landcolor": "#E5ECF6",
           "showlakes": true,
           "showland": true,
           "subunitcolor": "white"
          },
          "hoverlabel": {
           "align": "left"
          },
          "hovermode": "closest",
          "mapbox": {
           "style": "light"
          },
          "paper_bgcolor": "white",
          "plot_bgcolor": "#E5ECF6",
          "polar": {
           "angularaxis": {
            "gridcolor": "white",
            "linecolor": "white",
            "ticks": ""
           },
           "bgcolor": "#E5ECF6",
           "radialaxis": {
            "gridcolor": "white",
            "linecolor": "white",
            "ticks": ""
           }
          },
          "scene": {
           "xaxis": {
            "backgroundcolor": "#E5ECF6",
            "gridcolor": "white",
            "gridwidth": 2,
            "linecolor": "white",
            "showbackground": true,
            "ticks": "",
            "zerolinecolor": "white"
           },
           "yaxis": {
            "backgroundcolor": "#E5ECF6",
            "gridcolor": "white",
            "gridwidth": 2,
            "linecolor": "white",
            "showbackground": true,
            "ticks": "",
            "zerolinecolor": "white"
           },
           "zaxis": {
            "backgroundcolor": "#E5ECF6",
            "gridcolor": "white",
            "gridwidth": 2,
            "linecolor": "white",
            "showbackground": true,
            "ticks": "",
            "zerolinecolor": "white"
           }
          },
          "shapedefaults": {
           "line": {
            "color": "#2a3f5f"
           }
          },
          "ternary": {
           "aaxis": {
            "gridcolor": "white",
            "linecolor": "white",
            "ticks": ""
           },
           "baxis": {
            "gridcolor": "white",
            "linecolor": "white",
            "ticks": ""
           },
           "bgcolor": "#E5ECF6",
           "caxis": {
            "gridcolor": "white",
            "linecolor": "white",
            "ticks": ""
           }
          },
          "title": {
           "x": 0.05
          },
          "xaxis": {
           "automargin": true,
           "gridcolor": "white",
           "linecolor": "white",
           "ticks": "",
           "title": {
            "standoff": 15
           },
           "zerolinecolor": "white",
           "zerolinewidth": 2
          },
          "yaxis": {
           "automargin": true,
           "gridcolor": "white",
           "linecolor": "white",
           "ticks": "",
           "title": {
            "standoff": 15
           },
           "zerolinecolor": "white",
           "zerolinewidth": 2
          }
         }
        },
        "title": {
         "text": "DS Applicants: Nationality"
        }
       }
      },
      "image/png": "[encoded data removed]",
      "text/html": [
       "<div>                            <div id=\"c9d87f97-9001-4c28-83b5-3c2c8fab3163\" class=\"plotly-graph-div\" style=\"height:525px; width:100%;\"></div>            <script type=\"text/javascript\">                require([\"plotly\"], function(Plotly) {                    window.PLOTLYENV=window.PLOTLYENV || {};                                    if (document.getElementById(\"c9d87f97-9001-4c28-83b5-3c2c8fab3163\")) {                    Plotly.newPlot(                        \"c9d87f97-9001-4c28-83b5-3c2c8fab3163\",                        [{\"coloraxis\":\"coloraxis\",\"geo\":\"geo\",\"hovertemplate\":\"country_iso3=%{location}\\u003cbr\\u003ecount_pct=%{z}\\u003cextra\\u003e\\u003c\\u002fextra\\u003e\",\"locations\":[\"GAB\",\"GNQ\",\"BEL\",\"SWE\",\"KHM\",\"CHL\",\"MAC\",\"TKM\",\"ROU\",\"BIH\",\"VUT\",\"MRT\",\"CRI\",\"VIR\",\"AIA\",\"VEN\",\"GUY\",\"CYP\",\"MKD\",\"BRB\",\"AND\",\"DJI\",\"GNB\",\"PRT\",\"TLS\",\"STP\",\"DMA\",\"ISR\",\"WSM\",\"HUN\",\"BLR\",\"HTI\",\"TON\",\"BGR\",\"ERI\",\"CAF\",\"CZE\",\"SVK\",\"NER\",\"ARG\",\"TJK\",\"PER\",\"COM\",\"ARE\",\"MDG\",\"NLD\",\"SRB\",\"PRI\",\"MMR\",\"MNG\",\"ATG\",\"MUS\",\"GRC\",\"ARM\",\"AGO\",\"KGZ\",\"BDI\",\"LBN\",\"PAN\",\"GIN\",\"POL\",\"KAZ\",\"ITA\",\"BTN\",\"COL\",\"FJI\",\"FRA\",\"SDN\",\"UKR\",\"COG\",\"TWN\",\"BFA\",\"KOR\",\"YEM\",\"PNG\",\"SEN\",\"JOR\",\"UZB\",\"HKG\",\"ESP\",\"LBY\",\"ALA\",\"AUS\",\"AZE\",\"MOZ\",\"MLI\",\"RUS\",\"TCD\",\"ALB\",\"COD\",\"TUR\",\"MEX\",\"DEU\",\"CAN\",\"CIV\",\"SWZ\",\"SSD\",\"MYS\",\"THA\",\"GBR\",\"TUN\",\"BRA\",\"MAR\",\"LSO\",\"TGO\",\"BEN\",\"SGP\",\"IRQ\",\"BWA\",\"GMB\",\"LBR\",\"DZA\",\"EGY\",\"LKA\",\"TZA\",\"CHN\",\"SLE\",\"RWA\",\"MWI\",\"IDN\",\"NPL\",\"SOM\",\"ZAF\",\"VNM\",\"CMR\",\"ZMB\",\"UGA\",\"AFG\",\"ZWE\",\"USA\",\"PHL\",\"GHA\",\"ETH\",\"BGD\",\"KEN\",\"IND\",\"PAK\",\"NGA\"],\"name\":\"\",\"z\":[0.01992825827022718,0.01992825827022718,0.01992825827022718,0.01992825827022718,0.01992825827022718,0.01992825827022718,0.01992825827022718,0.01992825827022718,0.01992825827022718,0.01992825827022718,0.01992825827022718,0.01992825827022718,0.01992825827022718,0.01992825827022718,0.01992825827022718,0.01992825827022718,0.01992825827022718,0.01992825827022718,0.01992825827022718,0.01992825827022718,0.01992825827022718,0.01992825827022718,0.01992825827022718,0.01992825827022718,0.01992825827022718,0.01992825827022718,0.01992825827022718,0.01992825827022718,0.03985651654045436,0.03985651654045436,0.03985651654045436,0.03985651654045436,0.03985651654045436,0.03985651654045436,0.03985651654045436,0.03985651654045436,0.03985651654045436,0.03985651654045436,0.03985651654045436,0.03985651654045436,0.03985651654045436,0.03985651654045436,0.03985651654045436,0.03985651654045436,0.03985651654045436,0.03985651654045436,0.05978477481068154,0.05978477481068154,0.05978477481068154,0.05978477481068154,0.05978477481068154,0.05978477481068154,0.05978477481068154,0.05978477481068154,0.05978477481068154,0.05978477481068154,0.05978477481068154,0.05978477481068154,0.05978477481068154,0.05978477481068154,0.05978477481068154,0.07971303308090873,0.07971303308090873,0.07971303308090873,0.07971303308090873,0.07971303308090873,0.07971303308090873,0.09964129135113592,0.09964129135113592,0.09964129135113592,0.09964129135113592,0.09964129135113592,0.09964129135113592,0.11956954962136308,0.11956954962136308,0.11956954962136308,0.11956954962136308,0.11956954962136308,0.11956954962136308,0.11956954962136308,0.13949780789159028,0.15942606616181745,0.15942606616181745,0.15942606616181745,0.17935432443204463,0.17935432443204463,0.17935432443204463,0.19928258270227184,0.219210840972499,0.219210840972499,0.23913909924272617,0.23913909924272617,0.23913909924272617,0.2590673575129534,0.2590673575129534,0.27899561578318055,0.27899561578318055,0.2989238740534077,0.2989238740534077,0.3188521323236349,0.3188521323236349,0.3188521323236349,0.3188521323236349,0.3188521323236349,0.3387803905938621,0.3387803905938621,0.35870864886408926,0.3985651654045437,0.3985651654045437,0.438421681944998,0.47827819848545233,0.47827819848545233,0.5181347150259068,0.6377042646472698,0.7572738142686329,0.8369868473495418,0.8967716221602232,0.8967716221602232,0.9964129135113591,1.0163411717815862,1.0561976883220408,1.096054204862495,1.1359107214029494,1.2355520127540853,1.2754085292945396,1.315265045834994,1.3750498206456756,1.534475886807493,1.8732562774013553,1.9330410522120367,2.172180151454763,3.328019131127939,3.726584296532483,5.061777600637704,6.0581905141490635,10.18333997608609,11.31925069748904,24.671183738541252],\"type\":\"choropleth\"}],                        {\"template\":{\"data\":{\"histogram2dcontour\":[{\"type\":\"histogram2dcontour\",\"colorbar\":{\"outlinewidth\":0,\"ticks\":\"\"},\"colorscale\":[[0.0,\"#0d0887\"],[0.1111111111111111,\"#46039f\"],[0.2222222222222222,\"#7201a8\"],[0.3333333333333333,\"#9c179e\"],[0.4444444444444444,\"#bd3786\"],[0.5555555555555556,\"#d8576b\"],[0.6666666666666666,\"#ed7953\"],[0.7777777777777778,\"#fb9f3a\"],[0.8888888888888888,\"#fdca26\"],[1.0,\"#f0f921\"]]}],\"choropleth\":[{\"type\":\"choropleth\",\"colorbar\":{\"outlinewidth\":0,\"ticks\":\"\"}}],\"histogram2d\":[{\"type\":\"histogram2d\",\"colorbar\":{\"outlinewidth\":0,\"ticks\":\"\"},\"colorscale\":[[0.0,\"#0d0887\"],[0.1111111111111111,\"#46039f\"],[0.2222222222222222,\"#7201a8\"],[0.3333333333333333,\"#9c179e\"],[0.4444444444444444,\"#bd3786\"],[0.5555555555555556,\"#d8576b\"],[0.6666666666666666,\"#ed7953\"],[0.7777777777777778,\"#fb9f3a\"],[0.8888888888888888,\"#fdca26\"],[1.0,\"#f0f921\"]]}],\"heatmap\":[{\"type\":\"heatmap\",\"colorbar\":{\"outlinewidth\":0,\"ticks\":\"\"},\"colorscale\":[[0.0,\"#0d0887\"],[0.1111111111111111,\"#46039f\"],[0.2222222222222222,\"#7201a8\"],[0.3333333333333333,\"#9c179e\"],[0.4444444444444444,\"#bd3786\"],[0.5555555555555556,\"#d8576b\"],[0.6666666666666666,\"#ed7953\"],[0.7777777777777778,\"#fb9f3a\"],[0.8888888888888888,\"#fdca26\"],[1.0,\"#f0f921\"]]}],\"heatmapgl\":[{\"type\":\"heatmapgl\",\"colorbar\":{\"outlinewidth\":0,\"ticks\":\"\"},\"colorscale\":[[0.0,\"#0d0887\"],[0.1111111111111111,\"#46039f\"],[0.2222222222222222,\"#7201a8\"],[0.3333333333333333,\"#9c179e\"],[0.4444444444444444,\"#bd3786\"],[0.5555555555555556,\"#d8576b\"],[0.6666666666666666,\"#ed7953\"],[0.7777777777777778,\"#fb9f3a\"],[0.8888888888888888,\"#fdca26\"],[1.0,\"#f0f921\"]]}],\"contourcarpet\":[{\"type\":\"contourcarpet\",\"colorbar\":{\"outlinewidth\":0,\"ticks\":\"\"}}],\"contour\":[{\"type\":\"contour\",\"colorbar\":{\"outlinewidth\":0,\"ticks\":\"\"},\"colorscale\":[[0.0,\"#0d0887\"],[0.1111111111111111,\"#46039f\"],[0.2222222222222222,\"#7201a8\"],[0.3333333333333333,\"#9c179e\"],[0.4444444444444444,\"#bd3786\"],[0.5555555555555556,\"#d8576b\"],[0.6666666666666666,\"#ed7953\"],[0.7777777777777778,\"#fb9f3a\"],[0.8888888888888888,\"#fdca26\"],[1.0,\"#f0f921\"]]}],\"surface\":[{\"type\":\"surface\",\"colorbar\":{\"outlinewidth\":0,\"ticks\":\"\"},\"colorscale\":[[0.0,\"#0d0887\"],[0.1111111111111111,\"#46039f\"],[0.2222222222222222,\"#7201a8\"],[0.3333333333333333,\"#9c179e\"],[0.4444444444444444,\"#bd3786\"],[0.5555555555555556,\"#d8576b\"],[0.6666666666666666,\"#ed7953\"],[0.7777777777777778,\"#fb9f3a\"],[0.8888888888888888,\"#fdca26\"],[1.0,\"#f0f921\"]]}],\"mesh3d\":[{\"type\":\"mesh3d\",\"colorbar\":{\"outlinewidth\":0,\"ticks\":\"\"}}],\"scatter\":[{\"fillpattern\":{\"fillmode\":\"overlay\",\"size\":10,\"solidity\":0.2},\"type\":\"scatter\"}],\"parcoords\":[{\"type\":\"parcoords\",\"line\":{\"colorbar\":{\"outlinewidth\":0,\"ticks\":\"\"}}}],\"scatterpolargl\":[{\"type\":\"scatterpolargl\",\"marker\":{\"colorbar\":{\"outlinewidth\":0,\"ticks\":\"\"}}}],\"bar\":[{\"error_x\":{\"color\":\"#2a3f5f\"},\"error_y\":{\"color\":\"#2a3f5f\"},\"marker\":{\"line\":{\"color\":\"#E5ECF6\",\"width\":0.5},\"pattern\":{\"fillmode\":\"overlay\",\"size\":10,\"solidity\":0.2}},\"type\":\"bar\"}],\"scattergeo\":[{\"type\":\"scattergeo\",\"marker\":{\"colorbar\":{\"outlinewidth\":0,\"ticks\":\"\"}}}],\"scatterpolar\":[{\"type\":\"scatterpolar\",\"marker\":{\"colorbar\":{\"outlinewidth\":0,\"ticks\":\"\"}}}],\"histogram\":[{\"marker\":{\"pattern\":{\"fillmode\":\"overlay\",\"size\":10,\"solidity\":0.2}},\"type\":\"histogram\"}],\"scattergl\":[{\"type\":\"scattergl\",\"marker\":{\"colorbar\":{\"outlinewidth\":0,\"ticks\":\"\"}}}],\"scatter3d\":[{\"type\":\"scatter3d\",\"line\":{\"colorbar\":{\"outlinewidth\":0,\"ticks\":\"\"}},\"marker\":{\"colorbar\":{\"outlinewidth\":0,\"ticks\":\"\"}}}],\"scattermapbox\":[{\"type\":\"scattermapbox\",\"marker\":{\"colorbar\":{\"outlinewidth\":0,\"ticks\":\"\"}}}],\"scatterternary\":[{\"type\":\"scatterternary\",\"marker\":{\"colorbar\":{\"outlinewidth\":0,\"ticks\":\"\"}}}],\"scattercarpet\":[{\"type\":\"scattercarpet\",\"marker\":{\"colorbar\":{\"outlinewidth\":0,\"ticks\":\"\"}}}],\"carpet\":[{\"aaxis\":{\"endlinecolor\":\"#2a3f5f\",\"gridcolor\":\"white\",\"linecolor\":\"white\",\"minorgridcolor\":\"white\",\"startlinecolor\":\"#2a3f5f\"},\"baxis\":{\"endlinecolor\":\"#2a3f5f\",\"gridcolor\":\"white\",\"linecolor\":\"white\",\"minorgridcolor\":\"white\",\"startlinecolor\":\"#2a3f5f\"},\"type\":\"carpet\"}],\"table\":[{\"cells\":{\"fill\":{\"color\":\"#EBF0F8\"},\"line\":{\"color\":\"white\"}},\"header\":{\"fill\":{\"color\":\"#C8D4E3\"},\"line\":{\"color\":\"white\"}},\"type\":\"table\"}],\"barpolar\":[{\"marker\":{\"line\":{\"color\":\"#E5ECF6\",\"width\":0.5},\"pattern\":{\"fillmode\":\"overlay\",\"size\":10,\"solidity\":0.2}},\"type\":\"barpolar\"}],\"pie\":[{\"automargin\":true,\"type\":\"pie\"}]},\"layout\":{\"autotypenumbers\":\"strict\",\"colorway\":[\"#636efa\",\"#EF553B\",\"#00cc96\",\"#ab63fa\",\"#FFA15A\",\"#19d3f3\",\"#FF6692\",\"#B6E880\",\"#FF97FF\",\"#FECB52\"],\"font\":{\"color\":\"#2a3f5f\"},\"hovermode\":\"closest\",\"hoverlabel\":{\"align\":\"left\"},\"paper_bgcolor\":\"white\",\"plot_bgcolor\":\"#E5ECF6\",\"polar\":{\"bgcolor\":\"#E5ECF6\",\"angularaxis\":{\"gridcolor\":\"white\",\"linecolor\":\"white\",\"ticks\":\"\"},\"radialaxis\":{\"gridcolor\":\"white\",\"linecolor\":\"white\",\"ticks\":\"\"}},\"ternary\":{\"bgcolor\":\"#E5ECF6\",\"aaxis\":{\"gridcolor\":\"white\",\"linecolor\":\"white\",\"ticks\":\"\"},\"baxis\":{\"gridcolor\":\"white\",\"linecolor\":\"white\",\"ticks\":\"\"},\"caxis\":{\"gridcolor\":\"white\",\"linecolor\":\"white\",\"ticks\":\"\"}},\"coloraxis\":{\"colorbar\":{\"outlinewidth\":0,\"ticks\":\"\"}},\"colorscale\":{\"sequential\":[[0.0,\"#0d0887\"],[0.1111111111111111,\"#46039f\"],[0.2222222222222222,\"#7201a8\"],[0.3333333333333333,\"#9c179e\"],[0.4444444444444444,\"#bd3786\"],[0.5555555555555556,\"#d8576b\"],[0.6666666666666666,\"#ed7953\"],[0.7777777777777778,\"#fb9f3a\"],[0.8888888888888888,\"#fdca26\"],[1.0,\"#f0f921\"]],\"sequentialminus\":[[0.0,\"#0d0887\"],[0.1111111111111111,\"#46039f\"],[0.2222222222222222,\"#7201a8\"],[0.3333333333333333,\"#9c179e\"],[0.4444444444444444,\"#bd3786\"],[0.5555555555555556,\"#d8576b\"],[0.6666666666666666,\"#ed7953\"],[0.7777777777777778,\"#fb9f3a\"],[0.8888888888888888,\"#fdca26\"],[1.0,\"#f0f921\"]],\"diverging\":[[0,\"#8e0152\"],[0.1,\"#c51b7d\"],[0.2,\"#de77ae\"],[0.3,\"#f1b6da\"],[0.4,\"#fde0ef\"],[0.5,\"#f7f7f7\"],[0.6,\"#e6f5d0\"],[0.7,\"#b8e186\"],[0.8,\"#7fbc41\"],[0.9,\"#4d9221\"],[1,\"#276419\"]]},\"xaxis\":{\"gridcolor\":\"white\",\"linecolor\":\"white\",\"ticks\":\"\",\"title\":{\"standoff\":15},\"zerolinecolor\":\"white\",\"automargin\":true,\"zerolinewidth\":2},\"yaxis\":{\"gridcolor\":\"white\",\"linecolor\":\"white\",\"ticks\":\"\",\"title\":{\"standoff\":15},\"zerolinecolor\":\"white\",\"automargin\":true,\"zerolinewidth\":2},\"scene\":{\"xaxis\":{\"backgroundcolor\":\"#E5ECF6\",\"gridcolor\":\"white\",\"linecolor\":\"white\",\"showbackground\":true,\"ticks\":\"\",\"zerolinecolor\":\"white\",\"gridwidth\":2},\"yaxis\":{\"backgroundcolor\":\"#E5ECF6\",\"gridcolor\":\"white\",\"linecolor\":\"white\",\"showbackground\":true,\"ticks\":\"\",\"zerolinecolor\":\"white\",\"gridwidth\":2},\"zaxis\":{\"backgroundcolor\":\"#E5ECF6\",\"gridcolor\":\"white\",\"linecolor\":\"white\",\"showbackground\":true,\"ticks\":\"\",\"zerolinecolor\":\"white\",\"gridwidth\":2}},\"shapedefaults\":{\"line\":{\"color\":\"#2a3f5f\"}},\"annotationdefaults\":{\"arrowcolor\":\"#2a3f5f\",\"arrowhead\":0,\"arrowwidth\":1},\"geo\":{\"bgcolor\":\"white\",\"landcolor\":\"#E5ECF6\",\"subunitcolor\":\"white\",\"showland\":true,\"showlakes\":true,\"lakecolor\":\"white\"},\"title\":{\"x\":0.05},\"mapbox\":{\"style\":\"light\"}}},\"geo\":{\"domain\":{\"x\":[0.0,1.0],\"y\":[0.0,1.0]},\"projection\":{\"type\":\"natural earth\"},\"center\":{}},\"coloraxis\":{\"colorbar\":{\"title\":{\"text\":\"count_pct\"}},\"colorscale\":[[0.0,\"rgb(255,245,235)\"],[0.125,\"rgb(254,230,206)\"],[0.25,\"rgb(253,208,162)\"],[0.375,\"rgb(253,174,107)\"],[0.5,\"rgb(253,141,60)\"],[0.625,\"rgb(241,105,19)\"],[0.75,\"rgb(217,72,1)\"],[0.875,\"rgb(166,54,3)\"],[1.0,\"rgb(127,39,4)\"]]},\"legend\":{\"tracegroupgap\":0},\"title\":{\"text\":\"DS Applicants: Nationality\"}},                        {\"responsive\": true}                    ).then(function(){\n",
       "                            \n",
       "var gd = document.getElementById('c9d87f97-9001-4c28-83b5-3c2c8fab3163');\n",
       "var x = new MutationObserver(function (mutations, observer) {{\n",
       "        var display = window.getComputedStyle(gd).display;\n",
       "        if (!display || display === 'none') {{\n",
       "            console.log([gd, 'removed!']);\n",
       "            Plotly.purge(gd);\n",
       "            observer.disconnect();\n",
       "        }}\n",
       "}});\n",
       "\n",
       "// Listen for the removal of the full notebook cells\n",
       "var notebookContainer = gd.closest('#notebook-container');\n",
       "if (notebookContainer) {{\n",
       "    x.observe(notebookContainer, {childList: true});\n",
       "}}\n",
       "\n",
       "// Listen for the clearing of the current output cell\n",
       "var outputEl = gd.closest('.output');\n",
       "if (outputEl) {{\n",
       "    x.observe(outputEl, {childList: true});\n",
       "}}\n",
       "\n",
       "                        })                };                });            </script>        </div>"
      ]
     },
     "metadata": {},
     "output_type": "display_data"
    }
   ],
   "source": [
    "def build_nat_choropleth():\n",
    "    fig = px.choropleth(\n",
    "        data_frame=df_nationality,\n",
    "        locations=\"country_iso3\",\n",
    "        color=\"count_pct\",\n",
    "        projection=\"natural earth\",\n",
    "        color_continuous_scale=px.colors.sequential.Oranges,\n",
    "        title=\"DS Applicants: Nationality\"\n",
    "    )\n",
    "    return fig\n",
    "\n",
    "\n",
    "nat_fig = build_nat_choropleth()\n",
    "print(\"nat_fig type:\", type(nat_fig))\n",
    "nat_fig.show()"
   ]
  },
  {
   "cell_type": "markdown",
   "id": "cffa4875-781c-48f4-9655-280b8f108b91",
   "metadata": {
    "jp-MarkdownHeadingCollapsed": true
   },
   "source": [
    "# Age"
   ]
  },
  {
   "cell_type": "markdown",
   "id": "bfd0ca6f-f0ee-405d-9a31-7b1604654ca7",
   "metadata": {},
   "source": [
    "### Use the aggregate method to calculate the age for each of the applicants in ds_app. Store the results in result."
   ]
  },
  {
   "cell_type": "code",
   "execution_count": 73,
   "id": "acc2b199-d9c2-4098-8329-0b1abef1da7e",
   "metadata": {},
   "outputs": [
    {
     "data": {
      "text/html": [
       "<div>\n",
       "<style scoped>\n",
       "    .dataframe tbody tr th:only-of-type {\n",
       "        vertical-align: middle;\n",
       "    }\n",
       "\n",
       "    .dataframe tbody tr th {\n",
       "        vertical-align: top;\n",
       "    }\n",
       "\n",
       "    .dataframe thead th {\n",
       "        text-align: right;\n",
       "    }\n",
       "</style>\n",
       "<table border=\"1\" class=\"dataframe\">\n",
       "  <thead>\n",
       "    <tr style=\"text-align: right;\">\n",
       "      <th></th>\n",
       "      <th>_id</th>\n",
       "      <th>firstName</th>\n",
       "      <th>lastName</th>\n",
       "      <th>email</th>\n",
       "      <th>birthday</th>\n",
       "      <th>gender</th>\n",
       "      <th>highestDegreeEarned</th>\n",
       "      <th>countryISO2</th>\n",
       "      <th>admissionsQuiz</th>\n",
       "      <th>age</th>\n",
       "    </tr>\n",
       "  </thead>\n",
       "  <tbody>\n",
       "    <tr>\n",
       "      <th>0</th>\n",
       "      <td>6525d787953844722c8383f8</td>\n",
       "      <td>Terry</td>\n",
       "      <td>Hassler</td>\n",
       "      <td>terry.hassler28@yahow.com</td>\n",
       "      <td>1998-04-29</td>\n",
       "      <td>male</td>\n",
       "      <td>Bachelor's degree</td>\n",
       "      <td>GB</td>\n",
       "      <td>incomplete</td>\n",
       "      <td>26.0</td>\n",
       "    </tr>\n",
       "    <tr>\n",
       "      <th>1</th>\n",
       "      <td>6525d787953844722c8383f9</td>\n",
       "      <td>Alan</td>\n",
       "      <td>Noble</td>\n",
       "      <td>alan.noble91@hotmeal.com</td>\n",
       "      <td>1999-03-03</td>\n",
       "      <td>male</td>\n",
       "      <td>Bachelor's degree</td>\n",
       "      <td>NG</td>\n",
       "      <td>complete</td>\n",
       "      <td>25.0</td>\n",
       "    </tr>\n",
       "    <tr>\n",
       "      <th>2</th>\n",
       "      <td>6525d787953844722c8383fa</td>\n",
       "      <td>Ruth</td>\n",
       "      <td>Vedovelli</td>\n",
       "      <td>ruth.vedovelli46@microsift.com</td>\n",
       "      <td>1994-08-16</td>\n",
       "      <td>female</td>\n",
       "      <td>Master's degree</td>\n",
       "      <td>ZM</td>\n",
       "      <td>incomplete</td>\n",
       "      <td>30.0</td>\n",
       "    </tr>\n",
       "    <tr>\n",
       "      <th>3</th>\n",
       "      <td>6525d787953844722c8383fb</td>\n",
       "      <td>Jennifer</td>\n",
       "      <td>Mayer</td>\n",
       "      <td>jennifer.mayer25@gmall.com</td>\n",
       "      <td>1984-11-23</td>\n",
       "      <td>female</td>\n",
       "      <td>Bachelor's degree</td>\n",
       "      <td>NG</td>\n",
       "      <td>complete</td>\n",
       "      <td>40.0</td>\n",
       "    </tr>\n",
       "    <tr>\n",
       "      <th>4</th>\n",
       "      <td>6525d787953844722c8383fc</td>\n",
       "      <td>Ray</td>\n",
       "      <td>Hersey</td>\n",
       "      <td>ray.hersey99@hotmeal.com</td>\n",
       "      <td>1990-10-15</td>\n",
       "      <td>male</td>\n",
       "      <td>Master's degree</td>\n",
       "      <td>PK</td>\n",
       "      <td>complete</td>\n",
       "      <td>34.0</td>\n",
       "    </tr>\n",
       "    <tr>\n",
       "      <th>...</th>\n",
       "      <td>...</td>\n",
       "      <td>...</td>\n",
       "      <td>...</td>\n",
       "      <td>...</td>\n",
       "      <td>...</td>\n",
       "      <td>...</td>\n",
       "      <td>...</td>\n",
       "      <td>...</td>\n",
       "      <td>...</td>\n",
       "      <td>...</td>\n",
       "    </tr>\n",
       "    <tr>\n",
       "      <th>5020</th>\n",
       "      <td>6525d787953844722c839794</td>\n",
       "      <td>Victor</td>\n",
       "      <td>Collins</td>\n",
       "      <td>victor.collins67@microsift.com</td>\n",
       "      <td>1985-02-15</td>\n",
       "      <td>male</td>\n",
       "      <td>Bachelor's degree</td>\n",
       "      <td>UG</td>\n",
       "      <td>incomplete</td>\n",
       "      <td>39.0</td>\n",
       "    </tr>\n",
       "    <tr>\n",
       "      <th>5021</th>\n",
       "      <td>6525d787953844722c839795</td>\n",
       "      <td>Justin</td>\n",
       "      <td>Nelson</td>\n",
       "      <td>justin.nelson95@microsift.com</td>\n",
       "      <td>1992-08-30</td>\n",
       "      <td>male</td>\n",
       "      <td>High School or Baccalaureate</td>\n",
       "      <td>NG</td>\n",
       "      <td>complete</td>\n",
       "      <td>32.0</td>\n",
       "    </tr>\n",
       "    <tr>\n",
       "      <th>5022</th>\n",
       "      <td>6525d787953844722c839796</td>\n",
       "      <td>Rosemary</td>\n",
       "      <td>Marsha</td>\n",
       "      <td>rosemary.marsha44@gmall.com</td>\n",
       "      <td>1990-03-22</td>\n",
       "      <td>female</td>\n",
       "      <td>Bachelor's degree</td>\n",
       "      <td>SZ</td>\n",
       "      <td>complete</td>\n",
       "      <td>34.0</td>\n",
       "    </tr>\n",
       "    <tr>\n",
       "      <th>5023</th>\n",
       "      <td>6525d787953844722c839797</td>\n",
       "      <td>Florine</td>\n",
       "      <td>Thomas</td>\n",
       "      <td>florine.thomas60@hotmeal.com</td>\n",
       "      <td>1983-01-24</td>\n",
       "      <td>female</td>\n",
       "      <td>Master's degree</td>\n",
       "      <td>ZA</td>\n",
       "      <td>incomplete</td>\n",
       "      <td>42.0</td>\n",
       "    </tr>\n",
       "    <tr>\n",
       "      <th>5024</th>\n",
       "      <td>6525d787953844722c839798</td>\n",
       "      <td>Matthew</td>\n",
       "      <td>Smith</td>\n",
       "      <td>matthew.smith67@yahow.com</td>\n",
       "      <td>1992-11-12</td>\n",
       "      <td>male</td>\n",
       "      <td>Bachelor's degree</td>\n",
       "      <td>IN</td>\n",
       "      <td>complete</td>\n",
       "      <td>32.0</td>\n",
       "    </tr>\n",
       "  </tbody>\n",
       "</table>\n",
       "<p>5025 rows × 10 columns</p>\n",
       "</div>"
      ],
      "text/plain": [
       "                           _id firstName   lastName  \\\n",
       "0     6525d787953844722c8383f8     Terry    Hassler   \n",
       "1     6525d787953844722c8383f9      Alan      Noble   \n",
       "2     6525d787953844722c8383fa      Ruth  Vedovelli   \n",
       "3     6525d787953844722c8383fb  Jennifer      Mayer   \n",
       "4     6525d787953844722c8383fc       Ray     Hersey   \n",
       "...                        ...       ...        ...   \n",
       "5020  6525d787953844722c839794    Victor    Collins   \n",
       "5021  6525d787953844722c839795    Justin     Nelson   \n",
       "5022  6525d787953844722c839796  Rosemary     Marsha   \n",
       "5023  6525d787953844722c839797   Florine     Thomas   \n",
       "5024  6525d787953844722c839798   Matthew      Smith   \n",
       "\n",
       "                               email   birthday  gender  \\\n",
       "0          terry.hassler28@yahow.com 1998-04-29    male   \n",
       "1           alan.noble91@hotmeal.com 1999-03-03    male   \n",
       "2     ruth.vedovelli46@microsift.com 1994-08-16  female   \n",
       "3         jennifer.mayer25@gmall.com 1984-11-23  female   \n",
       "4           ray.hersey99@hotmeal.com 1990-10-15    male   \n",
       "...                              ...        ...     ...   \n",
       "5020  victor.collins67@microsift.com 1985-02-15    male   \n",
       "5021   justin.nelson95@microsift.com 1992-08-30    male   \n",
       "5022     rosemary.marsha44@gmall.com 1990-03-22  female   \n",
       "5023    florine.thomas60@hotmeal.com 1983-01-24  female   \n",
       "5024       matthew.smith67@yahow.com 1992-11-12    male   \n",
       "\n",
       "               highestDegreeEarned countryISO2 admissionsQuiz   age  \n",
       "0                Bachelor's degree          GB     incomplete  26.0  \n",
       "1                Bachelor's degree          NG       complete  25.0  \n",
       "2                  Master's degree          ZM     incomplete  30.0  \n",
       "3                Bachelor's degree          NG       complete  40.0  \n",
       "4                  Master's degree          PK       complete  34.0  \n",
       "...                            ...         ...            ...   ...  \n",
       "5020             Bachelor's degree          UG     incomplete  39.0  \n",
       "5021  High School or Baccalaureate          NG       complete  32.0  \n",
       "5022             Bachelor's degree          SZ       complete  34.0  \n",
       "5023               Master's degree          ZA     incomplete  42.0  \n",
       "5024             Bachelor's degree          IN       complete  32.0  \n",
       "\n",
       "[5025 rows x 10 columns]"
      ]
     },
     "execution_count": 73,
     "metadata": {},
     "output_type": "execute_result"
    }
   ],
   "source": [
    "from datetime import datetime\n",
    "\n",
    "# Ensure 'birthday' column is in datetime format\n",
    "df['birthday'] = pd.to_datetime(df['birthday'], errors='coerce')\n",
    "\n",
    "# Get today's date\n",
    "today = pd.to_datetime('today')\n",
    "\n",
    "# Calculate age\n",
    "df['age'] = (today - df['birthday']).astype('<m8[Y]')  # Difference in years\n",
    "\n",
    "df"
   ]
  },
  {
   "cell_type": "code",
   "execution_count": 75,
   "id": "08c5930a-9107-43b3-8213-a2d143f00f41",
   "metadata": {},
   "outputs": [
    {
     "name": "stdout",
     "output_type": "stream",
     "text": [
      "ages type: <class 'pandas.core.series.Series'>\n",
      "ages shape: (5025,)\n"
     ]
    },
    {
     "data": {
      "text/plain": [
       "0    26.0\n",
       "1    25.0\n",
       "2    30.0\n",
       "3    40.0\n",
       "4    34.0\n",
       "Name: age, dtype: float64"
      ]
     },
     "execution_count": 75,
     "metadata": {},
     "output_type": "execute_result"
    }
   ],
   "source": [
    "print(\"ages type:\", type(df[\"age\"]))\n",
    "print(\"ages shape:\", df[\"age\"].shape)\n",
    "df[\"age\"].head()"
   ]
  },
  {
   "cell_type": "code",
   "execution_count": 80,
   "id": "155e94de-ef81-47ef-be30-5fdccb12a0f1",
   "metadata": {},
   "outputs": [
    {
     "name": "stdout",
     "output_type": "stream",
     "text": [
      "age_fig type: <class 'plotly.graph_objs._figure.Figure'>\n"
     ]
    },
    {
     "data": {
      "application/vnd.plotly.v1+json": {
       "config": {
        "plotlyServerURL": "https://plot.ly"
       },
       "data": [
        {
         "alignmentgroup": "True",
         "bingroup": "x",
         "hovertemplate": "x=%{x}<br>count=%{y}<extra></extra>",
         "legendgroup": "",
         "marker": {
          "color": "#636efa",
          "pattern": {
           "shape": ""
          }
         },
         "name": "",
         "nbinsx": 50,
         "offsetgroup": "",
         "orientation": "v",
         "showlegend": false,
         "type": "histogram",
         "x": [
          26,
          25,
          30,
          40,
          34,
          34,
          32,
          41,
          26,
          45,
          23,
          29,
          31,
          26,
          28,
          30,
          34,
          25,
          36,
          36,
          27,
          21,
          33,
          34,
          49,
          23,
          23,
          27,
          42,
          37,
          33,
          31,
          25,
          31,
          28,
          37,
          32,
          41,
          32,
          27,
          28,
          22,
          24,
          34,
          35,
          26,
          21,
          30,
          31,
          31,
          26,
          21,
          21,
          21,
          27,
          23,
          21,
          31,
          50,
          28,
          25,
          33,
          23,
          31,
          28,
          31,
          25,
          39,
          28,
          29,
          26,
          41,
          32,
          31,
          27,
          38,
          43,
          26,
          29,
          29,
          43,
          33,
          32,
          35,
          26,
          25,
          26,
          35,
          23,
          43,
          27,
          30,
          23,
          28,
          27,
          32,
          25,
          46,
          24,
          23,
          32,
          29,
          28,
          28,
          35,
          26,
          29,
          26,
          48,
          32,
          23,
          24,
          30,
          31,
          23,
          26,
          31,
          25,
          26,
          36,
          31,
          21,
          40,
          35,
          42,
          40,
          22,
          28,
          35,
          35,
          40,
          48,
          38,
          25,
          25,
          26,
          43,
          23,
          35,
          31,
          27,
          30,
          37,
          34,
          29,
          24,
          32,
          24,
          28,
          23,
          25,
          29,
          29,
          37,
          34,
          43,
          28,
          39,
          25,
          25,
          34,
          37,
          38,
          34,
          32,
          48,
          27,
          21,
          30,
          26,
          37,
          49,
          34,
          32,
          26,
          36,
          29,
          23,
          44,
          24,
          39,
          40,
          30,
          23,
          39,
          27,
          24,
          30,
          24,
          30,
          23,
          34,
          23,
          25,
          35,
          28,
          26,
          30,
          29,
          25,
          47,
          30,
          30,
          29,
          30,
          36,
          39,
          27,
          36,
          54,
          24,
          21,
          42,
          34,
          29,
          34,
          26,
          25,
          38,
          42,
          40,
          24,
          27,
          25,
          46,
          45,
          33,
          26,
          33,
          40,
          48,
          27,
          28,
          28,
          50,
          24,
          27,
          37,
          25,
          25,
          33,
          23,
          25,
          24,
          23,
          23,
          31,
          38,
          27,
          22,
          37,
          31,
          25,
          23,
          26,
          32,
          30,
          24,
          47,
          24,
          27,
          28,
          26,
          29,
          26,
          24,
          29,
          23,
          26,
          25,
          47,
          32,
          74,
          35,
          34,
          26,
          27,
          21,
          37,
          26,
          24,
          41,
          31,
          25,
          29,
          40,
          40,
          27,
          26,
          24,
          27,
          27,
          31,
          31,
          37,
          28,
          21,
          34,
          26,
          33,
          33,
          27,
          40,
          25,
          32,
          24,
          21,
          44,
          26,
          23,
          25,
          35,
          24,
          40,
          26,
          30,
          22,
          30,
          26,
          34,
          27,
          34,
          30,
          28,
          32,
          36,
          25,
          52,
          35,
          32,
          22,
          56,
          27,
          29,
          35,
          35,
          34,
          25,
          28,
          29,
          28,
          24,
          62,
          34,
          32,
          28,
          27,
          22,
          39,
          26,
          37,
          28,
          33,
          21,
          30,
          24,
          31,
          22,
          27,
          26,
          24,
          34,
          29,
          37,
          25,
          40,
          27,
          29,
          31,
          38,
          38,
          21,
          35,
          35,
          31,
          29,
          28,
          28,
          29,
          25,
          25,
          30,
          55,
          38,
          32,
          55,
          22,
          25,
          42,
          54,
          49,
          29,
          27,
          34,
          25,
          27,
          21,
          29,
          22,
          28,
          28,
          22,
          26,
          26,
          23,
          21,
          30,
          38,
          23,
          38,
          29,
          21,
          26,
          23,
          41,
          30,
          32,
          32,
          47,
          39,
          32,
          22,
          30,
          26,
          27,
          41,
          21,
          28,
          30,
          28,
          27,
          22,
          50,
          46,
          43,
          28,
          43,
          38,
          28,
          36,
          45,
          23,
          31,
          23,
          38,
          22,
          22,
          32,
          41,
          35,
          30,
          33,
          49,
          40,
          26,
          30,
          51,
          26,
          23,
          28,
          25,
          25,
          31,
          28,
          24,
          36,
          30,
          32,
          28,
          36,
          27,
          36,
          36,
          33,
          34,
          28,
          33,
          21,
          43,
          27,
          32,
          28,
          37,
          24,
          22,
          24,
          30,
          33,
          21,
          27,
          26,
          30,
          25,
          34,
          22,
          22,
          25,
          40,
          29,
          43,
          38,
          26,
          22,
          29,
          30,
          32,
          24,
          30,
          24,
          25,
          33,
          41,
          25,
          25,
          23,
          31,
          23,
          25,
          23,
          24,
          35,
          29,
          32,
          21,
          31,
          37,
          33,
          20,
          22,
          20,
          21,
          36,
          28,
          35,
          29,
          22,
          27,
          31,
          27,
          20,
          21,
          29,
          26,
          28,
          22,
          30,
          44,
          28,
          32,
          31,
          26,
          33,
          25,
          23,
          31,
          33,
          21,
          29,
          33,
          38,
          29,
          28,
          28,
          28,
          37,
          26,
          27,
          41,
          32,
          24,
          27,
          39,
          34,
          27,
          40,
          25,
          28,
          29,
          21,
          25,
          29,
          27,
          22,
          24,
          25,
          41,
          38,
          26,
          54,
          30,
          28,
          40,
          27,
          34,
          33,
          38,
          37,
          28,
          24,
          35,
          24,
          33,
          21,
          26,
          31,
          30,
          21,
          27,
          29,
          33,
          36,
          22,
          24,
          31,
          27,
          21,
          34,
          34,
          24,
          40,
          28,
          25,
          24,
          33,
          29,
          21,
          22,
          41,
          23,
          25,
          33,
          40,
          27,
          22,
          23,
          31,
          27,
          32,
          29,
          39,
          50,
          31,
          28,
          30,
          25,
          25,
          32,
          24,
          64,
          27,
          36,
          25,
          31,
          31,
          26,
          21,
          23,
          28,
          36,
          24,
          25,
          26,
          39,
          24,
          22,
          21,
          30,
          37,
          28,
          24,
          28,
          25,
          30,
          35,
          34,
          22,
          45,
          48,
          33,
          28,
          26,
          27,
          41,
          23,
          26,
          28,
          29,
          28,
          39,
          23,
          37,
          35,
          36,
          29,
          40,
          25,
          29,
          28,
          33,
          34,
          24,
          23,
          28,
          26,
          24,
          29,
          22,
          25,
          28,
          48,
          37,
          43,
          37,
          25,
          33,
          21,
          25,
          27,
          35,
          45,
          28,
          21,
          27,
          23,
          24,
          49,
          31,
          22,
          35,
          23,
          26,
          29,
          49,
          30,
          21,
          23,
          32,
          23,
          22,
          28,
          26,
          35,
          33,
          32,
          27,
          33,
          39,
          27,
          32,
          58,
          23,
          25,
          41,
          27,
          24,
          26,
          26,
          32,
          23,
          22,
          23,
          21,
          20,
          29,
          39,
          25,
          34,
          23,
          46,
          45,
          25,
          68,
          45,
          27,
          32,
          25,
          23,
          21,
          22,
          23,
          23,
          26,
          23,
          47,
          23,
          31,
          41,
          27,
          30,
          32,
          32,
          29,
          30,
          45,
          39,
          29,
          32,
          23,
          26,
          30,
          27,
          22,
          34,
          29,
          27,
          51,
          26,
          24,
          24,
          55,
          24,
          24,
          28,
          23,
          30,
          49,
          39,
          37,
          30,
          39,
          38,
          31,
          28,
          24,
          31,
          27,
          36,
          27,
          25,
          35,
          23,
          37,
          30,
          26,
          21,
          27,
          39,
          44,
          31,
          26,
          41,
          26,
          24,
          26,
          36,
          26,
          33,
          28,
          32,
          26,
          25,
          32,
          25,
          44,
          29,
          25,
          54,
          26,
          36,
          29,
          33,
          34,
          31,
          20,
          34,
          24,
          22,
          31,
          26,
          31,
          28,
          25,
          29,
          42,
          28,
          40,
          47,
          22,
          27,
          25,
          35,
          23,
          31,
          26,
          39,
          27,
          23,
          51,
          27,
          38,
          26,
          26,
          36,
          27,
          24,
          55,
          32,
          24,
          31,
          35,
          29,
          33,
          42,
          25,
          24,
          20,
          24,
          32,
          34,
          26,
          27,
          24,
          40,
          42,
          28,
          37,
          41,
          21,
          37,
          28,
          25,
          28,
          31,
          23,
          31,
          28,
          39,
          34,
          36,
          27,
          25,
          31,
          35,
          34,
          37,
          39,
          22,
          42,
          28,
          27,
          23,
          28,
          29,
          34,
          34,
          32,
          53,
          29,
          24,
          38,
          35,
          26,
          24,
          24,
          25,
          31,
          32,
          32,
          28,
          29,
          37,
          24,
          31,
          24,
          30,
          29,
          33,
          29,
          33,
          21,
          36,
          41,
          26,
          22,
          32,
          24,
          24,
          26,
          22,
          30,
          32,
          32,
          30,
          29,
          37,
          37,
          23,
          36,
          31,
          48,
          35,
          31,
          24,
          23,
          29,
          29,
          28,
          20,
          38,
          26,
          23,
          42,
          27,
          35,
          26,
          29,
          34,
          36,
          48,
          38,
          43,
          26,
          23,
          35,
          35,
          33,
          26,
          25,
          22,
          28,
          25,
          31,
          27,
          32,
          31,
          36,
          28,
          29,
          24,
          31,
          36,
          34,
          28,
          31,
          55,
          39,
          42,
          32,
          21,
          24,
          34,
          30,
          36,
          24,
          36,
          31,
          48,
          31,
          31,
          27,
          41,
          29,
          38,
          35,
          30,
          34,
          25,
          32,
          28,
          22,
          20,
          23,
          34,
          27,
          28,
          21,
          39,
          51,
          34,
          26,
          27,
          45,
          41,
          32,
          27,
          27,
          31,
          26,
          33,
          27,
          26,
          23,
          28,
          27,
          28,
          37,
          29,
          33,
          33,
          21,
          26,
          23,
          26,
          21,
          28,
          29,
          33,
          30,
          28,
          31,
          33,
          36,
          35,
          20,
          22,
          43,
          30,
          23,
          25,
          26,
          26,
          41,
          26,
          26,
          28,
          26,
          40,
          29,
          26,
          29,
          31,
          29,
          24,
          36,
          27,
          33,
          48,
          41,
          29,
          32,
          28,
          26,
          25,
          23,
          40,
          32,
          31,
          29,
          57,
          31,
          29,
          54,
          25,
          27,
          46,
          24,
          25,
          30,
          43,
          26,
          45,
          25,
          20,
          30,
          37,
          29,
          22,
          40,
          26,
          27,
          22,
          44,
          26,
          29,
          42,
          30,
          21,
          23,
          31,
          25,
          33,
          35,
          38,
          27,
          42,
          33,
          29,
          29,
          29,
          22,
          31,
          34,
          37,
          31,
          27,
          24,
          35,
          61,
          29,
          20,
          45,
          23,
          23,
          32,
          29,
          21,
          28,
          27,
          40,
          32,
          31,
          29,
          23,
          28,
          53,
          24,
          28,
          63,
          29,
          28,
          25,
          28,
          26,
          24,
          41,
          31,
          22,
          37,
          31,
          26,
          36,
          23,
          22,
          29,
          54,
          28,
          43,
          35,
          31,
          20,
          28,
          22,
          26,
          28,
          31,
          36,
          35,
          29,
          24,
          24,
          23,
          22,
          45,
          24,
          21,
          41,
          30,
          20,
          25,
          26,
          26,
          24,
          29,
          25,
          23,
          26,
          30,
          31,
          34,
          28,
          22,
          43,
          37,
          24,
          26,
          46,
          26,
          22,
          29,
          28,
          31,
          28,
          49,
          29,
          25,
          25,
          24,
          31,
          41,
          24,
          22,
          42,
          24,
          26,
          28,
          41,
          40,
          27,
          23,
          26,
          27,
          30,
          31,
          23,
          41,
          27,
          32,
          31,
          40,
          39,
          31,
          43,
          31,
          20,
          30,
          35,
          21,
          30,
          25,
          35,
          23,
          25,
          31,
          32,
          35,
          27,
          22,
          32,
          25,
          42,
          60,
          47,
          24,
          32,
          32,
          27,
          23,
          25,
          27,
          24,
          21,
          23,
          33,
          24,
          29,
          23,
          35,
          29,
          34,
          52,
          30,
          50,
          40,
          30,
          33,
          28,
          33,
          26,
          24,
          23,
          34,
          21,
          37,
          29,
          25,
          40,
          47,
          25,
          35,
          24,
          27,
          25,
          27,
          21,
          44,
          32,
          26,
          35,
          32,
          41,
          25,
          42,
          35,
          31,
          32,
          31,
          55,
          26,
          30,
          25,
          25,
          34,
          26,
          24,
          38,
          28,
          26,
          34,
          27,
          30,
          27,
          25,
          24,
          26,
          26,
          32,
          44,
          26,
          27,
          23,
          24,
          48,
          30,
          25,
          25,
          24,
          48,
          61,
          22,
          21,
          21,
          39,
          26,
          27,
          22,
          27,
          35,
          28,
          21,
          25,
          26,
          37,
          26,
          65,
          28,
          42,
          28,
          21,
          24,
          20,
          25,
          58,
          25,
          33,
          24,
          21,
          36,
          34,
          24,
          23,
          24,
          43,
          26,
          31,
          25,
          36,
          28,
          28,
          34,
          31,
          32,
          21,
          39,
          26,
          27,
          24,
          28,
          43,
          24,
          33,
          29,
          47,
          34,
          30,
          29,
          41,
          24,
          29,
          31,
          34,
          24,
          48,
          21,
          22,
          31,
          22,
          21,
          30,
          32,
          28,
          39,
          46,
          29,
          21,
          40,
          24,
          34,
          32,
          22,
          28,
          25,
          28,
          34,
          36,
          24,
          28,
          40,
          22,
          26,
          25,
          29,
          40,
          41,
          31,
          34,
          34,
          25,
          34,
          38,
          21,
          36,
          36,
          26,
          31,
          30,
          42,
          21,
          20,
          24,
          58,
          25,
          28,
          42,
          31,
          23,
          22,
          25,
          41,
          37,
          33,
          41,
          30,
          27,
          22,
          30,
          31,
          21,
          43,
          29,
          31,
          53,
          28,
          38,
          29,
          35,
          26,
          25,
          30,
          21,
          26,
          30,
          25,
          34,
          45,
          31,
          27,
          27,
          26,
          26,
          33,
          35,
          22,
          28,
          24,
          34,
          23,
          26,
          25,
          31,
          23,
          27,
          41,
          29,
          43,
          25,
          24,
          47,
          29,
          23,
          25,
          29,
          31,
          33,
          46,
          21,
          30,
          27,
          26,
          23,
          25,
          28,
          27,
          21,
          26,
          26,
          29,
          28,
          31,
          23,
          27,
          22,
          23,
          23,
          36,
          26,
          24,
          32,
          30,
          31,
          23,
          26,
          54,
          22,
          21,
          26,
          31,
          24,
          31,
          37,
          28,
          29,
          24,
          23,
          33,
          24,
          40,
          48,
          23,
          38,
          30,
          29,
          27,
          32,
          24,
          29,
          39,
          22,
          33,
          28,
          30,
          26,
          34,
          39,
          27,
          37,
          27,
          34,
          32,
          25,
          20,
          24,
          29,
          29,
          29,
          21,
          47,
          30,
          39,
          36,
          36,
          27,
          41,
          28,
          25,
          37,
          27,
          27,
          41,
          31,
          31,
          25,
          49,
          28,
          25,
          23,
          36,
          24,
          25,
          25,
          32,
          48,
          22,
          21,
          43,
          46,
          27,
          43,
          29,
          25,
          34,
          23,
          27,
          28,
          25,
          32,
          32,
          26,
          24,
          42,
          23,
          21,
          41,
          28,
          23,
          38,
          38,
          33,
          42,
          26,
          22,
          22,
          24,
          38,
          27,
          28,
          24,
          44,
          29,
          28,
          32,
          37,
          51,
          22,
          25,
          35,
          40,
          29,
          42,
          29,
          31,
          25,
          23,
          25,
          35,
          37,
          24,
          26,
          33,
          34,
          27,
          33,
          24,
          37,
          23,
          27,
          42,
          36,
          23,
          25,
          32,
          42,
          24,
          28,
          42,
          28,
          41,
          23,
          24,
          30,
          47,
          23,
          29,
          20,
          28,
          32,
          29,
          21,
          33,
          30,
          29,
          47,
          39,
          35,
          28,
          33,
          28,
          33,
          22,
          21,
          28,
          25,
          32,
          38,
          38,
          34,
          22,
          39,
          35,
          32,
          24,
          26,
          22,
          36,
          32,
          25,
          31,
          24,
          33,
          45,
          33,
          26,
          35,
          26,
          24,
          25,
          43,
          34,
          29,
          28,
          24,
          25,
          22,
          30,
          24,
          35,
          22,
          30,
          41,
          21,
          42,
          41,
          29,
          44,
          27,
          28,
          28,
          31,
          40,
          31,
          38,
          29,
          22,
          23,
          21,
          20,
          25,
          30,
          30,
          41,
          31,
          29,
          32,
          29,
          22,
          31,
          35,
          51,
          50,
          33,
          24,
          33,
          24,
          31,
          29,
          28,
          26,
          45,
          34,
          38,
          31,
          39,
          36,
          24,
          27,
          21,
          35,
          47,
          25,
          20,
          20,
          33,
          28,
          25,
          31,
          32,
          32,
          32,
          36,
          25,
          27,
          47,
          29,
          40,
          45,
          36,
          35,
          47,
          28,
          23,
          39,
          38,
          28,
          21,
          31,
          27,
          62,
          34,
          35,
          25,
          20,
          25,
          24,
          31,
          42,
          42,
          22,
          30,
          26,
          47,
          42,
          35,
          44,
          63,
          22,
          22,
          24,
          48,
          28,
          29,
          33,
          21,
          34,
          27,
          31,
          34,
          40,
          25,
          26,
          23,
          59,
          37,
          42,
          21,
          30,
          30,
          24,
          24,
          34,
          28,
          38,
          25,
          24,
          48,
          24,
          23,
          52,
          31,
          33,
          22,
          46,
          23,
          29,
          21,
          29,
          20,
          29,
          37,
          26,
          23,
          45,
          22,
          33,
          24,
          27,
          41,
          20,
          25,
          26,
          32,
          23,
          32,
          35,
          41,
          36,
          23,
          30,
          32,
          43,
          22,
          41,
          29,
          26,
          36,
          59,
          31,
          37,
          40,
          25,
          31,
          32,
          24,
          34,
          27,
          53,
          29,
          29,
          33,
          26,
          21,
          27,
          26,
          30,
          36,
          32,
          30,
          30,
          43,
          51,
          28,
          21,
          28,
          45,
          33,
          30,
          42,
          21,
          23,
          42,
          21,
          27,
          30,
          30,
          24,
          26,
          38,
          22,
          26,
          39,
          47,
          25,
          31,
          48,
          30,
          46,
          22,
          24,
          25,
          25,
          26,
          39,
          52,
          24,
          26,
          34,
          28,
          31,
          31,
          31,
          28,
          28,
          35,
          21,
          36,
          26,
          24,
          34,
          27,
          29,
          29,
          30,
          24,
          26,
          27,
          26,
          25,
          22,
          28,
          25,
          38,
          20,
          41,
          27,
          28,
          31,
          29,
          24,
          46,
          56,
          23,
          27,
          31,
          28,
          31,
          34,
          24,
          43,
          50,
          24,
          57,
          29,
          32,
          47,
          26,
          36,
          33,
          41,
          41,
          33,
          26,
          30,
          35,
          35,
          26,
          23,
          32,
          22,
          35,
          32,
          39,
          37,
          32,
          24,
          20,
          22,
          32,
          33,
          23,
          30,
          34,
          33,
          31,
          34,
          27,
          24,
          25,
          25,
          37,
          25,
          21,
          34,
          40,
          37,
          29,
          26,
          24,
          34,
          27,
          27,
          30,
          22,
          25,
          25,
          26,
          50,
          24,
          26,
          27,
          25,
          30,
          35,
          40,
          53,
          33,
          50,
          28,
          35,
          29,
          23,
          29,
          28,
          25,
          25,
          47,
          28,
          31,
          43,
          27,
          22,
          35,
          25,
          21,
          28,
          29,
          24,
          22,
          37,
          50,
          25,
          24,
          44,
          32,
          33,
          23,
          26,
          38,
          22,
          21,
          41,
          21,
          41,
          28,
          23,
          33,
          46,
          31,
          28,
          31,
          39,
          29,
          25,
          26,
          27,
          26,
          36,
          29,
          23,
          32,
          41,
          31,
          27,
          35,
          33,
          28,
          30,
          36,
          21,
          30,
          24,
          38,
          24,
          33,
          32,
          22,
          50,
          23,
          32,
          46,
          36,
          24,
          29,
          40,
          22,
          25,
          29,
          26,
          42,
          43,
          46,
          33,
          27,
          32,
          23,
          24,
          39,
          59,
          24,
          31,
          27,
          30,
          32,
          23,
          34,
          24,
          24,
          45,
          30,
          25,
          25,
          28,
          35,
          31,
          28,
          24,
          26,
          34,
          55,
          32,
          31,
          24,
          24,
          28,
          32,
          35,
          23,
          23,
          38,
          24,
          26,
          32,
          28,
          47,
          27,
          26,
          31,
          40,
          37,
          40,
          21,
          31,
          27,
          26,
          30,
          35,
          34,
          47,
          36,
          27,
          24,
          23,
          26,
          30,
          35,
          28,
          34,
          27,
          27,
          32,
          35,
          35,
          25,
          31,
          30,
          27,
          56,
          28,
          45,
          30,
          25,
          26,
          29,
          32,
          31,
          40,
          30,
          31,
          44,
          30,
          37,
          27,
          29,
          28,
          34,
          45,
          33,
          25,
          22,
          31,
          21,
          24,
          33,
          41,
          41,
          29,
          29,
          25,
          27,
          27,
          36,
          40,
          50,
          24,
          29,
          32,
          26,
          32,
          26,
          38,
          24,
          27,
          23,
          26,
          32,
          25,
          41,
          27,
          34,
          24,
          30,
          31,
          27,
          24,
          31,
          24,
          28,
          25,
          36,
          36,
          32,
          26,
          27,
          22,
          21,
          33,
          32,
          54,
          36,
          21,
          29,
          39,
          37,
          37,
          22,
          26,
          52,
          35,
          21,
          28,
          22,
          20,
          28,
          22,
          21,
          24,
          23,
          29,
          63,
          27,
          20,
          29,
          41,
          26,
          27,
          22,
          24,
          36,
          43,
          35,
          60,
          30,
          24,
          27,
          25,
          22,
          28,
          22,
          27,
          31,
          39,
          29,
          28,
          35,
          41,
          35,
          37,
          22,
          32,
          23,
          27,
          26,
          29,
          26,
          24,
          24,
          37,
          28,
          31,
          26,
          26,
          25,
          20,
          41,
          28,
          40,
          33,
          23,
          27,
          27,
          31,
          30,
          37,
          45,
          23,
          44,
          33,
          23,
          33,
          26,
          43,
          25,
          43,
          21,
          34,
          32,
          28,
          30,
          20,
          39,
          25,
          28,
          29,
          26,
          32,
          25,
          24,
          32,
          23,
          22,
          40,
          23,
          29,
          38,
          37,
          48,
          42,
          32,
          23,
          25,
          27,
          42,
          33,
          43,
          25,
          43,
          28,
          25,
          39,
          27,
          23,
          27,
          21,
          36,
          29,
          26,
          26,
          30,
          22,
          49,
          51,
          46,
          48,
          28,
          26,
          26,
          23,
          21,
          35,
          38,
          21,
          39,
          28,
          31,
          34,
          26,
          30,
          21,
          26,
          27,
          27,
          30,
          50,
          29,
          25,
          25,
          27,
          24,
          26,
          28,
          29,
          32,
          21,
          43,
          25,
          26,
          24,
          44,
          39,
          24,
          23,
          29,
          21,
          30,
          35,
          24,
          42,
          21,
          47,
          32,
          28,
          36,
          24,
          28,
          25,
          36,
          27,
          25,
          31,
          35,
          21,
          27,
          39,
          39,
          34,
          20,
          24,
          37,
          36,
          33,
          33,
          40,
          31,
          23,
          34,
          30,
          29,
          23,
          28,
          24,
          40,
          32,
          33,
          24,
          39,
          41,
          30,
          37,
          22,
          47,
          30,
          42,
          45,
          26,
          25,
          22,
          32,
          45,
          32,
          24,
          42,
          26,
          26,
          23,
          31,
          39,
          27,
          24,
          23,
          35,
          25,
          31,
          36,
          30,
          30,
          33,
          28,
          27,
          25,
          25,
          26,
          41,
          24,
          33,
          44,
          29,
          21,
          34,
          37,
          25,
          48,
          25,
          28,
          25,
          32,
          43,
          26,
          37,
          24,
          28,
          23,
          31,
          31,
          24,
          47,
          26,
          30,
          27,
          33,
          27,
          44,
          32,
          42,
          41,
          26,
          40,
          32,
          28,
          22,
          23,
          38,
          23,
          26,
          29,
          32,
          54,
          29,
          27,
          44,
          23,
          34,
          27,
          33,
          29,
          26,
          40,
          26,
          26,
          27,
          29,
          26,
          24,
          30,
          38,
          34,
          29,
          31,
          29,
          24,
          38,
          39,
          30,
          29,
          23,
          33,
          23,
          25,
          26,
          24,
          32,
          39,
          27,
          53,
          31,
          22,
          31,
          55,
          24,
          27,
          28,
          32,
          34,
          41,
          34,
          21,
          32,
          43,
          42,
          32,
          32,
          32,
          41,
          53,
          39,
          26,
          21,
          39,
          33,
          28,
          22,
          21,
          21,
          29,
          37,
          29,
          30,
          30,
          25,
          27,
          32,
          25,
          37,
          25,
          28,
          42,
          41,
          22,
          32,
          44,
          35,
          49,
          21,
          23,
          31,
          20,
          33,
          32,
          22,
          30,
          38,
          42,
          32,
          30,
          27,
          29,
          31,
          26,
          25,
          27,
          33,
          26,
          25,
          27,
          37,
          40,
          24,
          26,
          36,
          37,
          57,
          30,
          31,
          28,
          25,
          23,
          27,
          21,
          29,
          27,
          32,
          42,
          27,
          43,
          24,
          27,
          29,
          24,
          28,
          28,
          21,
          30,
          34,
          28,
          34,
          38,
          27,
          29,
          27,
          32,
          23,
          31,
          23,
          23,
          28,
          22,
          26,
          30,
          38,
          23,
          30,
          46,
          26,
          34,
          39,
          38,
          26,
          21,
          36,
          37,
          37,
          31,
          55,
          26,
          26,
          25,
          43,
          28,
          29,
          26,
          27,
          27,
          31,
          25,
          33,
          42,
          39,
          29,
          25,
          27,
          26,
          24,
          41,
          42,
          36,
          24,
          40,
          25,
          27,
          37,
          26,
          25,
          36,
          34,
          27,
          30,
          20,
          37,
          33,
          33,
          29,
          31,
          35,
          24,
          29,
          38,
          24,
          32,
          35,
          25,
          22,
          25,
          26,
          30,
          29,
          42,
          34,
          24,
          38,
          25,
          27,
          24,
          31,
          30,
          25,
          30,
          27,
          29,
          24,
          32,
          31,
          24,
          50,
          37,
          34,
          31,
          29,
          29,
          25,
          21,
          26,
          34,
          28,
          43,
          23,
          22,
          32,
          22,
          27,
          23,
          24,
          30,
          35,
          33,
          32,
          26,
          25,
          27,
          26,
          23,
          31,
          23,
          25,
          36,
          29,
          30,
          26,
          33,
          38,
          25,
          31,
          33,
          35,
          39,
          30,
          30,
          33,
          25,
          36,
          33,
          35,
          34,
          31,
          30,
          29,
          25,
          22,
          46,
          27,
          31,
          28,
          41,
          23,
          38,
          34,
          33,
          24,
          34,
          22,
          28,
          38,
          21,
          38,
          26,
          26,
          40,
          37,
          23,
          37,
          20,
          28,
          36,
          22,
          24,
          21,
          27,
          30,
          24,
          26,
          23,
          28,
          31,
          25,
          31,
          38,
          24,
          34,
          26,
          24,
          23,
          35,
          36,
          24,
          35,
          28,
          30,
          23,
          26,
          28,
          23,
          24,
          28,
          22,
          28,
          27,
          25,
          28,
          31,
          33,
          40,
          29,
          21,
          42,
          28,
          39,
          22,
          25,
          36,
          32,
          26,
          22,
          30,
          23,
          51,
          43,
          30,
          29,
          35,
          30,
          36,
          28,
          39,
          26,
          35,
          24,
          53,
          23,
          42,
          23,
          27,
          26,
          31,
          27,
          21,
          36,
          33,
          31,
          26,
          43,
          27,
          29,
          25,
          29,
          36,
          42,
          33,
          29,
          30,
          28,
          25,
          23,
          30,
          44,
          30,
          28,
          54,
          31,
          45,
          23,
          28,
          22,
          41,
          40,
          29,
          51,
          27,
          45,
          22,
          28,
          29,
          28,
          32,
          26,
          30,
          28,
          65,
          29,
          24,
          28,
          39,
          24,
          24,
          26,
          28,
          35,
          47,
          31,
          27,
          31,
          39,
          24,
          25,
          31,
          24,
          48,
          23,
          33,
          26,
          23,
          44,
          34,
          43,
          37,
          34,
          45,
          29,
          26,
          33,
          28,
          24,
          45,
          35,
          25,
          25,
          23,
          25,
          25,
          27,
          32,
          26,
          25,
          45,
          36,
          25,
          33,
          23,
          25,
          31,
          35,
          43,
          26,
          25,
          32,
          49,
          27,
          28,
          25,
          44,
          25,
          30,
          36,
          27,
          23,
          36,
          21,
          28,
          22,
          22,
          44,
          29,
          33,
          26,
          26,
          23,
          25,
          46,
          20,
          30,
          22,
          35,
          31,
          21,
          33,
          23,
          22,
          31,
          35,
          27,
          22,
          24,
          24,
          48,
          24,
          23,
          31,
          32,
          44,
          36,
          36,
          28,
          24,
          35,
          40,
          27,
          28,
          24,
          21,
          32,
          32,
          21,
          24,
          35,
          31,
          26,
          26,
          22,
          26,
          35,
          26,
          30,
          29,
          31,
          27,
          40,
          25,
          30,
          32,
          28,
          29,
          21,
          24,
          29,
          29,
          27,
          25,
          27,
          31,
          27,
          32,
          27,
          33,
          30,
          31,
          25,
          27,
          22,
          30,
          37,
          45,
          22,
          30,
          50,
          25,
          30,
          29,
          30,
          36,
          24,
          32,
          28,
          27,
          28,
          29,
          32,
          46,
          45,
          33,
          50,
          20,
          26,
          34,
          21,
          25,
          32,
          22,
          22,
          25,
          26,
          42,
          21,
          33,
          41,
          21,
          25,
          20,
          29,
          31,
          25,
          27,
          25,
          25,
          26,
          21,
          32,
          25,
          33,
          31,
          26,
          34,
          24,
          23,
          27,
          21,
          30,
          41,
          23,
          25,
          27,
          29,
          30,
          33,
          37,
          24,
          35,
          29,
          33,
          22,
          35,
          30,
          25,
          41,
          21,
          25,
          25,
          32,
          27,
          40,
          27,
          26,
          33,
          48,
          24,
          44,
          30,
          40,
          40,
          22,
          26,
          39,
          37,
          21,
          41,
          35,
          31,
          38,
          25,
          33,
          20,
          42,
          23,
          26,
          34,
          34,
          25,
          33,
          33,
          41,
          36,
          45,
          27,
          36,
          23,
          33,
          29,
          30,
          31,
          38,
          27,
          25,
          28,
          26,
          54,
          29,
          32,
          31,
          26,
          33,
          29,
          31,
          20,
          28,
          27,
          36,
          30,
          21,
          26,
          53,
          28,
          33,
          32,
          26,
          27,
          21,
          26,
          28,
          22,
          31,
          25,
          30,
          25,
          28,
          26,
          22,
          31,
          22,
          29,
          60,
          22,
          37,
          49,
          33,
          23,
          22,
          30,
          29,
          26,
          28,
          24,
          28,
          34,
          28,
          26,
          24,
          29,
          38,
          26,
          22,
          22,
          48,
          38,
          37,
          21,
          26,
          45,
          31,
          25,
          32,
          26,
          24,
          43,
          24,
          28,
          31,
          21,
          32,
          38,
          23,
          28,
          28,
          39,
          39,
          45,
          34,
          23,
          30,
          22,
          35,
          28,
          30,
          26,
          22,
          34,
          30,
          23,
          20,
          29,
          36,
          28,
          33,
          46,
          36,
          28,
          58,
          28,
          24,
          25,
          22,
          30,
          22,
          35,
          26,
          30,
          28,
          23,
          31,
          36,
          22,
          44,
          29,
          25,
          28,
          23,
          42,
          27,
          30,
          28,
          29,
          30,
          29,
          29,
          33,
          33,
          25,
          38,
          47,
          21,
          43,
          37,
          20,
          26,
          21,
          32,
          20,
          23,
          24,
          40,
          27,
          31,
          28,
          42,
          22,
          26,
          30,
          21,
          34,
          33,
          20,
          21,
          28,
          25,
          27,
          33,
          20,
          30,
          26,
          22,
          28,
          30,
          27,
          22,
          32,
          25,
          33,
          27,
          22,
          20,
          29,
          31,
          26,
          29,
          28,
          26,
          23,
          26,
          35,
          21,
          21,
          22,
          46,
          25,
          33,
          26,
          34,
          22,
          30,
          26,
          24,
          27,
          27,
          28,
          32,
          27,
          25,
          43,
          26,
          36,
          42,
          30,
          43,
          25,
          47,
          34,
          28,
          33,
          22,
          26,
          31,
          22,
          35,
          26,
          47,
          24,
          36,
          26,
          33,
          25,
          20,
          29,
          31,
          41,
          27,
          25,
          29,
          21,
          34,
          28,
          43,
          28,
          30,
          21,
          32,
          25,
          26,
          48,
          38,
          24,
          25,
          29,
          48,
          39,
          27,
          30,
          34,
          27,
          35,
          35,
          37,
          23,
          29,
          40,
          23,
          66,
          27,
          26,
          43,
          28,
          23,
          28,
          22,
          36,
          37,
          26,
          45,
          40,
          26,
          23,
          25,
          25,
          39,
          21,
          27,
          27,
          24,
          39,
          21,
          34,
          26,
          22,
          26,
          34,
          31,
          43,
          29,
          37,
          44,
          31,
          34,
          29,
          27,
          34,
          32,
          22,
          28,
          57,
          23,
          28,
          33,
          22,
          28,
          26,
          34,
          23,
          46,
          26,
          31,
          39,
          33,
          22,
          34,
          30,
          39,
          29,
          35,
          24,
          49,
          24,
          27,
          26,
          26,
          22,
          27,
          27,
          51,
          34,
          42,
          24,
          36,
          33,
          28,
          21,
          23,
          33,
          43,
          37,
          21,
          30,
          34,
          26,
          36,
          31,
          27,
          22,
          30,
          29,
          24,
          27,
          25,
          29,
          33,
          25,
          23,
          23,
          37,
          36,
          28,
          21,
          34,
          26,
          27,
          22,
          33,
          32,
          27,
          34,
          39,
          43,
          26,
          25,
          26,
          34,
          40,
          30,
          39,
          33,
          20,
          33,
          50,
          23,
          35,
          26,
          24,
          23,
          32,
          23,
          44,
          35,
          25,
          23,
          43,
          29,
          27,
          30,
          23,
          25,
          27,
          25,
          26,
          21,
          33,
          35,
          34,
          21,
          24,
          28,
          22,
          30,
          33,
          34,
          41,
          36,
          36,
          26,
          22,
          21,
          30,
          47,
          27,
          24,
          28,
          23,
          29,
          34,
          35,
          39,
          33,
          32,
          31,
          28,
          32,
          25,
          24,
          38,
          35,
          23,
          22,
          37,
          25,
          26,
          21,
          40,
          21,
          46,
          29,
          39,
          33,
          36,
          23,
          22,
          35,
          21,
          24,
          34,
          30,
          34,
          46,
          28,
          26,
          28,
          20,
          42,
          45,
          44,
          39,
          25,
          32,
          31,
          28,
          28,
          41,
          32,
          26,
          36,
          35,
          34,
          34,
          38,
          42,
          37,
          23,
          22,
          20,
          32,
          26,
          45,
          25,
          42,
          22,
          24,
          29,
          61,
          29,
          39,
          37,
          32,
          31,
          29,
          23,
          27,
          26,
          36,
          27,
          27,
          40,
          21,
          29,
          30,
          26,
          35,
          22,
          61,
          27,
          24,
          26,
          24,
          23,
          28,
          21,
          30,
          32,
          31,
          22,
          38,
          22,
          30,
          30,
          31,
          29,
          32,
          28,
          25,
          26,
          28,
          22,
          24,
          28,
          31,
          24,
          22,
          37,
          45,
          28,
          28,
          28,
          31,
          35,
          21,
          44,
          41,
          27,
          44,
          29,
          25,
          29,
          33,
          31,
          27,
          33,
          38,
          30,
          41,
          33,
          26,
          22,
          35,
          38,
          33,
          21,
          30,
          40,
          39,
          24,
          27,
          31,
          38,
          27,
          25,
          20,
          27,
          39,
          31,
          29,
          32,
          25,
          35,
          24,
          25,
          22,
          29,
          40,
          45,
          29,
          37,
          33,
          31,
          23,
          22,
          33,
          36,
          31,
          33,
          24,
          34,
          24,
          27,
          24,
          24,
          26,
          34,
          24,
          42,
          27,
          26,
          46,
          23,
          22,
          38,
          25,
          33,
          49,
          20,
          30,
          26,
          45,
          27,
          33,
          24,
          25,
          41,
          25,
          26,
          28,
          22,
          28,
          22,
          34,
          28,
          39,
          49,
          26,
          22,
          25,
          40,
          28,
          27,
          22,
          49,
          23,
          37,
          40,
          30,
          34,
          32,
          22,
          20,
          27,
          28,
          24,
          26,
          24,
          35,
          22,
          21,
          39,
          21,
          21,
          34,
          29,
          41,
          31,
          24,
          26,
          27,
          30,
          21,
          30,
          28,
          29,
          51,
          24,
          22,
          39,
          25,
          27,
          65,
          29,
          29,
          35,
          33,
          29,
          25,
          21,
          26,
          41,
          28,
          35,
          31,
          33,
          30,
          27,
          31,
          28,
          36,
          27,
          36,
          25,
          39,
          22,
          42,
          28,
          47,
          43,
          35,
          28,
          26,
          28,
          25,
          26,
          24,
          32,
          34,
          36,
          23,
          26,
          25,
          27,
          42,
          24,
          38,
          24,
          31,
          36,
          35,
          24,
          40,
          23,
          25,
          27,
          22,
          28,
          32,
          30,
          33,
          27,
          24,
          25,
          27,
          29,
          28,
          30,
          29,
          28,
          44,
          36,
          33,
          26,
          25,
          24,
          24,
          23,
          31,
          25,
          28,
          26,
          32,
          26,
          25,
          33,
          27,
          21,
          26,
          23,
          28,
          37,
          37,
          21,
          26,
          22,
          33,
          21,
          25,
          28,
          36,
          40,
          29,
          49,
          34,
          44,
          30,
          29,
          37,
          27,
          20,
          28,
          24,
          39,
          49,
          29,
          46,
          30,
          38,
          31,
          32,
          24,
          28,
          23,
          42,
          32,
          38,
          44,
          25,
          23,
          34,
          30,
          23,
          53,
          30,
          31,
          32,
          39,
          25,
          30,
          31,
          26,
          21,
          34,
          26,
          23,
          24,
          35,
          28,
          33,
          38,
          32,
          34,
          30,
          39,
          30,
          23,
          31,
          25,
          23,
          40,
          37,
          22,
          37,
          24,
          30,
          39,
          43,
          25,
          26,
          27,
          32,
          25,
          25,
          50,
          31,
          26,
          29,
          28,
          28,
          31,
          23,
          23,
          27,
          24,
          22,
          25,
          26,
          25,
          21,
          41,
          23,
          33,
          25,
          33,
          33,
          21,
          43,
          30,
          26,
          38,
          27,
          24,
          26,
          24,
          29,
          32,
          28,
          29,
          29,
          36,
          26,
          42,
          21,
          23,
          29,
          20,
          33,
          43,
          25,
          25,
          22,
          32,
          29,
          46,
          25,
          21,
          44,
          38,
          41,
          34,
          31,
          42,
          25,
          30,
          24,
          26,
          26,
          29,
          25,
          43,
          30,
          24,
          24,
          39,
          32,
          37,
          36,
          27,
          38,
          36,
          22,
          33,
          24,
          41,
          24,
          27,
          22,
          28,
          29,
          22,
          23,
          24,
          22,
          27,
          34,
          25,
          29,
          45,
          31,
          32,
          31,
          27,
          42,
          26,
          20,
          30,
          31,
          25,
          24,
          40,
          24,
          38,
          28,
          34,
          35,
          28,
          24,
          49,
          25,
          40,
          25,
          34,
          25,
          39,
          24,
          20,
          24,
          23,
          26,
          26,
          24,
          32,
          42,
          25,
          38,
          20,
          23,
          27,
          29,
          32,
          24,
          21,
          25,
          26,
          31,
          28,
          27,
          25,
          23,
          38,
          26,
          27,
          44,
          55,
          33,
          36,
          28,
          25,
          24,
          29,
          22,
          26,
          53,
          28,
          31,
          43,
          27,
          24,
          23,
          23,
          38,
          29,
          38,
          39,
          25,
          34,
          38,
          22,
          26,
          27,
          27,
          42,
          20,
          25,
          36,
          34,
          23,
          32,
          24,
          31,
          33,
          51,
          25,
          32,
          34,
          29,
          24,
          31,
          25,
          33,
          28,
          47,
          31,
          39,
          20,
          25,
          35,
          26,
          32,
          33,
          26,
          27,
          22,
          22,
          24,
          26,
          26,
          39,
          31,
          35,
          42,
          30,
          23,
          27,
          27,
          27,
          31,
          42,
          26,
          38,
          35,
          22,
          28,
          50,
          31,
          25,
          42,
          30,
          29,
          41,
          42,
          29,
          26,
          24,
          29,
          31,
          23,
          31,
          21,
          43,
          33,
          31,
          30,
          20,
          20,
          39,
          27,
          25,
          31,
          32,
          28,
          25,
          39,
          31,
          45,
          32,
          28,
          28,
          30,
          43,
          28,
          36,
          22,
          23,
          29,
          42,
          31,
          39,
          27,
          35,
          23,
          43,
          21,
          24,
          31,
          25,
          32,
          30,
          24,
          27,
          26,
          26,
          40,
          36,
          65,
          23,
          43,
          32,
          39,
          24,
          39,
          34,
          45,
          29,
          24,
          20,
          29,
          35,
          30,
          38,
          27,
          30,
          37,
          35,
          34,
          30,
          29,
          32,
          39,
          33,
          28,
          29,
          36,
          47,
          47,
          28,
          21,
          37,
          50,
          21,
          28,
          31,
          26,
          30,
          36,
          23,
          29,
          32,
          35,
          30,
          39,
          27,
          28,
          21,
          24,
          40,
          26,
          24,
          28,
          38,
          47,
          27,
          45,
          22,
          27,
          21,
          30,
          24,
          32,
          28,
          28,
          24,
          23,
          28,
          28,
          20,
          23,
          28,
          36,
          22,
          32,
          21,
          30,
          25,
          32,
          39,
          32,
          30,
          27,
          32,
          31,
          25,
          34,
          26,
          28,
          31,
          39,
          25,
          41,
          37,
          31,
          20,
          28,
          35,
          32,
          25,
          49,
          41,
          21,
          23,
          44,
          32,
          31,
          40,
          21,
          26,
          30,
          43,
          36,
          24,
          39,
          26,
          24,
          33,
          33,
          31,
          26,
          32,
          24,
          25,
          30,
          29,
          22,
          28,
          42,
          26,
          31,
          39,
          38,
          27,
          23,
          36,
          30,
          30,
          33,
          32,
          24,
          27,
          26,
          29,
          28,
          37,
          36,
          31,
          22,
          34,
          27,
          43,
          28,
          42,
          26,
          29,
          28,
          39,
          23,
          41,
          24,
          34,
          27,
          32,
          25,
          30,
          28,
          29,
          38,
          44,
          32,
          29,
          28,
          29,
          45,
          32,
          33,
          26,
          38,
          37,
          29,
          31,
          23,
          27,
          23,
          24,
          37,
          27,
          21,
          29,
          41,
          31,
          36,
          28,
          38,
          25,
          21,
          37,
          37,
          32,
          48,
          28,
          38,
          26,
          26,
          31,
          28,
          26,
          34,
          23,
          32,
          28,
          27,
          22,
          31,
          30,
          27,
          32,
          31,
          30,
          24,
          44,
          36,
          32,
          25,
          22,
          44,
          30,
          20,
          31,
          33,
          22,
          26,
          30,
          37,
          31,
          28,
          33,
          39,
          40,
          25,
          27,
          29,
          43,
          28,
          38,
          39,
          33,
          35,
          37,
          26,
          26,
          26,
          25,
          49,
          25,
          26,
          28,
          24,
          22,
          24,
          25,
          27,
          42,
          24,
          23,
          31,
          26,
          41,
          25,
          20,
          28,
          29,
          46,
          39,
          24,
          34,
          30,
          23,
          25,
          23,
          28,
          31,
          37,
          40,
          28,
          26,
          26,
          33,
          23,
          26,
          31,
          35,
          22,
          25,
          25,
          26,
          29,
          25,
          42,
          28,
          46,
          24,
          26,
          28,
          27,
          29,
          33,
          27,
          26,
          25,
          32,
          21,
          40,
          35,
          32,
          35,
          45,
          26,
          23,
          26,
          30,
          22,
          29,
          35,
          31,
          38,
          29,
          28,
          32,
          40,
          32,
          22,
          24,
          32,
          38,
          27,
          26,
          24,
          26,
          30,
          36,
          20,
          27,
          30,
          23,
          44,
          21,
          36,
          28,
          29,
          34,
          20,
          38,
          39,
          35,
          21,
          34,
          41,
          32,
          30,
          27,
          42,
          24,
          30,
          24,
          29,
          31,
          25,
          27,
          29,
          38,
          26,
          37,
          21,
          44,
          25,
          21,
          24,
          27,
          22,
          27,
          33,
          65,
          25,
          21,
          23,
          26,
          43,
          29,
          23,
          26,
          27,
          31,
          26,
          23,
          36,
          38,
          29,
          37,
          28,
          29,
          28,
          23,
          24,
          39,
          28,
          24,
          30,
          37,
          26,
          25,
          28,
          26,
          37,
          31,
          24,
          27,
          38,
          27,
          26,
          27,
          25,
          24,
          40,
          32,
          24,
          26,
          37,
          24,
          39,
          25,
          23,
          28,
          35,
          30,
          39,
          23,
          21,
          35,
          28,
          32,
          28,
          31,
          21,
          49,
          32,
          25,
          23,
          30,
          25,
          30,
          26,
          32,
          27,
          23,
          22,
          48,
          26,
          31,
          26,
          31,
          38,
          30,
          26,
          22,
          45,
          36,
          28,
          36,
          24,
          47,
          42,
          26,
          23,
          29,
          39,
          32,
          34,
          42,
          32
         ],
         "xaxis": "x",
         "yaxis": "y"
        }
       ],
       "layout": {
        "autosize": true,
        "barmode": "relative",
        "legend": {
         "tracegroupgap": 0
        },
        "template": {
         "data": {
          "bar": [
           {
            "error_x": {
             "color": "#2a3f5f"
            },
            "error_y": {
             "color": "#2a3f5f"
            },
            "marker": {
             "line": {
              "color": "#E5ECF6",
              "width": 0.5
             },
             "pattern": {
              "fillmode": "overlay",
              "size": 10,
              "solidity": 0.2
             }
            },
            "type": "bar"
           }
          ],
          "barpolar": [
           {
            "marker": {
             "line": {
              "color": "#E5ECF6",
              "width": 0.5
             },
             "pattern": {
              "fillmode": "overlay",
              "size": 10,
              "solidity": 0.2
             }
            },
            "type": "barpolar"
           }
          ],
          "carpet": [
           {
            "aaxis": {
             "endlinecolor": "#2a3f5f",
             "gridcolor": "white",
             "linecolor": "white",
             "minorgridcolor": "white",
             "startlinecolor": "#2a3f5f"
            },
            "baxis": {
             "endlinecolor": "#2a3f5f",
             "gridcolor": "white",
             "linecolor": "white",
             "minorgridcolor": "white",
             "startlinecolor": "#2a3f5f"
            },
            "type": "carpet"
           }
          ],
          "choropleth": [
           {
            "colorbar": {
             "outlinewidth": 0,
             "ticks": ""
            },
            "type": "choropleth"
           }
          ],
          "contour": [
           {
            "colorbar": {
             "outlinewidth": 0,
             "ticks": ""
            },
            "colorscale": [
             [
              0,
              "#0d0887"
             ],
             [
              0.1111111111111111,
              "#46039f"
             ],
             [
              0.2222222222222222,
              "#7201a8"
             ],
             [
              0.3333333333333333,
              "#9c179e"
             ],
             [
              0.4444444444444444,
              "#bd3786"
             ],
             [
              0.5555555555555556,
              "#d8576b"
             ],
             [
              0.6666666666666666,
              "#ed7953"
             ],
             [
              0.7777777777777778,
              "#fb9f3a"
             ],
             [
              0.8888888888888888,
              "#fdca26"
             ],
             [
              1,
              "#f0f921"
             ]
            ],
            "type": "contour"
           }
          ],
          "contourcarpet": [
           {
            "colorbar": {
             "outlinewidth": 0,
             "ticks": ""
            },
            "type": "contourcarpet"
           }
          ],
          "heatmap": [
           {
            "colorbar": {
             "outlinewidth": 0,
             "ticks": ""
            },
            "colorscale": [
             [
              0,
              "#0d0887"
             ],
             [
              0.1111111111111111,
              "#46039f"
             ],
             [
              0.2222222222222222,
              "#7201a8"
             ],
             [
              0.3333333333333333,
              "#9c179e"
             ],
             [
              0.4444444444444444,
              "#bd3786"
             ],
             [
              0.5555555555555556,
              "#d8576b"
             ],
             [
              0.6666666666666666,
              "#ed7953"
             ],
             [
              0.7777777777777778,
              "#fb9f3a"
             ],
             [
              0.8888888888888888,
              "#fdca26"
             ],
             [
              1,
              "#f0f921"
             ]
            ],
            "type": "heatmap"
           }
          ],
          "heatmapgl": [
           {
            "colorbar": {
             "outlinewidth": 0,
             "ticks": ""
            },
            "colorscale": [
             [
              0,
              "#0d0887"
             ],
             [
              0.1111111111111111,
              "#46039f"
             ],
             [
              0.2222222222222222,
              "#7201a8"
             ],
             [
              0.3333333333333333,
              "#9c179e"
             ],
             [
              0.4444444444444444,
              "#bd3786"
             ],
             [
              0.5555555555555556,
              "#d8576b"
             ],
             [
              0.6666666666666666,
              "#ed7953"
             ],
             [
              0.7777777777777778,
              "#fb9f3a"
             ],
             [
              0.8888888888888888,
              "#fdca26"
             ],
             [
              1,
              "#f0f921"
             ]
            ],
            "type": "heatmapgl"
           }
          ],
          "histogram": [
           {
            "marker": {
             "pattern": {
              "fillmode": "overlay",
              "size": 10,
              "solidity": 0.2
             }
            },
            "type": "histogram"
           }
          ],
          "histogram2d": [
           {
            "colorbar": {
             "outlinewidth": 0,
             "ticks": ""
            },
            "colorscale": [
             [
              0,
              "#0d0887"
             ],
             [
              0.1111111111111111,
              "#46039f"
             ],
             [
              0.2222222222222222,
              "#7201a8"
             ],
             [
              0.3333333333333333,
              "#9c179e"
             ],
             [
              0.4444444444444444,
              "#bd3786"
             ],
             [
              0.5555555555555556,
              "#d8576b"
             ],
             [
              0.6666666666666666,
              "#ed7953"
             ],
             [
              0.7777777777777778,
              "#fb9f3a"
             ],
             [
              0.8888888888888888,
              "#fdca26"
             ],
             [
              1,
              "#f0f921"
             ]
            ],
            "type": "histogram2d"
           }
          ],
          "histogram2dcontour": [
           {
            "colorbar": {
             "outlinewidth": 0,
             "ticks": ""
            },
            "colorscale": [
             [
              0,
              "#0d0887"
             ],
             [
              0.1111111111111111,
              "#46039f"
             ],
             [
              0.2222222222222222,
              "#7201a8"
             ],
             [
              0.3333333333333333,
              "#9c179e"
             ],
             [
              0.4444444444444444,
              "#bd3786"
             ],
             [
              0.5555555555555556,
              "#d8576b"
             ],
             [
              0.6666666666666666,
              "#ed7953"
             ],
             [
              0.7777777777777778,
              "#fb9f3a"
             ],
             [
              0.8888888888888888,
              "#fdca26"
             ],
             [
              1,
              "#f0f921"
             ]
            ],
            "type": "histogram2dcontour"
           }
          ],
          "mesh3d": [
           {
            "colorbar": {
             "outlinewidth": 0,
             "ticks": ""
            },
            "type": "mesh3d"
           }
          ],
          "parcoords": [
           {
            "line": {
             "colorbar": {
              "outlinewidth": 0,
              "ticks": ""
             }
            },
            "type": "parcoords"
           }
          ],
          "pie": [
           {
            "automargin": true,
            "type": "pie"
           }
          ],
          "scatter": [
           {
            "fillpattern": {
             "fillmode": "overlay",
             "size": 10,
             "solidity": 0.2
            },
            "type": "scatter"
           }
          ],
          "scatter3d": [
           {
            "line": {
             "colorbar": {
              "outlinewidth": 0,
              "ticks": ""
             }
            },
            "marker": {
             "colorbar": {
              "outlinewidth": 0,
              "ticks": ""
             }
            },
            "type": "scatter3d"
           }
          ],
          "scattercarpet": [
           {
            "marker": {
             "colorbar": {
              "outlinewidth": 0,
              "ticks": ""
             }
            },
            "type": "scattercarpet"
           }
          ],
          "scattergeo": [
           {
            "marker": {
             "colorbar": {
              "outlinewidth": 0,
              "ticks": ""
             }
            },
            "type": "scattergeo"
           }
          ],
          "scattergl": [
           {
            "marker": {
             "colorbar": {
              "outlinewidth": 0,
              "ticks": ""
             }
            },
            "type": "scattergl"
           }
          ],
          "scattermapbox": [
           {
            "marker": {
             "colorbar": {
              "outlinewidth": 0,
              "ticks": ""
             }
            },
            "type": "scattermapbox"
           }
          ],
          "scatterpolar": [
           {
            "marker": {
             "colorbar": {
              "outlinewidth": 0,
              "ticks": ""
             }
            },
            "type": "scatterpolar"
           }
          ],
          "scatterpolargl": [
           {
            "marker": {
             "colorbar": {
              "outlinewidth": 0,
              "ticks": ""
             }
            },
            "type": "scatterpolargl"
           }
          ],
          "scatterternary": [
           {
            "marker": {
             "colorbar": {
              "outlinewidth": 0,
              "ticks": ""
             }
            },
            "type": "scatterternary"
           }
          ],
          "surface": [
           {
            "colorbar": {
             "outlinewidth": 0,
             "ticks": ""
            },
            "colorscale": [
             [
              0,
              "#0d0887"
             ],
             [
              0.1111111111111111,
              "#46039f"
             ],
             [
              0.2222222222222222,
              "#7201a8"
             ],
             [
              0.3333333333333333,
              "#9c179e"
             ],
             [
              0.4444444444444444,
              "#bd3786"
             ],
             [
              0.5555555555555556,
              "#d8576b"
             ],
             [
              0.6666666666666666,
              "#ed7953"
             ],
             [
              0.7777777777777778,
              "#fb9f3a"
             ],
             [
              0.8888888888888888,
              "#fdca26"
             ],
             [
              1,
              "#f0f921"
             ]
            ],
            "type": "surface"
           }
          ],
          "table": [
           {
            "cells": {
             "fill": {
              "color": "#EBF0F8"
             },
             "line": {
              "color": "white"
             }
            },
            "header": {
             "fill": {
              "color": "#C8D4E3"
             },
             "line": {
              "color": "white"
             }
            },
            "type": "table"
           }
          ]
         },
         "layout": {
          "annotationdefaults": {
           "arrowcolor": "#2a3f5f",
           "arrowhead": 0,
           "arrowwidth": 1
          },
          "autotypenumbers": "strict",
          "coloraxis": {
           "colorbar": {
            "outlinewidth": 0,
            "ticks": ""
           }
          },
          "colorscale": {
           "diverging": [
            [
             0,
             "#8e0152"
            ],
            [
             0.1,
             "#c51b7d"
            ],
            [
             0.2,
             "#de77ae"
            ],
            [
             0.3,
             "#f1b6da"
            ],
            [
             0.4,
             "#fde0ef"
            ],
            [
             0.5,
             "#f7f7f7"
            ],
            [
             0.6,
             "#e6f5d0"
            ],
            [
             0.7,
             "#b8e186"
            ],
            [
             0.8,
             "#7fbc41"
            ],
            [
             0.9,
             "#4d9221"
            ],
            [
             1,
             "#276419"
            ]
           ],
           "sequential": [
            [
             0,
             "#0d0887"
            ],
            [
             0.1111111111111111,
             "#46039f"
            ],
            [
             0.2222222222222222,
             "#7201a8"
            ],
            [
             0.3333333333333333,
             "#9c179e"
            ],
            [
             0.4444444444444444,
             "#bd3786"
            ],
            [
             0.5555555555555556,
             "#d8576b"
            ],
            [
             0.6666666666666666,
             "#ed7953"
            ],
            [
             0.7777777777777778,
             "#fb9f3a"
            ],
            [
             0.8888888888888888,
             "#fdca26"
            ],
            [
             1,
             "#f0f921"
            ]
           ],
           "sequentialminus": [
            [
             0,
             "#0d0887"
            ],
            [
             0.1111111111111111,
             "#46039f"
            ],
            [
             0.2222222222222222,
             "#7201a8"
            ],
            [
             0.3333333333333333,
             "#9c179e"
            ],
            [
             0.4444444444444444,
             "#bd3786"
            ],
            [
             0.5555555555555556,
             "#d8576b"
            ],
            [
             0.6666666666666666,
             "#ed7953"
            ],
            [
             0.7777777777777778,
             "#fb9f3a"
            ],
            [
             0.8888888888888888,
             "#fdca26"
            ],
            [
             1,
             "#f0f921"
            ]
           ]
          },
          "colorway": [
           "#636efa",
           "#EF553B",
           "#00cc96",
           "#ab63fa",
           "#FFA15A",
           "#19d3f3",
           "#FF6692",
           "#B6E880",
           "#FF97FF",
           "#FECB52"
          ],
          "font": {
           "color": "#2a3f5f"
          },
          "geo": {
           "bgcolor": "white",
           "lakecolor": "white",
           "landcolor": "#E5ECF6",
           "showlakes": true,
           "showland": true,
           "subunitcolor": "white"
          },
          "hoverlabel": {
           "align": "left"
          },
          "hovermode": "closest",
          "mapbox": {
           "style": "light"
          },
          "paper_bgcolor": "white",
          "plot_bgcolor": "#E5ECF6",
          "polar": {
           "angularaxis": {
            "gridcolor": "white",
            "linecolor": "white",
            "ticks": ""
           },
           "bgcolor": "#E5ECF6",
           "radialaxis": {
            "gridcolor": "white",
            "linecolor": "white",
            "ticks": ""
           }
          },
          "scene": {
           "xaxis": {
            "backgroundcolor": "#E5ECF6",
            "gridcolor": "white",
            "gridwidth": 2,
            "linecolor": "white",
            "showbackground": true,
            "ticks": "",
            "zerolinecolor": "white"
           },
           "yaxis": {
            "backgroundcolor": "#E5ECF6",
            "gridcolor": "white",
            "gridwidth": 2,
            "linecolor": "white",
            "showbackground": true,
            "ticks": "",
            "zerolinecolor": "white"
           },
           "zaxis": {
            "backgroundcolor": "#E5ECF6",
            "gridcolor": "white",
            "gridwidth": 2,
            "linecolor": "white",
            "showbackground": true,
            "ticks": "",
            "zerolinecolor": "white"
           }
          },
          "shapedefaults": {
           "line": {
            "color": "#2a3f5f"
           }
          },
          "ternary": {
           "aaxis": {
            "gridcolor": "white",
            "linecolor": "white",
            "ticks": ""
           },
           "baxis": {
            "gridcolor": "white",
            "linecolor": "white",
            "ticks": ""
           },
           "bgcolor": "#E5ECF6",
           "caxis": {
            "gridcolor": "white",
            "linecolor": "white",
            "ticks": ""
           }
          },
          "title": {
           "x": 0.05
          },
          "xaxis": {
           "automargin": true,
           "gridcolor": "white",
           "linecolor": "white",
           "ticks": "",
           "title": {
            "standoff": 15
           },
           "zerolinecolor": "white",
           "zerolinewidth": 2
          },
          "yaxis": {
           "automargin": true,
           "gridcolor": "white",
           "linecolor": "white",
           "ticks": "",
           "title": {
            "standoff": 15
           },
           "zerolinecolor": "white",
           "zerolinewidth": 2
          }
         }
        },
        "title": {
         "text": "DS Applicants: Distribution of Ages"
        },
        "xaxis": {
         "anchor": "y",
         "autorange": true,
         "domain": [
          0,
          1
         ],
         "range": [
          19.5,
          75.5
         ],
         "title": {
          "text": "Age"
         },
         "type": "linear"
        },
        "yaxis": {
         "anchor": "x",
         "autorange": true,
         "domain": [
          0,
          1
         ],
         "range": [
          0,
          729.4736842105264
         ],
         "title": {
          "text": "Frequency [count]"
         }
        }
       }
      },
      "image/png": "[encoded data removed]",
      "text/html": [
       "<div>                            <div id=\"b036d66f-92fe-48fb-896f-d82002be2820\" class=\"plotly-graph-div\" style=\"height:525px; width:100%;\"></div>            <script type=\"text/javascript\">                require([\"plotly\"], function(Plotly) {                    window.PLOTLYENV=window.PLOTLYENV || {};                                    if (document.getElementById(\"b036d66f-92fe-48fb-896f-d82002be2820\")) {                    Plotly.newPlot(                        \"b036d66f-92fe-48fb-896f-d82002be2820\",                        [{\"alignmentgroup\":\"True\",\"bingroup\":\"x\",\"hovertemplate\":\"x=%{x}\\u003cbr\\u003ecount=%{y}\\u003cextra\\u003e\\u003c\\u002fextra\\u003e\",\"legendgroup\":\"\",\"marker\":{\"color\":\"#636efa\",\"pattern\":{\"shape\":\"\"}},\"name\":\"\",\"nbinsx\":50,\"offsetgroup\":\"\",\"orientation\":\"v\",\"showlegend\":false,\"x\":[26.0,25.0,30.0,40.0,34.0,34.0,32.0,41.0,26.0,45.0,23.0,29.0,31.0,26.0,28.0,30.0,34.0,25.0,36.0,36.0,27.0,21.0,33.0,34.0,49.0,23.0,23.0,27.0,42.0,37.0,33.0,31.0,25.0,31.0,28.0,37.0,32.0,41.0,32.0,27.0,28.0,22.0,24.0,34.0,35.0,26.0,21.0,30.0,31.0,31.0,26.0,21.0,21.0,21.0,27.0,23.0,21.0,31.0,50.0,28.0,25.0,33.0,23.0,31.0,28.0,31.0,25.0,39.0,28.0,29.0,26.0,41.0,32.0,31.0,27.0,38.0,43.0,26.0,29.0,29.0,43.0,33.0,32.0,35.0,26.0,25.0,26.0,35.0,23.0,43.0,27.0,30.0,23.0,28.0,27.0,32.0,25.0,46.0,24.0,23.0,32.0,29.0,28.0,28.0,35.0,26.0,29.0,26.0,48.0,32.0,23.0,24.0,30.0,31.0,23.0,26.0,31.0,25.0,26.0,36.0,31.0,21.0,40.0,35.0,42.0,40.0,22.0,28.0,35.0,35.0,40.0,48.0,38.0,25.0,25.0,26.0,43.0,23.0,35.0,31.0,27.0,30.0,37.0,34.0,29.0,24.0,32.0,24.0,28.0,23.0,25.0,29.0,29.0,37.0,34.0,43.0,28.0,39.0,25.0,25.0,34.0,37.0,38.0,34.0,32.0,48.0,27.0,21.0,30.0,26.0,37.0,49.0,34.0,32.0,26.0,36.0,29.0,23.0,44.0,24.0,39.0,40.0,30.0,23.0,39.0,27.0,24.0,30.0,24.0,30.0,23.0,34.0,23.0,25.0,35.0,28.0,26.0,30.0,29.0,25.0,47.0,30.0,30.0,29.0,30.0,36.0,39.0,27.0,36.0,54.0,24.0,21.0,42.0,34.0,29.0,34.0,26.0,25.0,38.0,42.0,40.0,24.0,27.0,25.0,46.0,45.0,33.0,26.0,33.0,40.0,48.0,27.0,28.0,28.0,50.0,24.0,27.0,37.0,25.0,25.0,33.0,23.0,25.0,24.0,23.0,23.0,31.0,38.0,27.0,22.0,37.0,31.0,25.0,23.0,26.0,32.0,30.0,24.0,47.0,24.0,27.0,28.0,26.0,29.0,26.0,24.0,29.0,23.0,26.0,25.0,47.0,32.0,74.0,35.0,34.0,26.0,27.0,21.0,37.0,26.0,24.0,41.0,31.0,25.0,29.0,40.0,40.0,27.0,26.0,24.0,27.0,27.0,31.0,31.0,37.0,28.0,21.0,34.0,26.0,33.0,33.0,27.0,40.0,25.0,32.0,24.0,21.0,44.0,26.0,23.0,25.0,35.0,24.0,40.0,26.0,30.0,22.0,30.0,26.0,34.0,27.0,34.0,30.0,28.0,32.0,36.0,25.0,52.0,35.0,32.0,22.0,56.0,27.0,29.0,35.0,35.0,34.0,25.0,28.0,29.0,28.0,24.0,62.0,34.0,32.0,28.0,27.0,22.0,39.0,26.0,37.0,28.0,33.0,21.0,30.0,24.0,31.0,22.0,27.0,26.0,24.0,34.0,29.0,37.0,25.0,40.0,27.0,29.0,31.0,38.0,38.0,21.0,35.0,35.0,31.0,29.0,28.0,28.0,29.0,25.0,25.0,30.0,55.0,38.0,32.0,55.0,22.0,25.0,42.0,54.0,49.0,29.0,27.0,34.0,25.0,27.0,21.0,29.0,22.0,28.0,28.0,22.0,26.0,26.0,23.0,21.0,30.0,38.0,23.0,38.0,29.0,21.0,26.0,23.0,41.0,30.0,32.0,32.0,47.0,39.0,32.0,22.0,30.0,26.0,27.0,41.0,21.0,28.0,30.0,28.0,27.0,22.0,50.0,46.0,43.0,28.0,43.0,38.0,28.0,36.0,45.0,23.0,31.0,23.0,38.0,22.0,22.0,32.0,41.0,35.0,30.0,33.0,49.0,40.0,26.0,30.0,51.0,26.0,23.0,28.0,25.0,25.0,31.0,28.0,24.0,36.0,30.0,32.0,28.0,36.0,27.0,36.0,36.0,33.0,34.0,28.0,33.0,21.0,43.0,27.0,32.0,28.0,37.0,24.0,22.0,24.0,30.0,33.0,21.0,27.0,26.0,30.0,25.0,34.0,22.0,22.0,25.0,40.0,29.0,43.0,38.0,26.0,22.0,29.0,30.0,32.0,24.0,30.0,24.0,25.0,33.0,41.0,25.0,25.0,23.0,31.0,23.0,25.0,23.0,24.0,35.0,29.0,32.0,21.0,31.0,37.0,33.0,20.0,22.0,20.0,21.0,36.0,28.0,35.0,29.0,22.0,27.0,31.0,27.0,20.0,21.0,29.0,26.0,28.0,22.0,30.0,44.0,28.0,32.0,31.0,26.0,33.0,25.0,23.0,31.0,33.0,21.0,29.0,33.0,38.0,29.0,28.0,28.0,28.0,37.0,26.0,27.0,41.0,32.0,24.0,27.0,39.0,34.0,27.0,40.0,25.0,28.0,29.0,21.0,25.0,29.0,27.0,22.0,24.0,25.0,41.0,38.0,26.0,54.0,30.0,28.0,40.0,27.0,34.0,33.0,38.0,37.0,28.0,24.0,35.0,24.0,33.0,21.0,26.0,31.0,30.0,21.0,27.0,29.0,33.0,36.0,22.0,24.0,31.0,27.0,21.0,34.0,34.0,24.0,40.0,28.0,25.0,24.0,33.0,29.0,21.0,22.0,41.0,23.0,25.0,33.0,40.0,27.0,22.0,23.0,31.0,27.0,32.0,29.0,39.0,50.0,31.0,28.0,30.0,25.0,25.0,32.0,24.0,64.0,27.0,36.0,25.0,31.0,31.0,26.0,21.0,23.0,28.0,36.0,24.0,25.0,26.0,39.0,24.0,22.0,21.0,30.0,37.0,28.0,24.0,28.0,25.0,30.0,35.0,34.0,22.0,45.0,48.0,33.0,28.0,26.0,27.0,41.0,23.0,26.0,28.0,29.0,28.0,39.0,23.0,37.0,35.0,36.0,29.0,40.0,25.0,29.0,28.0,33.0,34.0,24.0,23.0,28.0,26.0,24.0,29.0,22.0,25.0,28.0,48.0,37.0,43.0,37.0,25.0,33.0,21.0,25.0,27.0,35.0,45.0,28.0,21.0,27.0,23.0,24.0,49.0,31.0,22.0,35.0,23.0,26.0,29.0,49.0,30.0,21.0,23.0,32.0,23.0,22.0,28.0,26.0,35.0,33.0,32.0,27.0,33.0,39.0,27.0,32.0,58.0,23.0,25.0,41.0,27.0,24.0,26.0,26.0,32.0,23.0,22.0,23.0,21.0,20.0,29.0,39.0,25.0,34.0,23.0,46.0,45.0,25.0,68.0,45.0,27.0,32.0,25.0,23.0,21.0,22.0,23.0,23.0,26.0,23.0,47.0,23.0,31.0,41.0,27.0,30.0,32.0,32.0,29.0,30.0,45.0,39.0,29.0,32.0,23.0,26.0,30.0,27.0,22.0,34.0,29.0,27.0,51.0,26.0,24.0,24.0,55.0,24.0,24.0,28.0,23.0,30.0,49.0,39.0,37.0,30.0,39.0,38.0,31.0,28.0,24.0,31.0,27.0,36.0,27.0,25.0,35.0,23.0,37.0,30.0,26.0,21.0,27.0,39.0,44.0,31.0,26.0,41.0,26.0,24.0,26.0,36.0,26.0,33.0,28.0,32.0,26.0,25.0,32.0,25.0,44.0,29.0,25.0,54.0,26.0,36.0,29.0,33.0,34.0,31.0,20.0,34.0,24.0,22.0,31.0,26.0,31.0,28.0,25.0,29.0,42.0,28.0,40.0,47.0,22.0,27.0,25.0,35.0,23.0,31.0,26.0,39.0,27.0,23.0,51.0,27.0,38.0,26.0,26.0,36.0,27.0,24.0,55.0,32.0,24.0,31.0,35.0,29.0,33.0,42.0,25.0,24.0,20.0,24.0,32.0,34.0,26.0,27.0,24.0,40.0,42.0,28.0,37.0,41.0,21.0,37.0,28.0,25.0,28.0,31.0,23.0,31.0,28.0,39.0,34.0,36.0,27.0,25.0,31.0,35.0,34.0,37.0,39.0,22.0,42.0,28.0,27.0,23.0,28.0,29.0,34.0,34.0,32.0,53.0,29.0,24.0,38.0,35.0,26.0,24.0,24.0,25.0,31.0,32.0,32.0,28.0,29.0,37.0,24.0,31.0,24.0,30.0,29.0,33.0,29.0,33.0,21.0,36.0,41.0,26.0,22.0,32.0,24.0,24.0,26.0,22.0,30.0,32.0,32.0,30.0,29.0,37.0,37.0,23.0,36.0,31.0,48.0,35.0,31.0,24.0,23.0,29.0,29.0,28.0,20.0,38.0,26.0,23.0,42.0,27.0,35.0,26.0,29.0,34.0,36.0,48.0,38.0,43.0,26.0,23.0,35.0,35.0,33.0,26.0,25.0,22.0,28.0,25.0,31.0,27.0,32.0,31.0,36.0,28.0,29.0,24.0,31.0,36.0,34.0,28.0,31.0,55.0,39.0,42.0,32.0,21.0,24.0,34.0,30.0,36.0,24.0,36.0,31.0,48.0,31.0,31.0,27.0,41.0,29.0,38.0,35.0,30.0,34.0,25.0,32.0,28.0,22.0,20.0,23.0,34.0,27.0,28.0,21.0,39.0,51.0,34.0,26.0,27.0,45.0,41.0,32.0,27.0,27.0,31.0,26.0,33.0,27.0,26.0,23.0,28.0,27.0,28.0,37.0,29.0,33.0,33.0,21.0,26.0,23.0,26.0,21.0,28.0,29.0,33.0,30.0,28.0,31.0,33.0,36.0,35.0,20.0,22.0,43.0,30.0,23.0,25.0,26.0,26.0,41.0,26.0,26.0,28.0,26.0,40.0,29.0,26.0,29.0,31.0,29.0,24.0,36.0,27.0,33.0,48.0,41.0,29.0,32.0,28.0,26.0,25.0,23.0,40.0,32.0,31.0,29.0,57.0,31.0,29.0,54.0,25.0,27.0,46.0,24.0,25.0,30.0,43.0,26.0,45.0,25.0,20.0,30.0,37.0,29.0,22.0,40.0,26.0,27.0,22.0,44.0,26.0,29.0,42.0,30.0,21.0,23.0,31.0,25.0,33.0,35.0,38.0,27.0,42.0,33.0,29.0,29.0,29.0,22.0,31.0,34.0,37.0,31.0,27.0,24.0,35.0,61.0,29.0,20.0,45.0,23.0,23.0,32.0,29.0,21.0,28.0,27.0,40.0,32.0,31.0,29.0,23.0,28.0,53.0,24.0,28.0,63.0,29.0,28.0,25.0,28.0,26.0,24.0,41.0,31.0,22.0,37.0,31.0,26.0,36.0,23.0,22.0,29.0,54.0,28.0,43.0,35.0,31.0,20.0,28.0,22.0,26.0,28.0,31.0,36.0,35.0,29.0,24.0,24.0,23.0,22.0,45.0,24.0,21.0,41.0,30.0,20.0,25.0,26.0,26.0,24.0,29.0,25.0,23.0,26.0,30.0,31.0,34.0,28.0,22.0,43.0,37.0,24.0,26.0,46.0,26.0,22.0,29.0,28.0,31.0,28.0,49.0,29.0,25.0,25.0,24.0,31.0,41.0,24.0,22.0,42.0,24.0,26.0,28.0,41.0,40.0,27.0,23.0,26.0,27.0,30.0,31.0,23.0,41.0,27.0,32.0,31.0,40.0,39.0,31.0,43.0,31.0,20.0,30.0,35.0,21.0,30.0,25.0,35.0,23.0,25.0,31.0,32.0,35.0,27.0,22.0,32.0,25.0,42.0,60.0,47.0,24.0,32.0,32.0,27.0,23.0,25.0,27.0,24.0,21.0,23.0,33.0,24.0,29.0,23.0,35.0,29.0,34.0,52.0,30.0,50.0,40.0,30.0,33.0,28.0,33.0,26.0,24.0,23.0,34.0,21.0,37.0,29.0,25.0,40.0,47.0,25.0,35.0,24.0,27.0,25.0,27.0,21.0,44.0,32.0,26.0,35.0,32.0,41.0,25.0,42.0,35.0,31.0,32.0,31.0,55.0,26.0,30.0,25.0,25.0,34.0,26.0,24.0,38.0,28.0,26.0,34.0,27.0,30.0,27.0,25.0,24.0,26.0,26.0,32.0,44.0,26.0,27.0,23.0,24.0,48.0,30.0,25.0,25.0,24.0,48.0,61.0,22.0,21.0,21.0,39.0,26.0,27.0,22.0,27.0,35.0,28.0,21.0,25.0,26.0,37.0,26.0,65.0,28.0,42.0,28.0,21.0,24.0,20.0,25.0,58.0,25.0,33.0,24.0,21.0,36.0,34.0,24.0,23.0,24.0,43.0,26.0,31.0,25.0,36.0,28.0,28.0,34.0,31.0,32.0,21.0,39.0,26.0,27.0,24.0,28.0,43.0,24.0,33.0,29.0,47.0,34.0,30.0,29.0,41.0,24.0,29.0,31.0,34.0,24.0,48.0,21.0,22.0,31.0,22.0,21.0,30.0,32.0,28.0,39.0,46.0,29.0,21.0,40.0,24.0,34.0,32.0,22.0,28.0,25.0,28.0,34.0,36.0,24.0,28.0,40.0,22.0,26.0,25.0,29.0,40.0,41.0,31.0,34.0,34.0,25.0,34.0,38.0,21.0,36.0,36.0,26.0,31.0,30.0,42.0,21.0,20.0,24.0,58.0,25.0,28.0,42.0,31.0,23.0,22.0,25.0,41.0,37.0,33.0,41.0,30.0,27.0,22.0,30.0,31.0,21.0,43.0,29.0,31.0,53.0,28.0,38.0,29.0,35.0,26.0,25.0,30.0,21.0,26.0,30.0,25.0,34.0,45.0,31.0,27.0,27.0,26.0,26.0,33.0,35.0,22.0,28.0,24.0,34.0,23.0,26.0,25.0,31.0,23.0,27.0,41.0,29.0,43.0,25.0,24.0,47.0,29.0,23.0,25.0,29.0,31.0,33.0,46.0,21.0,30.0,27.0,26.0,23.0,25.0,28.0,27.0,21.0,26.0,26.0,29.0,28.0,31.0,23.0,27.0,22.0,23.0,23.0,36.0,26.0,24.0,32.0,30.0,31.0,23.0,26.0,54.0,22.0,21.0,26.0,31.0,24.0,31.0,37.0,28.0,29.0,24.0,23.0,33.0,24.0,40.0,48.0,23.0,38.0,30.0,29.0,27.0,32.0,24.0,29.0,39.0,22.0,33.0,28.0,30.0,26.0,34.0,39.0,27.0,37.0,27.0,34.0,32.0,25.0,20.0,24.0,29.0,29.0,29.0,21.0,47.0,30.0,39.0,36.0,36.0,27.0,41.0,28.0,25.0,37.0,27.0,27.0,41.0,31.0,31.0,25.0,49.0,28.0,25.0,23.0,36.0,24.0,25.0,25.0,32.0,48.0,22.0,21.0,43.0,46.0,27.0,43.0,29.0,25.0,34.0,23.0,27.0,28.0,25.0,32.0,32.0,26.0,24.0,42.0,23.0,21.0,41.0,28.0,23.0,38.0,38.0,33.0,42.0,26.0,22.0,22.0,24.0,38.0,27.0,28.0,24.0,44.0,29.0,28.0,32.0,37.0,51.0,22.0,25.0,35.0,40.0,29.0,42.0,29.0,31.0,25.0,23.0,25.0,35.0,37.0,24.0,26.0,33.0,34.0,27.0,33.0,24.0,37.0,23.0,27.0,42.0,36.0,23.0,25.0,32.0,42.0,24.0,28.0,42.0,28.0,41.0,23.0,24.0,30.0,47.0,23.0,29.0,20.0,28.0,32.0,29.0,21.0,33.0,30.0,29.0,47.0,39.0,35.0,28.0,33.0,28.0,33.0,22.0,21.0,28.0,25.0,32.0,38.0,38.0,34.0,22.0,39.0,35.0,32.0,24.0,26.0,22.0,36.0,32.0,25.0,31.0,24.0,33.0,45.0,33.0,26.0,35.0,26.0,24.0,25.0,43.0,34.0,29.0,28.0,24.0,25.0,22.0,30.0,24.0,35.0,22.0,30.0,41.0,21.0,42.0,41.0,29.0,44.0,27.0,28.0,28.0,31.0,40.0,31.0,38.0,29.0,22.0,23.0,21.0,20.0,25.0,30.0,30.0,41.0,31.0,29.0,32.0,29.0,22.0,31.0,35.0,51.0,50.0,33.0,24.0,33.0,24.0,31.0,29.0,28.0,26.0,45.0,34.0,38.0,31.0,39.0,36.0,24.0,27.0,21.0,35.0,47.0,25.0,20.0,20.0,33.0,28.0,25.0,31.0,32.0,32.0,32.0,36.0,25.0,27.0,47.0,29.0,40.0,45.0,36.0,35.0,47.0,28.0,23.0,39.0,38.0,28.0,21.0,31.0,27.0,62.0,34.0,35.0,25.0,20.0,25.0,24.0,31.0,42.0,42.0,22.0,30.0,26.0,47.0,42.0,35.0,44.0,63.0,22.0,22.0,24.0,48.0,28.0,29.0,33.0,21.0,34.0,27.0,31.0,34.0,40.0,25.0,26.0,23.0,59.0,37.0,42.0,21.0,30.0,30.0,24.0,24.0,34.0,28.0,38.0,25.0,24.0,48.0,24.0,23.0,52.0,31.0,33.0,22.0,46.0,23.0,29.0,21.0,29.0,20.0,29.0,37.0,26.0,23.0,45.0,22.0,33.0,24.0,27.0,41.0,20.0,25.0,26.0,32.0,23.0,32.0,35.0,41.0,36.0,23.0,30.0,32.0,43.0,22.0,41.0,29.0,26.0,36.0,59.0,31.0,37.0,40.0,25.0,31.0,32.0,24.0,34.0,27.0,53.0,29.0,29.0,33.0,26.0,21.0,27.0,26.0,30.0,36.0,32.0,30.0,30.0,43.0,51.0,28.0,21.0,28.0,45.0,33.0,30.0,42.0,21.0,23.0,42.0,21.0,27.0,30.0,30.0,24.0,26.0,38.0,22.0,26.0,39.0,47.0,25.0,31.0,48.0,30.0,46.0,22.0,24.0,25.0,25.0,26.0,39.0,52.0,24.0,26.0,34.0,28.0,31.0,31.0,31.0,28.0,28.0,35.0,21.0,36.0,26.0,24.0,34.0,27.0,29.0,29.0,30.0,24.0,26.0,27.0,26.0,25.0,22.0,28.0,25.0,38.0,20.0,41.0,27.0,28.0,31.0,29.0,24.0,46.0,56.0,23.0,27.0,31.0,28.0,31.0,34.0,24.0,43.0,50.0,24.0,57.0,29.0,32.0,47.0,26.0,36.0,33.0,41.0,41.0,33.0,26.0,30.0,35.0,35.0,26.0,23.0,32.0,22.0,35.0,32.0,39.0,37.0,32.0,24.0,20.0,22.0,32.0,33.0,23.0,30.0,34.0,33.0,31.0,34.0,27.0,24.0,25.0,25.0,37.0,25.0,21.0,34.0,40.0,37.0,29.0,26.0,24.0,34.0,27.0,27.0,30.0,22.0,25.0,25.0,26.0,50.0,24.0,26.0,27.0,25.0,30.0,35.0,40.0,53.0,33.0,50.0,28.0,35.0,29.0,23.0,29.0,28.0,25.0,25.0,47.0,28.0,31.0,43.0,27.0,22.0,35.0,25.0,21.0,28.0,29.0,24.0,22.0,37.0,50.0,25.0,24.0,44.0,32.0,33.0,23.0,26.0,38.0,22.0,21.0,41.0,21.0,41.0,28.0,23.0,33.0,46.0,31.0,28.0,31.0,39.0,29.0,25.0,26.0,27.0,26.0,36.0,29.0,23.0,32.0,41.0,31.0,27.0,35.0,33.0,28.0,30.0,36.0,21.0,30.0,24.0,38.0,24.0,33.0,32.0,22.0,50.0,23.0,32.0,46.0,36.0,24.0,29.0,40.0,22.0,25.0,29.0,26.0,42.0,43.0,46.0,33.0,27.0,32.0,23.0,24.0,39.0,59.0,24.0,31.0,27.0,30.0,32.0,23.0,34.0,24.0,24.0,45.0,30.0,25.0,25.0,28.0,35.0,31.0,28.0,24.0,26.0,34.0,55.0,32.0,31.0,24.0,24.0,28.0,32.0,35.0,23.0,23.0,38.0,24.0,26.0,32.0,28.0,47.0,27.0,26.0,31.0,40.0,37.0,40.0,21.0,31.0,27.0,26.0,30.0,35.0,34.0,47.0,36.0,27.0,24.0,23.0,26.0,30.0,35.0,28.0,34.0,27.0,27.0,32.0,35.0,35.0,25.0,31.0,30.0,27.0,56.0,28.0,45.0,30.0,25.0,26.0,29.0,32.0,31.0,40.0,30.0,31.0,44.0,30.0,37.0,27.0,29.0,28.0,34.0,45.0,33.0,25.0,22.0,31.0,21.0,24.0,33.0,41.0,41.0,29.0,29.0,25.0,27.0,27.0,36.0,40.0,50.0,24.0,29.0,32.0,26.0,32.0,26.0,38.0,24.0,27.0,23.0,26.0,32.0,25.0,41.0,27.0,34.0,24.0,30.0,31.0,27.0,24.0,31.0,24.0,28.0,25.0,36.0,36.0,32.0,26.0,27.0,22.0,21.0,33.0,32.0,54.0,36.0,21.0,29.0,39.0,37.0,37.0,22.0,26.0,52.0,35.0,21.0,28.0,22.0,20.0,28.0,22.0,21.0,24.0,23.0,29.0,63.0,27.0,20.0,29.0,41.0,26.0,27.0,22.0,24.0,36.0,43.0,35.0,60.0,30.0,24.0,27.0,25.0,22.0,28.0,22.0,27.0,31.0,39.0,29.0,28.0,35.0,41.0,35.0,37.0,22.0,32.0,23.0,27.0,26.0,29.0,26.0,24.0,24.0,37.0,28.0,31.0,26.0,26.0,25.0,20.0,41.0,28.0,40.0,33.0,23.0,27.0,27.0,31.0,30.0,37.0,45.0,23.0,44.0,33.0,23.0,33.0,26.0,43.0,25.0,43.0,21.0,34.0,32.0,28.0,30.0,20.0,39.0,25.0,28.0,29.0,26.0,32.0,25.0,24.0,32.0,23.0,22.0,40.0,23.0,29.0,38.0,37.0,48.0,42.0,32.0,23.0,25.0,27.0,42.0,33.0,43.0,25.0,43.0,28.0,25.0,39.0,27.0,23.0,27.0,21.0,36.0,29.0,26.0,26.0,30.0,22.0,49.0,51.0,46.0,48.0,28.0,26.0,26.0,23.0,21.0,35.0,38.0,21.0,39.0,28.0,31.0,34.0,26.0,30.0,21.0,26.0,27.0,27.0,30.0,50.0,29.0,25.0,25.0,27.0,24.0,26.0,28.0,29.0,32.0,21.0,43.0,25.0,26.0,24.0,44.0,39.0,24.0,23.0,29.0,21.0,30.0,35.0,24.0,42.0,21.0,47.0,32.0,28.0,36.0,24.0,28.0,25.0,36.0,27.0,25.0,31.0,35.0,21.0,27.0,39.0,39.0,34.0,20.0,24.0,37.0,36.0,33.0,33.0,40.0,31.0,23.0,34.0,30.0,29.0,23.0,28.0,24.0,40.0,32.0,33.0,24.0,39.0,41.0,30.0,37.0,22.0,47.0,30.0,42.0,45.0,26.0,25.0,22.0,32.0,45.0,32.0,24.0,42.0,26.0,26.0,23.0,31.0,39.0,27.0,24.0,23.0,35.0,25.0,31.0,36.0,30.0,30.0,33.0,28.0,27.0,25.0,25.0,26.0,41.0,24.0,33.0,44.0,29.0,21.0,34.0,37.0,25.0,48.0,25.0,28.0,25.0,32.0,43.0,26.0,37.0,24.0,28.0,23.0,31.0,31.0,24.0,47.0,26.0,30.0,27.0,33.0,27.0,44.0,32.0,42.0,41.0,26.0,40.0,32.0,28.0,22.0,23.0,38.0,23.0,26.0,29.0,32.0,54.0,29.0,27.0,44.0,23.0,34.0,27.0,33.0,29.0,26.0,40.0,26.0,26.0,27.0,29.0,26.0,24.0,30.0,38.0,34.0,29.0,31.0,29.0,24.0,38.0,39.0,30.0,29.0,23.0,33.0,23.0,25.0,26.0,24.0,32.0,39.0,27.0,53.0,31.0,22.0,31.0,55.0,24.0,27.0,28.0,32.0,34.0,41.0,34.0,21.0,32.0,43.0,42.0,32.0,32.0,32.0,41.0,53.0,39.0,26.0,21.0,39.0,33.0,28.0,22.0,21.0,21.0,29.0,37.0,29.0,30.0,30.0,25.0,27.0,32.0,25.0,37.0,25.0,28.0,42.0,41.0,22.0,32.0,44.0,35.0,49.0,21.0,23.0,31.0,20.0,33.0,32.0,22.0,30.0,38.0,42.0,32.0,30.0,27.0,29.0,31.0,26.0,25.0,27.0,33.0,26.0,25.0,27.0,37.0,40.0,24.0,26.0,36.0,37.0,57.0,30.0,31.0,28.0,25.0,23.0,27.0,21.0,29.0,27.0,32.0,42.0,27.0,43.0,24.0,27.0,29.0,24.0,28.0,28.0,21.0,30.0,34.0,28.0,34.0,38.0,27.0,29.0,27.0,32.0,23.0,31.0,23.0,23.0,28.0,22.0,26.0,30.0,38.0,23.0,30.0,46.0,26.0,34.0,39.0,38.0,26.0,21.0,36.0,37.0,37.0,31.0,55.0,26.0,26.0,25.0,43.0,28.0,29.0,26.0,27.0,27.0,31.0,25.0,33.0,42.0,39.0,29.0,25.0,27.0,26.0,24.0,41.0,42.0,36.0,24.0,40.0,25.0,27.0,37.0,26.0,25.0,36.0,34.0,27.0,30.0,20.0,37.0,33.0,33.0,29.0,31.0,35.0,24.0,29.0,38.0,24.0,32.0,35.0,25.0,22.0,25.0,26.0,30.0,29.0,42.0,34.0,24.0,38.0,25.0,27.0,24.0,31.0,30.0,25.0,30.0,27.0,29.0,24.0,32.0,31.0,24.0,50.0,37.0,34.0,31.0,29.0,29.0,25.0,21.0,26.0,34.0,28.0,43.0,23.0,22.0,32.0,22.0,27.0,23.0,24.0,30.0,35.0,33.0,32.0,26.0,25.0,27.0,26.0,23.0,31.0,23.0,25.0,36.0,29.0,30.0,26.0,33.0,38.0,25.0,31.0,33.0,35.0,39.0,30.0,30.0,33.0,25.0,36.0,33.0,35.0,34.0,31.0,30.0,29.0,25.0,22.0,46.0,27.0,31.0,28.0,41.0,23.0,38.0,34.0,33.0,24.0,34.0,22.0,28.0,38.0,21.0,38.0,26.0,26.0,40.0,37.0,23.0,37.0,20.0,28.0,36.0,22.0,24.0,21.0,27.0,30.0,24.0,26.0,23.0,28.0,31.0,25.0,31.0,38.0,24.0,34.0,26.0,24.0,23.0,35.0,36.0,24.0,35.0,28.0,30.0,23.0,26.0,28.0,23.0,24.0,28.0,22.0,28.0,27.0,25.0,28.0,31.0,33.0,40.0,29.0,21.0,42.0,28.0,39.0,22.0,25.0,36.0,32.0,26.0,22.0,30.0,23.0,51.0,43.0,30.0,29.0,35.0,30.0,36.0,28.0,39.0,26.0,35.0,24.0,53.0,23.0,42.0,23.0,27.0,26.0,31.0,27.0,21.0,36.0,33.0,31.0,26.0,43.0,27.0,29.0,25.0,29.0,36.0,42.0,33.0,29.0,30.0,28.0,25.0,23.0,30.0,44.0,30.0,28.0,54.0,31.0,45.0,23.0,28.0,22.0,41.0,40.0,29.0,51.0,27.0,45.0,22.0,28.0,29.0,28.0,32.0,26.0,30.0,28.0,65.0,29.0,24.0,28.0,39.0,24.0,24.0,26.0,28.0,35.0,47.0,31.0,27.0,31.0,39.0,24.0,25.0,31.0,24.0,48.0,23.0,33.0,26.0,23.0,44.0,34.0,43.0,37.0,34.0,45.0,29.0,26.0,33.0,28.0,24.0,45.0,35.0,25.0,25.0,23.0,25.0,25.0,27.0,32.0,26.0,25.0,45.0,36.0,25.0,33.0,23.0,25.0,31.0,35.0,43.0,26.0,25.0,32.0,49.0,27.0,28.0,25.0,44.0,25.0,30.0,36.0,27.0,23.0,36.0,21.0,28.0,22.0,22.0,44.0,29.0,33.0,26.0,26.0,23.0,25.0,46.0,20.0,30.0,22.0,35.0,31.0,21.0,33.0,23.0,22.0,31.0,35.0,27.0,22.0,24.0,24.0,48.0,24.0,23.0,31.0,32.0,44.0,36.0,36.0,28.0,24.0,35.0,40.0,27.0,28.0,24.0,21.0,32.0,32.0,21.0,24.0,35.0,31.0,26.0,26.0,22.0,26.0,35.0,26.0,30.0,29.0,31.0,27.0,40.0,25.0,30.0,32.0,28.0,29.0,21.0,24.0,29.0,29.0,27.0,25.0,27.0,31.0,27.0,32.0,27.0,33.0,30.0,31.0,25.0,27.0,22.0,30.0,37.0,45.0,22.0,30.0,50.0,25.0,30.0,29.0,30.0,36.0,24.0,32.0,28.0,27.0,28.0,29.0,32.0,46.0,45.0,33.0,50.0,20.0,26.0,34.0,21.0,25.0,32.0,22.0,22.0,25.0,26.0,42.0,21.0,33.0,41.0,21.0,25.0,20.0,29.0,31.0,25.0,27.0,25.0,25.0,26.0,21.0,32.0,25.0,33.0,31.0,26.0,34.0,24.0,23.0,27.0,21.0,30.0,41.0,23.0,25.0,27.0,29.0,30.0,33.0,37.0,24.0,35.0,29.0,33.0,22.0,35.0,30.0,25.0,41.0,21.0,25.0,25.0,32.0,27.0,40.0,27.0,26.0,33.0,48.0,24.0,44.0,30.0,40.0,40.0,22.0,26.0,39.0,37.0,21.0,41.0,35.0,31.0,38.0,25.0,33.0,20.0,42.0,23.0,26.0,34.0,34.0,25.0,33.0,33.0,41.0,36.0,45.0,27.0,36.0,23.0,33.0,29.0,30.0,31.0,38.0,27.0,25.0,28.0,26.0,54.0,29.0,32.0,31.0,26.0,33.0,29.0,31.0,20.0,28.0,27.0,36.0,30.0,21.0,26.0,53.0,28.0,33.0,32.0,26.0,27.0,21.0,26.0,28.0,22.0,31.0,25.0,30.0,25.0,28.0,26.0,22.0,31.0,22.0,29.0,60.0,22.0,37.0,49.0,33.0,23.0,22.0,30.0,29.0,26.0,28.0,24.0,28.0,34.0,28.0,26.0,24.0,29.0,38.0,26.0,22.0,22.0,48.0,38.0,37.0,21.0,26.0,45.0,31.0,25.0,32.0,26.0,24.0,43.0,24.0,28.0,31.0,21.0,32.0,38.0,23.0,28.0,28.0,39.0,39.0,45.0,34.0,23.0,30.0,22.0,35.0,28.0,30.0,26.0,22.0,34.0,30.0,23.0,20.0,29.0,36.0,28.0,33.0,46.0,36.0,28.0,58.0,28.0,24.0,25.0,22.0,30.0,22.0,35.0,26.0,30.0,28.0,23.0,31.0,36.0,22.0,44.0,29.0,25.0,28.0,23.0,42.0,27.0,30.0,28.0,29.0,30.0,29.0,29.0,33.0,33.0,25.0,38.0,47.0,21.0,43.0,37.0,20.0,26.0,21.0,32.0,20.0,23.0,24.0,40.0,27.0,31.0,28.0,42.0,22.0,26.0,30.0,21.0,34.0,33.0,20.0,21.0,28.0,25.0,27.0,33.0,20.0,30.0,26.0,22.0,28.0,30.0,27.0,22.0,32.0,25.0,33.0,27.0,22.0,20.0,29.0,31.0,26.0,29.0,28.0,26.0,23.0,26.0,35.0,21.0,21.0,22.0,46.0,25.0,33.0,26.0,34.0,22.0,30.0,26.0,24.0,27.0,27.0,28.0,32.0,27.0,25.0,43.0,26.0,36.0,42.0,30.0,43.0,25.0,47.0,34.0,28.0,33.0,22.0,26.0,31.0,22.0,35.0,26.0,47.0,24.0,36.0,26.0,33.0,25.0,20.0,29.0,31.0,41.0,27.0,25.0,29.0,21.0,34.0,28.0,43.0,28.0,30.0,21.0,32.0,25.0,26.0,48.0,38.0,24.0,25.0,29.0,48.0,39.0,27.0,30.0,34.0,27.0,35.0,35.0,37.0,23.0,29.0,40.0,23.0,66.0,27.0,26.0,43.0,28.0,23.0,28.0,22.0,36.0,37.0,26.0,45.0,40.0,26.0,23.0,25.0,25.0,39.0,21.0,27.0,27.0,24.0,39.0,21.0,34.0,26.0,22.0,26.0,34.0,31.0,43.0,29.0,37.0,44.0,31.0,34.0,29.0,27.0,34.0,32.0,22.0,28.0,57.0,23.0,28.0,33.0,22.0,28.0,26.0,34.0,23.0,46.0,26.0,31.0,39.0,33.0,22.0,34.0,30.0,39.0,29.0,35.0,24.0,49.0,24.0,27.0,26.0,26.0,22.0,27.0,27.0,51.0,34.0,42.0,24.0,36.0,33.0,28.0,21.0,23.0,33.0,43.0,37.0,21.0,30.0,34.0,26.0,36.0,31.0,27.0,22.0,30.0,29.0,24.0,27.0,25.0,29.0,33.0,25.0,23.0,23.0,37.0,36.0,28.0,21.0,34.0,26.0,27.0,22.0,33.0,32.0,27.0,34.0,39.0,43.0,26.0,25.0,26.0,34.0,40.0,30.0,39.0,33.0,20.0,33.0,50.0,23.0,35.0,26.0,24.0,23.0,32.0,23.0,44.0,35.0,25.0,23.0,43.0,29.0,27.0,30.0,23.0,25.0,27.0,25.0,26.0,21.0,33.0,35.0,34.0,21.0,24.0,28.0,22.0,30.0,33.0,34.0,41.0,36.0,36.0,26.0,22.0,21.0,30.0,47.0,27.0,24.0,28.0,23.0,29.0,34.0,35.0,39.0,33.0,32.0,31.0,28.0,32.0,25.0,24.0,38.0,35.0,23.0,22.0,37.0,25.0,26.0,21.0,40.0,21.0,46.0,29.0,39.0,33.0,36.0,23.0,22.0,35.0,21.0,24.0,34.0,30.0,34.0,46.0,28.0,26.0,28.0,20.0,42.0,45.0,44.0,39.0,25.0,32.0,31.0,28.0,28.0,41.0,32.0,26.0,36.0,35.0,34.0,34.0,38.0,42.0,37.0,23.0,22.0,20.0,32.0,26.0,45.0,25.0,42.0,22.0,24.0,29.0,61.0,29.0,39.0,37.0,32.0,31.0,29.0,23.0,27.0,26.0,36.0,27.0,27.0,40.0,21.0,29.0,30.0,26.0,35.0,22.0,61.0,27.0,24.0,26.0,24.0,23.0,28.0,21.0,30.0,32.0,31.0,22.0,38.0,22.0,30.0,30.0,31.0,29.0,32.0,28.0,25.0,26.0,28.0,22.0,24.0,28.0,31.0,24.0,22.0,37.0,45.0,28.0,28.0,28.0,31.0,35.0,21.0,44.0,41.0,27.0,44.0,29.0,25.0,29.0,33.0,31.0,27.0,33.0,38.0,30.0,41.0,33.0,26.0,22.0,35.0,38.0,33.0,21.0,30.0,40.0,39.0,24.0,27.0,31.0,38.0,27.0,25.0,20.0,27.0,39.0,31.0,29.0,32.0,25.0,35.0,24.0,25.0,22.0,29.0,40.0,45.0,29.0,37.0,33.0,31.0,23.0,22.0,33.0,36.0,31.0,33.0,24.0,34.0,24.0,27.0,24.0,24.0,26.0,34.0,24.0,42.0,27.0,26.0,46.0,23.0,22.0,38.0,25.0,33.0,49.0,20.0,30.0,26.0,45.0,27.0,33.0,24.0,25.0,41.0,25.0,26.0,28.0,22.0,28.0,22.0,34.0,28.0,39.0,49.0,26.0,22.0,25.0,40.0,28.0,27.0,22.0,49.0,23.0,37.0,40.0,30.0,34.0,32.0,22.0,20.0,27.0,28.0,24.0,26.0,24.0,35.0,22.0,21.0,39.0,21.0,21.0,34.0,29.0,41.0,31.0,24.0,26.0,27.0,30.0,21.0,30.0,28.0,29.0,51.0,24.0,22.0,39.0,25.0,27.0,65.0,29.0,29.0,35.0,33.0,29.0,25.0,21.0,26.0,41.0,28.0,35.0,31.0,33.0,30.0,27.0,31.0,28.0,36.0,27.0,36.0,25.0,39.0,22.0,42.0,28.0,47.0,43.0,35.0,28.0,26.0,28.0,25.0,26.0,24.0,32.0,34.0,36.0,23.0,26.0,25.0,27.0,42.0,24.0,38.0,24.0,31.0,36.0,35.0,24.0,40.0,23.0,25.0,27.0,22.0,28.0,32.0,30.0,33.0,27.0,24.0,25.0,27.0,29.0,28.0,30.0,29.0,28.0,44.0,36.0,33.0,26.0,25.0,24.0,24.0,23.0,31.0,25.0,28.0,26.0,32.0,26.0,25.0,33.0,27.0,21.0,26.0,23.0,28.0,37.0,37.0,21.0,26.0,22.0,33.0,21.0,25.0,28.0,36.0,40.0,29.0,49.0,34.0,44.0,30.0,29.0,37.0,27.0,20.0,28.0,24.0,39.0,49.0,29.0,46.0,30.0,38.0,31.0,32.0,24.0,28.0,23.0,42.0,32.0,38.0,44.0,25.0,23.0,34.0,30.0,23.0,53.0,30.0,31.0,32.0,39.0,25.0,30.0,31.0,26.0,21.0,34.0,26.0,23.0,24.0,35.0,28.0,33.0,38.0,32.0,34.0,30.0,39.0,30.0,23.0,31.0,25.0,23.0,40.0,37.0,22.0,37.0,24.0,30.0,39.0,43.0,25.0,26.0,27.0,32.0,25.0,25.0,50.0,31.0,26.0,29.0,28.0,28.0,31.0,23.0,23.0,27.0,24.0,22.0,25.0,26.0,25.0,21.0,41.0,23.0,33.0,25.0,33.0,33.0,21.0,43.0,30.0,26.0,38.0,27.0,24.0,26.0,24.0,29.0,32.0,28.0,29.0,29.0,36.0,26.0,42.0,21.0,23.0,29.0,20.0,33.0,43.0,25.0,25.0,22.0,32.0,29.0,46.0,25.0,21.0,44.0,38.0,41.0,34.0,31.0,42.0,25.0,30.0,24.0,26.0,26.0,29.0,25.0,43.0,30.0,24.0,24.0,39.0,32.0,37.0,36.0,27.0,38.0,36.0,22.0,33.0,24.0,41.0,24.0,27.0,22.0,28.0,29.0,22.0,23.0,24.0,22.0,27.0,34.0,25.0,29.0,45.0,31.0,32.0,31.0,27.0,42.0,26.0,20.0,30.0,31.0,25.0,24.0,40.0,24.0,38.0,28.0,34.0,35.0,28.0,24.0,49.0,25.0,40.0,25.0,34.0,25.0,39.0,24.0,20.0,24.0,23.0,26.0,26.0,24.0,32.0,42.0,25.0,38.0,20.0,23.0,27.0,29.0,32.0,24.0,21.0,25.0,26.0,31.0,28.0,27.0,25.0,23.0,38.0,26.0,27.0,44.0,55.0,33.0,36.0,28.0,25.0,24.0,29.0,22.0,26.0,53.0,28.0,31.0,43.0,27.0,24.0,23.0,23.0,38.0,29.0,38.0,39.0,25.0,34.0,38.0,22.0,26.0,27.0,27.0,42.0,20.0,25.0,36.0,34.0,23.0,32.0,24.0,31.0,33.0,51.0,25.0,32.0,34.0,29.0,24.0,31.0,25.0,33.0,28.0,47.0,31.0,39.0,20.0,25.0,35.0,26.0,32.0,33.0,26.0,27.0,22.0,22.0,24.0,26.0,26.0,39.0,31.0,35.0,42.0,30.0,23.0,27.0,27.0,27.0,31.0,42.0,26.0,38.0,35.0,22.0,28.0,50.0,31.0,25.0,42.0,30.0,29.0,41.0,42.0,29.0,26.0,24.0,29.0,31.0,23.0,31.0,21.0,43.0,33.0,31.0,30.0,20.0,20.0,39.0,27.0,25.0,31.0,32.0,28.0,25.0,39.0,31.0,45.0,32.0,28.0,28.0,30.0,43.0,28.0,36.0,22.0,23.0,29.0,42.0,31.0,39.0,27.0,35.0,23.0,43.0,21.0,24.0,31.0,25.0,32.0,30.0,24.0,27.0,26.0,26.0,40.0,36.0,65.0,23.0,43.0,32.0,39.0,24.0,39.0,34.0,45.0,29.0,24.0,20.0,29.0,35.0,30.0,38.0,27.0,30.0,37.0,35.0,34.0,30.0,29.0,32.0,39.0,33.0,28.0,29.0,36.0,47.0,47.0,28.0,21.0,37.0,50.0,21.0,28.0,31.0,26.0,30.0,36.0,23.0,29.0,32.0,35.0,30.0,39.0,27.0,28.0,21.0,24.0,40.0,26.0,24.0,28.0,38.0,47.0,27.0,45.0,22.0,27.0,21.0,30.0,24.0,32.0,28.0,28.0,24.0,23.0,28.0,28.0,20.0,23.0,28.0,36.0,22.0,32.0,21.0,30.0,25.0,32.0,39.0,32.0,30.0,27.0,32.0,31.0,25.0,34.0,26.0,28.0,31.0,39.0,25.0,41.0,37.0,31.0,20.0,28.0,35.0,32.0,25.0,49.0,41.0,21.0,23.0,44.0,32.0,31.0,40.0,21.0,26.0,30.0,43.0,36.0,24.0,39.0,26.0,24.0,33.0,33.0,31.0,26.0,32.0,24.0,25.0,30.0,29.0,22.0,28.0,42.0,26.0,31.0,39.0,38.0,27.0,23.0,36.0,30.0,30.0,33.0,32.0,24.0,27.0,26.0,29.0,28.0,37.0,36.0,31.0,22.0,34.0,27.0,43.0,28.0,42.0,26.0,29.0,28.0,39.0,23.0,41.0,24.0,34.0,27.0,32.0,25.0,30.0,28.0,29.0,38.0,44.0,32.0,29.0,28.0,29.0,45.0,32.0,33.0,26.0,38.0,37.0,29.0,31.0,23.0,27.0,23.0,24.0,37.0,27.0,21.0,29.0,41.0,31.0,36.0,28.0,38.0,25.0,21.0,37.0,37.0,32.0,48.0,28.0,38.0,26.0,26.0,31.0,28.0,26.0,34.0,23.0,32.0,28.0,27.0,22.0,31.0,30.0,27.0,32.0,31.0,30.0,24.0,44.0,36.0,32.0,25.0,22.0,44.0,30.0,20.0,31.0,33.0,22.0,26.0,30.0,37.0,31.0,28.0,33.0,39.0,40.0,25.0,27.0,29.0,43.0,28.0,38.0,39.0,33.0,35.0,37.0,26.0,26.0,26.0,25.0,49.0,25.0,26.0,28.0,24.0,22.0,24.0,25.0,27.0,42.0,24.0,23.0,31.0,26.0,41.0,25.0,20.0,28.0,29.0,46.0,39.0,24.0,34.0,30.0,23.0,25.0,23.0,28.0,31.0,37.0,40.0,28.0,26.0,26.0,33.0,23.0,26.0,31.0,35.0,22.0,25.0,25.0,26.0,29.0,25.0,42.0,28.0,46.0,24.0,26.0,28.0,27.0,29.0,33.0,27.0,26.0,25.0,32.0,21.0,40.0,35.0,32.0,35.0,45.0,26.0,23.0,26.0,30.0,22.0,29.0,35.0,31.0,38.0,29.0,28.0,32.0,40.0,32.0,22.0,24.0,32.0,38.0,27.0,26.0,24.0,26.0,30.0,36.0,20.0,27.0,30.0,23.0,44.0,21.0,36.0,28.0,29.0,34.0,20.0,38.0,39.0,35.0,21.0,34.0,41.0,32.0,30.0,27.0,42.0,24.0,30.0,24.0,29.0,31.0,25.0,27.0,29.0,38.0,26.0,37.0,21.0,44.0,25.0,21.0,24.0,27.0,22.0,27.0,33.0,65.0,25.0,21.0,23.0,26.0,43.0,29.0,23.0,26.0,27.0,31.0,26.0,23.0,36.0,38.0,29.0,37.0,28.0,29.0,28.0,23.0,24.0,39.0,28.0,24.0,30.0,37.0,26.0,25.0,28.0,26.0,37.0,31.0,24.0,27.0,38.0,27.0,26.0,27.0,25.0,24.0,40.0,32.0,24.0,26.0,37.0,24.0,39.0,25.0,23.0,28.0,35.0,30.0,39.0,23.0,21.0,35.0,28.0,32.0,28.0,31.0,21.0,49.0,32.0,25.0,23.0,30.0,25.0,30.0,26.0,32.0,27.0,23.0,22.0,48.0,26.0,31.0,26.0,31.0,38.0,30.0,26.0,22.0,45.0,36.0,28.0,36.0,24.0,47.0,42.0,26.0,23.0,29.0,39.0,32.0,34.0,42.0,32.0],\"xaxis\":\"x\",\"yaxis\":\"y\",\"type\":\"histogram\"}],                        {\"template\":{\"data\":{\"histogram2dcontour\":[{\"type\":\"histogram2dcontour\",\"colorbar\":{\"outlinewidth\":0,\"ticks\":\"\"},\"colorscale\":[[0.0,\"#0d0887\"],[0.1111111111111111,\"#46039f\"],[0.2222222222222222,\"#7201a8\"],[0.3333333333333333,\"#9c179e\"],[0.4444444444444444,\"#bd3786\"],[0.5555555555555556,\"#d8576b\"],[0.6666666666666666,\"#ed7953\"],[0.7777777777777778,\"#fb9f3a\"],[0.8888888888888888,\"#fdca26\"],[1.0,\"#f0f921\"]]}],\"choropleth\":[{\"type\":\"choropleth\",\"colorbar\":{\"outlinewidth\":0,\"ticks\":\"\"}}],\"histogram2d\":[{\"type\":\"histogram2d\",\"colorbar\":{\"outlinewidth\":0,\"ticks\":\"\"},\"colorscale\":[[0.0,\"#0d0887\"],[0.1111111111111111,\"#46039f\"],[0.2222222222222222,\"#7201a8\"],[0.3333333333333333,\"#9c179e\"],[0.4444444444444444,\"#bd3786\"],[0.5555555555555556,\"#d8576b\"],[0.6666666666666666,\"#ed7953\"],[0.7777777777777778,\"#fb9f3a\"],[0.8888888888888888,\"#fdca26\"],[1.0,\"#f0f921\"]]}],\"heatmap\":[{\"type\":\"heatmap\",\"colorbar\":{\"outlinewidth\":0,\"ticks\":\"\"},\"colorscale\":[[0.0,\"#0d0887\"],[0.1111111111111111,\"#46039f\"],[0.2222222222222222,\"#7201a8\"],[0.3333333333333333,\"#9c179e\"],[0.4444444444444444,\"#bd3786\"],[0.5555555555555556,\"#d8576b\"],[0.6666666666666666,\"#ed7953\"],[0.7777777777777778,\"#fb9f3a\"],[0.8888888888888888,\"#fdca26\"],[1.0,\"#f0f921\"]]}],\"heatmapgl\":[{\"type\":\"heatmapgl\",\"colorbar\":{\"outlinewidth\":0,\"ticks\":\"\"},\"colorscale\":[[0.0,\"#0d0887\"],[0.1111111111111111,\"#46039f\"],[0.2222222222222222,\"#7201a8\"],[0.3333333333333333,\"#9c179e\"],[0.4444444444444444,\"#bd3786\"],[0.5555555555555556,\"#d8576b\"],[0.6666666666666666,\"#ed7953\"],[0.7777777777777778,\"#fb9f3a\"],[0.8888888888888888,\"#fdca26\"],[1.0,\"#f0f921\"]]}],\"contourcarpet\":[{\"type\":\"contourcarpet\",\"colorbar\":{\"outlinewidth\":0,\"ticks\":\"\"}}],\"contour\":[{\"type\":\"contour\",\"colorbar\":{\"outlinewidth\":0,\"ticks\":\"\"},\"colorscale\":[[0.0,\"#0d0887\"],[0.1111111111111111,\"#46039f\"],[0.2222222222222222,\"#7201a8\"],[0.3333333333333333,\"#9c179e\"],[0.4444444444444444,\"#bd3786\"],[0.5555555555555556,\"#d8576b\"],[0.6666666666666666,\"#ed7953\"],[0.7777777777777778,\"#fb9f3a\"],[0.8888888888888888,\"#fdca26\"],[1.0,\"#f0f921\"]]}],\"surface\":[{\"type\":\"surface\",\"colorbar\":{\"outlinewidth\":0,\"ticks\":\"\"},\"colorscale\":[[0.0,\"#0d0887\"],[0.1111111111111111,\"#46039f\"],[0.2222222222222222,\"#7201a8\"],[0.3333333333333333,\"#9c179e\"],[0.4444444444444444,\"#bd3786\"],[0.5555555555555556,\"#d8576b\"],[0.6666666666666666,\"#ed7953\"],[0.7777777777777778,\"#fb9f3a\"],[0.8888888888888888,\"#fdca26\"],[1.0,\"#f0f921\"]]}],\"mesh3d\":[{\"type\":\"mesh3d\",\"colorbar\":{\"outlinewidth\":0,\"ticks\":\"\"}}],\"scatter\":[{\"fillpattern\":{\"fillmode\":\"overlay\",\"size\":10,\"solidity\":0.2},\"type\":\"scatter\"}],\"parcoords\":[{\"type\":\"parcoords\",\"line\":{\"colorbar\":{\"outlinewidth\":0,\"ticks\":\"\"}}}],\"scatterpolargl\":[{\"type\":\"scatterpolargl\",\"marker\":{\"colorbar\":{\"outlinewidth\":0,\"ticks\":\"\"}}}],\"bar\":[{\"error_x\":{\"color\":\"#2a3f5f\"},\"error_y\":{\"color\":\"#2a3f5f\"},\"marker\":{\"line\":{\"color\":\"#E5ECF6\",\"width\":0.5},\"pattern\":{\"fillmode\":\"overlay\",\"size\":10,\"solidity\":0.2}},\"type\":\"bar\"}],\"scattergeo\":[{\"type\":\"scattergeo\",\"marker\":{\"colorbar\":{\"outlinewidth\":0,\"ticks\":\"\"}}}],\"scatterpolar\":[{\"type\":\"scatterpolar\",\"marker\":{\"colorbar\":{\"outlinewidth\":0,\"ticks\":\"\"}}}],\"histogram\":[{\"marker\":{\"pattern\":{\"fillmode\":\"overlay\",\"size\":10,\"solidity\":0.2}},\"type\":\"histogram\"}],\"scattergl\":[{\"type\":\"scattergl\",\"marker\":{\"colorbar\":{\"outlinewidth\":0,\"ticks\":\"\"}}}],\"scatter3d\":[{\"type\":\"scatter3d\",\"line\":{\"colorbar\":{\"outlinewidth\":0,\"ticks\":\"\"}},\"marker\":{\"colorbar\":{\"outlinewidth\":0,\"ticks\":\"\"}}}],\"scattermapbox\":[{\"type\":\"scattermapbox\",\"marker\":{\"colorbar\":{\"outlinewidth\":0,\"ticks\":\"\"}}}],\"scatterternary\":[{\"type\":\"scatterternary\",\"marker\":{\"colorbar\":{\"outlinewidth\":0,\"ticks\":\"\"}}}],\"scattercarpet\":[{\"type\":\"scattercarpet\",\"marker\":{\"colorbar\":{\"outlinewidth\":0,\"ticks\":\"\"}}}],\"carpet\":[{\"aaxis\":{\"endlinecolor\":\"#2a3f5f\",\"gridcolor\":\"white\",\"linecolor\":\"white\",\"minorgridcolor\":\"white\",\"startlinecolor\":\"#2a3f5f\"},\"baxis\":{\"endlinecolor\":\"#2a3f5f\",\"gridcolor\":\"white\",\"linecolor\":\"white\",\"minorgridcolor\":\"white\",\"startlinecolor\":\"#2a3f5f\"},\"type\":\"carpet\"}],\"table\":[{\"cells\":{\"fill\":{\"color\":\"#EBF0F8\"},\"line\":{\"color\":\"white\"}},\"header\":{\"fill\":{\"color\":\"#C8D4E3\"},\"line\":{\"color\":\"white\"}},\"type\":\"table\"}],\"barpolar\":[{\"marker\":{\"line\":{\"color\":\"#E5ECF6\",\"width\":0.5},\"pattern\":{\"fillmode\":\"overlay\",\"size\":10,\"solidity\":0.2}},\"type\":\"barpolar\"}],\"pie\":[{\"automargin\":true,\"type\":\"pie\"}]},\"layout\":{\"autotypenumbers\":\"strict\",\"colorway\":[\"#636efa\",\"#EF553B\",\"#00cc96\",\"#ab63fa\",\"#FFA15A\",\"#19d3f3\",\"#FF6692\",\"#B6E880\",\"#FF97FF\",\"#FECB52\"],\"font\":{\"color\":\"#2a3f5f\"},\"hovermode\":\"closest\",\"hoverlabel\":{\"align\":\"left\"},\"paper_bgcolor\":\"white\",\"plot_bgcolor\":\"#E5ECF6\",\"polar\":{\"bgcolor\":\"#E5ECF6\",\"angularaxis\":{\"gridcolor\":\"white\",\"linecolor\":\"white\",\"ticks\":\"\"},\"radialaxis\":{\"gridcolor\":\"white\",\"linecolor\":\"white\",\"ticks\":\"\"}},\"ternary\":{\"bgcolor\":\"#E5ECF6\",\"aaxis\":{\"gridcolor\":\"white\",\"linecolor\":\"white\",\"ticks\":\"\"},\"baxis\":{\"gridcolor\":\"white\",\"linecolor\":\"white\",\"ticks\":\"\"},\"caxis\":{\"gridcolor\":\"white\",\"linecolor\":\"white\",\"ticks\":\"\"}},\"coloraxis\":{\"colorbar\":{\"outlinewidth\":0,\"ticks\":\"\"}},\"colorscale\":{\"sequential\":[[0.0,\"#0d0887\"],[0.1111111111111111,\"#46039f\"],[0.2222222222222222,\"#7201a8\"],[0.3333333333333333,\"#9c179e\"],[0.4444444444444444,\"#bd3786\"],[0.5555555555555556,\"#d8576b\"],[0.6666666666666666,\"#ed7953\"],[0.7777777777777778,\"#fb9f3a\"],[0.8888888888888888,\"#fdca26\"],[1.0,\"#f0f921\"]],\"sequentialminus\":[[0.0,\"#0d0887\"],[0.1111111111111111,\"#46039f\"],[0.2222222222222222,\"#7201a8\"],[0.3333333333333333,\"#9c179e\"],[0.4444444444444444,\"#bd3786\"],[0.5555555555555556,\"#d8576b\"],[0.6666666666666666,\"#ed7953\"],[0.7777777777777778,\"#fb9f3a\"],[0.8888888888888888,\"#fdca26\"],[1.0,\"#f0f921\"]],\"diverging\":[[0,\"#8e0152\"],[0.1,\"#c51b7d\"],[0.2,\"#de77ae\"],[0.3,\"#f1b6da\"],[0.4,\"#fde0ef\"],[0.5,\"#f7f7f7\"],[0.6,\"#e6f5d0\"],[0.7,\"#b8e186\"],[0.8,\"#7fbc41\"],[0.9,\"#4d9221\"],[1,\"#276419\"]]},\"xaxis\":{\"gridcolor\":\"white\",\"linecolor\":\"white\",\"ticks\":\"\",\"title\":{\"standoff\":15},\"zerolinecolor\":\"white\",\"automargin\":true,\"zerolinewidth\":2},\"yaxis\":{\"gridcolor\":\"white\",\"linecolor\":\"white\",\"ticks\":\"\",\"title\":{\"standoff\":15},\"zerolinecolor\":\"white\",\"automargin\":true,\"zerolinewidth\":2},\"scene\":{\"xaxis\":{\"backgroundcolor\":\"#E5ECF6\",\"gridcolor\":\"white\",\"linecolor\":\"white\",\"showbackground\":true,\"ticks\":\"\",\"zerolinecolor\":\"white\",\"gridwidth\":2},\"yaxis\":{\"backgroundcolor\":\"#E5ECF6\",\"gridcolor\":\"white\",\"linecolor\":\"white\",\"showbackground\":true,\"ticks\":\"\",\"zerolinecolor\":\"white\",\"gridwidth\":2},\"zaxis\":{\"backgroundcolor\":\"#E5ECF6\",\"gridcolor\":\"white\",\"linecolor\":\"white\",\"showbackground\":true,\"ticks\":\"\",\"zerolinecolor\":\"white\",\"gridwidth\":2}},\"shapedefaults\":{\"line\":{\"color\":\"#2a3f5f\"}},\"annotationdefaults\":{\"arrowcolor\":\"#2a3f5f\",\"arrowhead\":0,\"arrowwidth\":1},\"geo\":{\"bgcolor\":\"white\",\"landcolor\":\"#E5ECF6\",\"subunitcolor\":\"white\",\"showland\":true,\"showlakes\":true,\"lakecolor\":\"white\"},\"title\":{\"x\":0.05},\"mapbox\":{\"style\":\"light\"}}},\"xaxis\":{\"anchor\":\"y\",\"domain\":[0.0,1.0],\"title\":{\"text\":\"Age\"}},\"yaxis\":{\"anchor\":\"x\",\"domain\":[0.0,1.0],\"title\":{\"text\":\"Frequency [count]\"}},\"legend\":{\"tracegroupgap\":0},\"title\":{\"text\":\"DS Applicants: Distribution of Ages\"},\"barmode\":\"relative\"},                        {\"responsive\": true}                    ).then(function(){\n",
       "                            \n",
       "var gd = document.getElementById('b036d66f-92fe-48fb-896f-d82002be2820');\n",
       "var x = new MutationObserver(function (mutations, observer) {{\n",
       "        var display = window.getComputedStyle(gd).display;\n",
       "        if (!display || display === 'none') {{\n",
       "            console.log([gd, 'removed!']);\n",
       "            Plotly.purge(gd);\n",
       "            observer.disconnect();\n",
       "        }}\n",
       "}});\n",
       "\n",
       "// Listen for the removal of the full notebook cells\n",
       "var notebookContainer = gd.closest('#notebook-container');\n",
       "if (notebookContainer) {{\n",
       "    x.observe(notebookContainer, {childList: true});\n",
       "}}\n",
       "\n",
       "// Listen for the clearing of the current output cell\n",
       "var outputEl = gd.closest('.output');\n",
       "if (outputEl) {{\n",
       "    x.observe(outputEl, {childList: true});\n",
       "}}\n",
       "\n",
       "                        })                };                });            </script>        </div>"
      ]
     },
     "metadata": {},
     "output_type": "display_data"
    }
   ],
   "source": [
    "def build_age_hist():\n",
    "    # Create histogram of `ages`\n",
    "    fig = px.histogram(x=df[\"age\"], nbins=50, title=\"DS Applicants: Distribution of Ages\")\n",
    "    # Set axis labels\n",
    "    fig.update_layout(xaxis_title=\"Age\", yaxis_title=\"Frequency [count]\")\n",
    "    return fig\n",
    "\n",
    "\n",
    "age_fig = build_age_hist()\n",
    "print(\"age_fig type:\", type(age_fig))\n",
    "age_fig.show()"
   ]
  },
  {
   "cell_type": "markdown",
   "id": "e892ebee-56d2-400c-bbc5-a83c3a247ad7",
   "metadata": {
    "jp-MarkdownHeadingCollapsed": true
   },
   "source": [
    "# Education"
   ]
  },
  {
   "cell_type": "code",
   "execution_count": 81,
   "id": "532cc925-a05d-47ff-b7ad-c4d76be14f4d",
   "metadata": {},
   "outputs": [
    {
     "name": "stdout",
     "output_type": "stream",
     "text": [
      "            highestDegreeEarned  count\n",
      "0             Bachelor's degree   2643\n",
      "1               Master's degree    862\n",
      "2  High School or Baccalaureate    832\n",
      "3      Some College (1-3 years)    612\n",
      "4          Doctorate (e.g. PhD)     76\n"
     ]
    }
   ],
   "source": [
    "# Value counts for 'highestDegreeEarned'\n",
    "degree_counts = df['highestDegreeEarned'].value_counts()\n",
    "\n",
    "# Convert to DataFrame\n",
    "degree_counts_df = degree_counts.reset_index()\n",
    "\n",
    "# Rename columns to match MongoDB aggregation style\n",
    "degree_counts_df.columns = ['highestDegreeEarned', 'count']\n",
    "\n",
    "# Display the DataFrame\n",
    "print(degree_counts_df)"
   ]
  },
  {
   "cell_type": "code",
   "execution_count": 82,
   "id": "01a7a312-c2a4-4e31-8758-d91a13905adf",
   "metadata": {},
   "outputs": [
    {
     "name": "stdout",
     "output_type": "stream",
     "text": [
      "education type: <class 'pandas.core.frame.DataFrame'>\n",
      "education shape: (5, 1)\n"
     ]
    },
    {
     "data": {
      "text/html": [
       "<div>\n",
       "<style scoped>\n",
       "    .dataframe tbody tr th:only-of-type {\n",
       "        vertical-align: middle;\n",
       "    }\n",
       "\n",
       "    .dataframe tbody tr th {\n",
       "        vertical-align: top;\n",
       "    }\n",
       "\n",
       "    .dataframe thead th {\n",
       "        text-align: right;\n",
       "    }\n",
       "</style>\n",
       "<table border=\"1\" class=\"dataframe\">\n",
       "  <thead>\n",
       "    <tr style=\"text-align: right;\">\n",
       "      <th></th>\n",
       "      <th>count</th>\n",
       "    </tr>\n",
       "    <tr>\n",
       "      <th>highest_degree_earned</th>\n",
       "      <th></th>\n",
       "    </tr>\n",
       "  </thead>\n",
       "  <tbody>\n",
       "    <tr>\n",
       "      <th>Bachelor's degree</th>\n",
       "      <td>2643</td>\n",
       "    </tr>\n",
       "    <tr>\n",
       "      <th>Master's degree</th>\n",
       "      <td>862</td>\n",
       "    </tr>\n",
       "    <tr>\n",
       "      <th>High School or Baccalaureate</th>\n",
       "      <td>832</td>\n",
       "    </tr>\n",
       "    <tr>\n",
       "      <th>Some College (1-3 years)</th>\n",
       "      <td>612</td>\n",
       "    </tr>\n",
       "    <tr>\n",
       "      <th>Doctorate (e.g. PhD)</th>\n",
       "      <td>76</td>\n",
       "    </tr>\n",
       "  </tbody>\n",
       "</table>\n",
       "</div>"
      ],
      "text/plain": [
       "                              count\n",
       "highest_degree_earned              \n",
       "Bachelor's degree              2643\n",
       "Master's degree                 862\n",
       "High School or Baccalaureate    832\n",
       "Some College (1-3 years)        612\n",
       "Doctorate (e.g. PhD)             76"
      ]
     },
     "execution_count": 82,
     "metadata": {},
     "output_type": "execute_result"
    }
   ],
   "source": [
    "# Step 1: Count occurrences of each degree\n",
    "degree_counts = df['highestDegreeEarned'].value_counts()\n",
    "\n",
    "# Step 2: Convert to DataFrame and rename columns\n",
    "education = (\n",
    "    pd.DataFrame(degree_counts)\n",
    "    .rename(columns={\"highestDegreeEarned\": \"count\"})  # Rename the count column\n",
    "    .rename_axis(\"highest_degree_earned\")              # Rename the index\n",
    ")\n",
    "\n",
    "# Step 3: Display the DataFrame\n",
    "print(\"education type:\", type(education))\n",
    "print(\"education shape:\", education.shape)\n",
    "education.head()"
   ]
  },
  {
   "cell_type": "markdown",
   "id": "e739e56b-922a-44fc-8b36-52db92a68581",
   "metadata": {},
   "source": [
    "#### ... and... wait! We need to sort these categories more logically. Since we're talking about the highest level of education our applicants have, we need to sort the categories hierarchically rather than alphabetically or numerically. The order should be: \"High School or Baccalaureate\", \"Some College (1-3 years)\", \"Bachelor's Degree\", \"Master's Degree\", and \"Doctorate (e.g. PhD)\". Let's do that with a function."
   ]
  },
  {
   "cell_type": "code",
   "execution_count": 83,
   "id": "5ab68c3b-a7fc-4a98-908d-02f4e3df0333",
   "metadata": {},
   "outputs": [
    {
     "name": "stdout",
     "output_type": "stream",
     "text": [
      "education_series type: <class 'pandas.core.series.Series'>\n",
      "education_series shape: (5,)\n",
      "highest_degree_earned\n",
      "High School or Baccalaureate     832\n",
      "Some College (1-3 years)         612\n",
      "Bachelor's degree               2643\n",
      "Master's degree                  862\n",
      "Doctorate (e.g. PhD)              76\n",
      "Name: count, dtype: int64\n"
     ]
    }
   ],
   "source": [
    "# Step 4: Define custom sorting function\n",
    "def ed_sort(counts):\n",
    "    \"\"\"Sort array `counts` from highest to lowest degree earned.\"\"\"\n",
    "    degrees = [\n",
    "        \"High School or Baccalaureate\",\n",
    "        \"Some College (1-3 years)\",\n",
    "        \"Bachelor's degree\",\n",
    "        \"Master's degree\",\n",
    "        \"Doctorate (e.g. PhD)\",\n",
    "    ]\n",
    "    mapping = {k: v for v, k in enumerate(degrees)}\n",
    "    sort_order = [mapping.get(c, len(degrees)) for c in counts]  # Handle missing degrees\n",
    "    return sort_order\n",
    "\n",
    "# Step 5: Apply the sorting function\n",
    "education.sort_index(key=ed_sort, inplace=True)\n",
    "\n",
    "# Step 6: Convert DataFrame to Series\n",
    "education = education['count']\n",
    "\n",
    "# Step 7: Display the Series\n",
    "print(\"education_series type:\", type(education))\n",
    "print(\"education_series shape:\", education.shape)\n",
    "print(education)"
   ]
  },
  {
   "cell_type": "code",
   "execution_count": 84,
   "id": "652ff92c-41da-44fd-8255-899a46c13d2a",
   "metadata": {},
   "outputs": [
    {
     "name": "stdout",
     "output_type": "stream",
     "text": [
      "ed_fig type: <class 'plotly.graph_objs._figure.Figure'>\n"
     ]
    },
    {
     "data": {
      "application/vnd.plotly.v1+json": {
       "config": {
        "plotlyServerURL": "https://plot.ly"
       },
       "data": [
        {
         "alignmentgroup": "True",
         "hovertemplate": "x=%{x}<br>y=%{y}<extra></extra>",
         "legendgroup": "",
         "marker": {
          "color": "#636efa",
          "pattern": {
           "shape": ""
          }
         },
         "name": "",
         "offsetgroup": "",
         "orientation": "h",
         "showlegend": false,
         "textposition": "auto",
         "type": "bar",
         "x": [
          832,
          612,
          2643,
          862,
          76
         ],
         "xaxis": "x",
         "y": [
          "High School or Baccalaureate",
          "Some College (1-3 years)",
          "Bachelor's degree",
          "Master's degree",
          "Doctorate (e.g. PhD)"
         ],
         "yaxis": "y"
        }
       ],
       "layout": {
        "autosize": true,
        "barmode": "relative",
        "legend": {
         "tracegroupgap": 0
        },
        "template": {
         "data": {
          "bar": [
           {
            "error_x": {
             "color": "#2a3f5f"
            },
            "error_y": {
             "color": "#2a3f5f"
            },
            "marker": {
             "line": {
              "color": "#E5ECF6",
              "width": 0.5
             },
             "pattern": {
              "fillmode": "overlay",
              "size": 10,
              "solidity": 0.2
             }
            },
            "type": "bar"
           }
          ],
          "barpolar": [
           {
            "marker": {
             "line": {
              "color": "#E5ECF6",
              "width": 0.5
             },
             "pattern": {
              "fillmode": "overlay",
              "size": 10,
              "solidity": 0.2
             }
            },
            "type": "barpolar"
           }
          ],
          "carpet": [
           {
            "aaxis": {
             "endlinecolor": "#2a3f5f",
             "gridcolor": "white",
             "linecolor": "white",
             "minorgridcolor": "white",
             "startlinecolor": "#2a3f5f"
            },
            "baxis": {
             "endlinecolor": "#2a3f5f",
             "gridcolor": "white",
             "linecolor": "white",
             "minorgridcolor": "white",
             "startlinecolor": "#2a3f5f"
            },
            "type": "carpet"
           }
          ],
          "choropleth": [
           {
            "colorbar": {
             "outlinewidth": 0,
             "ticks": ""
            },
            "type": "choropleth"
           }
          ],
          "contour": [
           {
            "colorbar": {
             "outlinewidth": 0,
             "ticks": ""
            },
            "colorscale": [
             [
              0,
              "#0d0887"
             ],
             [
              0.1111111111111111,
              "#46039f"
             ],
             [
              0.2222222222222222,
              "#7201a8"
             ],
             [
              0.3333333333333333,
              "#9c179e"
             ],
             [
              0.4444444444444444,
              "#bd3786"
             ],
             [
              0.5555555555555556,
              "#d8576b"
             ],
             [
              0.6666666666666666,
              "#ed7953"
             ],
             [
              0.7777777777777778,
              "#fb9f3a"
             ],
             [
              0.8888888888888888,
              "#fdca26"
             ],
             [
              1,
              "#f0f921"
             ]
            ],
            "type": "contour"
           }
          ],
          "contourcarpet": [
           {
            "colorbar": {
             "outlinewidth": 0,
             "ticks": ""
            },
            "type": "contourcarpet"
           }
          ],
          "heatmap": [
           {
            "colorbar": {
             "outlinewidth": 0,
             "ticks": ""
            },
            "colorscale": [
             [
              0,
              "#0d0887"
             ],
             [
              0.1111111111111111,
              "#46039f"
             ],
             [
              0.2222222222222222,
              "#7201a8"
             ],
             [
              0.3333333333333333,
              "#9c179e"
             ],
             [
              0.4444444444444444,
              "#bd3786"
             ],
             [
              0.5555555555555556,
              "#d8576b"
             ],
             [
              0.6666666666666666,
              "#ed7953"
             ],
             [
              0.7777777777777778,
              "#fb9f3a"
             ],
             [
              0.8888888888888888,
              "#fdca26"
             ],
             [
              1,
              "#f0f921"
             ]
            ],
            "type": "heatmap"
           }
          ],
          "heatmapgl": [
           {
            "colorbar": {
             "outlinewidth": 0,
             "ticks": ""
            },
            "colorscale": [
             [
              0,
              "#0d0887"
             ],
             [
              0.1111111111111111,
              "#46039f"
             ],
             [
              0.2222222222222222,
              "#7201a8"
             ],
             [
              0.3333333333333333,
              "#9c179e"
             ],
             [
              0.4444444444444444,
              "#bd3786"
             ],
             [
              0.5555555555555556,
              "#d8576b"
             ],
             [
              0.6666666666666666,
              "#ed7953"
             ],
             [
              0.7777777777777778,
              "#fb9f3a"
             ],
             [
              0.8888888888888888,
              "#fdca26"
             ],
             [
              1,
              "#f0f921"
             ]
            ],
            "type": "heatmapgl"
           }
          ],
          "histogram": [
           {
            "marker": {
             "pattern": {
              "fillmode": "overlay",
              "size": 10,
              "solidity": 0.2
             }
            },
            "type": "histogram"
           }
          ],
          "histogram2d": [
           {
            "colorbar": {
             "outlinewidth": 0,
             "ticks": ""
            },
            "colorscale": [
             [
              0,
              "#0d0887"
             ],
             [
              0.1111111111111111,
              "#46039f"
             ],
             [
              0.2222222222222222,
              "#7201a8"
             ],
             [
              0.3333333333333333,
              "#9c179e"
             ],
             [
              0.4444444444444444,
              "#bd3786"
             ],
             [
              0.5555555555555556,
              "#d8576b"
             ],
             [
              0.6666666666666666,
              "#ed7953"
             ],
             [
              0.7777777777777778,
              "#fb9f3a"
             ],
             [
              0.8888888888888888,
              "#fdca26"
             ],
             [
              1,
              "#f0f921"
             ]
            ],
            "type": "histogram2d"
           }
          ],
          "histogram2dcontour": [
           {
            "colorbar": {
             "outlinewidth": 0,
             "ticks": ""
            },
            "colorscale": [
             [
              0,
              "#0d0887"
             ],
             [
              0.1111111111111111,
              "#46039f"
             ],
             [
              0.2222222222222222,
              "#7201a8"
             ],
             [
              0.3333333333333333,
              "#9c179e"
             ],
             [
              0.4444444444444444,
              "#bd3786"
             ],
             [
              0.5555555555555556,
              "#d8576b"
             ],
             [
              0.6666666666666666,
              "#ed7953"
             ],
             [
              0.7777777777777778,
              "#fb9f3a"
             ],
             [
              0.8888888888888888,
              "#fdca26"
             ],
             [
              1,
              "#f0f921"
             ]
            ],
            "type": "histogram2dcontour"
           }
          ],
          "mesh3d": [
           {
            "colorbar": {
             "outlinewidth": 0,
             "ticks": ""
            },
            "type": "mesh3d"
           }
          ],
          "parcoords": [
           {
            "line": {
             "colorbar": {
              "outlinewidth": 0,
              "ticks": ""
             }
            },
            "type": "parcoords"
           }
          ],
          "pie": [
           {
            "automargin": true,
            "type": "pie"
           }
          ],
          "scatter": [
           {
            "fillpattern": {
             "fillmode": "overlay",
             "size": 10,
             "solidity": 0.2
            },
            "type": "scatter"
           }
          ],
          "scatter3d": [
           {
            "line": {
             "colorbar": {
              "outlinewidth": 0,
              "ticks": ""
             }
            },
            "marker": {
             "colorbar": {
              "outlinewidth": 0,
              "ticks": ""
             }
            },
            "type": "scatter3d"
           }
          ],
          "scattercarpet": [
           {
            "marker": {
             "colorbar": {
              "outlinewidth": 0,
              "ticks": ""
             }
            },
            "type": "scattercarpet"
           }
          ],
          "scattergeo": [
           {
            "marker": {
             "colorbar": {
              "outlinewidth": 0,
              "ticks": ""
             }
            },
            "type": "scattergeo"
           }
          ],
          "scattergl": [
           {
            "marker": {
             "colorbar": {
              "outlinewidth": 0,
              "ticks": ""
             }
            },
            "type": "scattergl"
           }
          ],
          "scattermapbox": [
           {
            "marker": {
             "colorbar": {
              "outlinewidth": 0,
              "ticks": ""
             }
            },
            "type": "scattermapbox"
           }
          ],
          "scatterpolar": [
           {
            "marker": {
             "colorbar": {
              "outlinewidth": 0,
              "ticks": ""
             }
            },
            "type": "scatterpolar"
           }
          ],
          "scatterpolargl": [
           {
            "marker": {
             "colorbar": {
              "outlinewidth": 0,
              "ticks": ""
             }
            },
            "type": "scatterpolargl"
           }
          ],
          "scatterternary": [
           {
            "marker": {
             "colorbar": {
              "outlinewidth": 0,
              "ticks": ""
             }
            },
            "type": "scatterternary"
           }
          ],
          "surface": [
           {
            "colorbar": {
             "outlinewidth": 0,
             "ticks": ""
            },
            "colorscale": [
             [
              0,
              "#0d0887"
             ],
             [
              0.1111111111111111,
              "#46039f"
             ],
             [
              0.2222222222222222,
              "#7201a8"
             ],
             [
              0.3333333333333333,
              "#9c179e"
             ],
             [
              0.4444444444444444,
              "#bd3786"
             ],
             [
              0.5555555555555556,
              "#d8576b"
             ],
             [
              0.6666666666666666,
              "#ed7953"
             ],
             [
              0.7777777777777778,
              "#fb9f3a"
             ],
             [
              0.8888888888888888,
              "#fdca26"
             ],
             [
              1,
              "#f0f921"
             ]
            ],
            "type": "surface"
           }
          ],
          "table": [
           {
            "cells": {
             "fill": {
              "color": "#EBF0F8"
             },
             "line": {
              "color": "white"
             }
            },
            "header": {
             "fill": {
              "color": "#C8D4E3"
             },
             "line": {
              "color": "white"
             }
            },
            "type": "table"
           }
          ]
         },
         "layout": {
          "annotationdefaults": {
           "arrowcolor": "#2a3f5f",
           "arrowhead": 0,
           "arrowwidth": 1
          },
          "autotypenumbers": "strict",
          "coloraxis": {
           "colorbar": {
            "outlinewidth": 0,
            "ticks": ""
           }
          },
          "colorscale": {
           "diverging": [
            [
             0,
             "#8e0152"
            ],
            [
             0.1,
             "#c51b7d"
            ],
            [
             0.2,
             "#de77ae"
            ],
            [
             0.3,
             "#f1b6da"
            ],
            [
             0.4,
             "#fde0ef"
            ],
            [
             0.5,
             "#f7f7f7"
            ],
            [
             0.6,
             "#e6f5d0"
            ],
            [
             0.7,
             "#b8e186"
            ],
            [
             0.8,
             "#7fbc41"
            ],
            [
             0.9,
             "#4d9221"
            ],
            [
             1,
             "#276419"
            ]
           ],
           "sequential": [
            [
             0,
             "#0d0887"
            ],
            [
             0.1111111111111111,
             "#46039f"
            ],
            [
             0.2222222222222222,
             "#7201a8"
            ],
            [
             0.3333333333333333,
             "#9c179e"
            ],
            [
             0.4444444444444444,
             "#bd3786"
            ],
            [
             0.5555555555555556,
             "#d8576b"
            ],
            [
             0.6666666666666666,
             "#ed7953"
            ],
            [
             0.7777777777777778,
             "#fb9f3a"
            ],
            [
             0.8888888888888888,
             "#fdca26"
            ],
            [
             1,
             "#f0f921"
            ]
           ],
           "sequentialminus": [
            [
             0,
             "#0d0887"
            ],
            [
             0.1111111111111111,
             "#46039f"
            ],
            [
             0.2222222222222222,
             "#7201a8"
            ],
            [
             0.3333333333333333,
             "#9c179e"
            ],
            [
             0.4444444444444444,
             "#bd3786"
            ],
            [
             0.5555555555555556,
             "#d8576b"
            ],
            [
             0.6666666666666666,
             "#ed7953"
            ],
            [
             0.7777777777777778,
             "#fb9f3a"
            ],
            [
             0.8888888888888888,
             "#fdca26"
            ],
            [
             1,
             "#f0f921"
            ]
           ]
          },
          "colorway": [
           "#636efa",
           "#EF553B",
           "#00cc96",
           "#ab63fa",
           "#FFA15A",
           "#19d3f3",
           "#FF6692",
           "#B6E880",
           "#FF97FF",
           "#FECB52"
          ],
          "font": {
           "color": "#2a3f5f"
          },
          "geo": {
           "bgcolor": "white",
           "lakecolor": "white",
           "landcolor": "#E5ECF6",
           "showlakes": true,
           "showland": true,
           "subunitcolor": "white"
          },
          "hoverlabel": {
           "align": "left"
          },
          "hovermode": "closest",
          "mapbox": {
           "style": "light"
          },
          "paper_bgcolor": "white",
          "plot_bgcolor": "#E5ECF6",
          "polar": {
           "angularaxis": {
            "gridcolor": "white",
            "linecolor": "white",
            "ticks": ""
           },
           "bgcolor": "#E5ECF6",
           "radialaxis": {
            "gridcolor": "white",
            "linecolor": "white",
            "ticks": ""
           }
          },
          "scene": {
           "xaxis": {
            "backgroundcolor": "#E5ECF6",
            "gridcolor": "white",
            "gridwidth": 2,
            "linecolor": "white",
            "showbackground": true,
            "ticks": "",
            "zerolinecolor": "white"
           },
           "yaxis": {
            "backgroundcolor": "#E5ECF6",
            "gridcolor": "white",
            "gridwidth": 2,
            "linecolor": "white",
            "showbackground": true,
            "ticks": "",
            "zerolinecolor": "white"
           },
           "zaxis": {
            "backgroundcolor": "#E5ECF6",
            "gridcolor": "white",
            "gridwidth": 2,
            "linecolor": "white",
            "showbackground": true,
            "ticks": "",
            "zerolinecolor": "white"
           }
          },
          "shapedefaults": {
           "line": {
            "color": "#2a3f5f"
           }
          },
          "ternary": {
           "aaxis": {
            "gridcolor": "white",
            "linecolor": "white",
            "ticks": ""
           },
           "baxis": {
            "gridcolor": "white",
            "linecolor": "white",
            "ticks": ""
           },
           "bgcolor": "#E5ECF6",
           "caxis": {
            "gridcolor": "white",
            "linecolor": "white",
            "ticks": ""
           }
          },
          "title": {
           "x": 0.05
          },
          "xaxis": {
           "automargin": true,
           "gridcolor": "white",
           "linecolor": "white",
           "ticks": "",
           "title": {
            "standoff": 15
           },
           "zerolinecolor": "white",
           "zerolinewidth": 2
          },
          "yaxis": {
           "automargin": true,
           "gridcolor": "white",
           "linecolor": "white",
           "ticks": "",
           "title": {
            "standoff": 15
           },
           "zerolinecolor": "white",
           "zerolinewidth": 2
          }
         }
        },
        "title": {
         "text": "DS Applicants: Highest Degree Earned"
        },
        "xaxis": {
         "anchor": "y",
         "autorange": true,
         "domain": [
          0,
          1
         ],
         "range": [
          0,
          2782.1052631578946
         ],
         "title": {
          "text": "Frequency [count]"
         },
         "type": "linear"
        },
        "yaxis": {
         "anchor": "x",
         "autorange": true,
         "domain": [
          0,
          1
         ],
         "range": [
          -0.5,
          4.5
         ],
         "title": {
          "text": "Degree"
         },
         "type": "category"
        }
       }
      },
      "image/png": "[encoded data removed]",
      "text/html": [
       "<div>                            <div id=\"2bd84023-dad1-4faa-afb2-2701b3dc2015\" class=\"plotly-graph-div\" style=\"height:525px; width:100%;\"></div>            <script type=\"text/javascript\">                require([\"plotly\"], function(Plotly) {                    window.PLOTLYENV=window.PLOTLYENV || {};                                    if (document.getElementById(\"2bd84023-dad1-4faa-afb2-2701b3dc2015\")) {                    Plotly.newPlot(                        \"2bd84023-dad1-4faa-afb2-2701b3dc2015\",                        [{\"alignmentgroup\":\"True\",\"hovertemplate\":\"x=%{x}\\u003cbr\\u003ey=%{y}\\u003cextra\\u003e\\u003c\\u002fextra\\u003e\",\"legendgroup\":\"\",\"marker\":{\"color\":\"#636efa\",\"pattern\":{\"shape\":\"\"}},\"name\":\"\",\"offsetgroup\":\"\",\"orientation\":\"h\",\"showlegend\":false,\"textposition\":\"auto\",\"x\":[832,612,2643,862,76],\"xaxis\":\"x\",\"y\":[\"High School or Baccalaureate\",\"Some College (1-3 years)\",\"Bachelor's degree\",\"Master's degree\",\"Doctorate (e.g. PhD)\"],\"yaxis\":\"y\",\"type\":\"bar\"}],                        {\"template\":{\"data\":{\"histogram2dcontour\":[{\"type\":\"histogram2dcontour\",\"colorbar\":{\"outlinewidth\":0,\"ticks\":\"\"},\"colorscale\":[[0.0,\"#0d0887\"],[0.1111111111111111,\"#46039f\"],[0.2222222222222222,\"#7201a8\"],[0.3333333333333333,\"#9c179e\"],[0.4444444444444444,\"#bd3786\"],[0.5555555555555556,\"#d8576b\"],[0.6666666666666666,\"#ed7953\"],[0.7777777777777778,\"#fb9f3a\"],[0.8888888888888888,\"#fdca26\"],[1.0,\"#f0f921\"]]}],\"choropleth\":[{\"type\":\"choropleth\",\"colorbar\":{\"outlinewidth\":0,\"ticks\":\"\"}}],\"histogram2d\":[{\"type\":\"histogram2d\",\"colorbar\":{\"outlinewidth\":0,\"ticks\":\"\"},\"colorscale\":[[0.0,\"#0d0887\"],[0.1111111111111111,\"#46039f\"],[0.2222222222222222,\"#7201a8\"],[0.3333333333333333,\"#9c179e\"],[0.4444444444444444,\"#bd3786\"],[0.5555555555555556,\"#d8576b\"],[0.6666666666666666,\"#ed7953\"],[0.7777777777777778,\"#fb9f3a\"],[0.8888888888888888,\"#fdca26\"],[1.0,\"#f0f921\"]]}],\"heatmap\":[{\"type\":\"heatmap\",\"colorbar\":{\"outlinewidth\":0,\"ticks\":\"\"},\"colorscale\":[[0.0,\"#0d0887\"],[0.1111111111111111,\"#46039f\"],[0.2222222222222222,\"#7201a8\"],[0.3333333333333333,\"#9c179e\"],[0.4444444444444444,\"#bd3786\"],[0.5555555555555556,\"#d8576b\"],[0.6666666666666666,\"#ed7953\"],[0.7777777777777778,\"#fb9f3a\"],[0.8888888888888888,\"#fdca26\"],[1.0,\"#f0f921\"]]}],\"heatmapgl\":[{\"type\":\"heatmapgl\",\"colorbar\":{\"outlinewidth\":0,\"ticks\":\"\"},\"colorscale\":[[0.0,\"#0d0887\"],[0.1111111111111111,\"#46039f\"],[0.2222222222222222,\"#7201a8\"],[0.3333333333333333,\"#9c179e\"],[0.4444444444444444,\"#bd3786\"],[0.5555555555555556,\"#d8576b\"],[0.6666666666666666,\"#ed7953\"],[0.7777777777777778,\"#fb9f3a\"],[0.8888888888888888,\"#fdca26\"],[1.0,\"#f0f921\"]]}],\"contourcarpet\":[{\"type\":\"contourcarpet\",\"colorbar\":{\"outlinewidth\":0,\"ticks\":\"\"}}],\"contour\":[{\"type\":\"contour\",\"colorbar\":{\"outlinewidth\":0,\"ticks\":\"\"},\"colorscale\":[[0.0,\"#0d0887\"],[0.1111111111111111,\"#46039f\"],[0.2222222222222222,\"#7201a8\"],[0.3333333333333333,\"#9c179e\"],[0.4444444444444444,\"#bd3786\"],[0.5555555555555556,\"#d8576b\"],[0.6666666666666666,\"#ed7953\"],[0.7777777777777778,\"#fb9f3a\"],[0.8888888888888888,\"#fdca26\"],[1.0,\"#f0f921\"]]}],\"surface\":[{\"type\":\"surface\",\"colorbar\":{\"outlinewidth\":0,\"ticks\":\"\"},\"colorscale\":[[0.0,\"#0d0887\"],[0.1111111111111111,\"#46039f\"],[0.2222222222222222,\"#7201a8\"],[0.3333333333333333,\"#9c179e\"],[0.4444444444444444,\"#bd3786\"],[0.5555555555555556,\"#d8576b\"],[0.6666666666666666,\"#ed7953\"],[0.7777777777777778,\"#fb9f3a\"],[0.8888888888888888,\"#fdca26\"],[1.0,\"#f0f921\"]]}],\"mesh3d\":[{\"type\":\"mesh3d\",\"colorbar\":{\"outlinewidth\":0,\"ticks\":\"\"}}],\"scatter\":[{\"fillpattern\":{\"fillmode\":\"overlay\",\"size\":10,\"solidity\":0.2},\"type\":\"scatter\"}],\"parcoords\":[{\"type\":\"parcoords\",\"line\":{\"colorbar\":{\"outlinewidth\":0,\"ticks\":\"\"}}}],\"scatterpolargl\":[{\"type\":\"scatterpolargl\",\"marker\":{\"colorbar\":{\"outlinewidth\":0,\"ticks\":\"\"}}}],\"bar\":[{\"error_x\":{\"color\":\"#2a3f5f\"},\"error_y\":{\"color\":\"#2a3f5f\"},\"marker\":{\"line\":{\"color\":\"#E5ECF6\",\"width\":0.5},\"pattern\":{\"fillmode\":\"overlay\",\"size\":10,\"solidity\":0.2}},\"type\":\"bar\"}],\"scattergeo\":[{\"type\":\"scattergeo\",\"marker\":{\"colorbar\":{\"outlinewidth\":0,\"ticks\":\"\"}}}],\"scatterpolar\":[{\"type\":\"scatterpolar\",\"marker\":{\"colorbar\":{\"outlinewidth\":0,\"ticks\":\"\"}}}],\"histogram\":[{\"marker\":{\"pattern\":{\"fillmode\":\"overlay\",\"size\":10,\"solidity\":0.2}},\"type\":\"histogram\"}],\"scattergl\":[{\"type\":\"scattergl\",\"marker\":{\"colorbar\":{\"outlinewidth\":0,\"ticks\":\"\"}}}],\"scatter3d\":[{\"type\":\"scatter3d\",\"line\":{\"colorbar\":{\"outlinewidth\":0,\"ticks\":\"\"}},\"marker\":{\"colorbar\":{\"outlinewidth\":0,\"ticks\":\"\"}}}],\"scattermapbox\":[{\"type\":\"scattermapbox\",\"marker\":{\"colorbar\":{\"outlinewidth\":0,\"ticks\":\"\"}}}],\"scatterternary\":[{\"type\":\"scatterternary\",\"marker\":{\"colorbar\":{\"outlinewidth\":0,\"ticks\":\"\"}}}],\"scattercarpet\":[{\"type\":\"scattercarpet\",\"marker\":{\"colorbar\":{\"outlinewidth\":0,\"ticks\":\"\"}}}],\"carpet\":[{\"aaxis\":{\"endlinecolor\":\"#2a3f5f\",\"gridcolor\":\"white\",\"linecolor\":\"white\",\"minorgridcolor\":\"white\",\"startlinecolor\":\"#2a3f5f\"},\"baxis\":{\"endlinecolor\":\"#2a3f5f\",\"gridcolor\":\"white\",\"linecolor\":\"white\",\"minorgridcolor\":\"white\",\"startlinecolor\":\"#2a3f5f\"},\"type\":\"carpet\"}],\"table\":[{\"cells\":{\"fill\":{\"color\":\"#EBF0F8\"},\"line\":{\"color\":\"white\"}},\"header\":{\"fill\":{\"color\":\"#C8D4E3\"},\"line\":{\"color\":\"white\"}},\"type\":\"table\"}],\"barpolar\":[{\"marker\":{\"line\":{\"color\":\"#E5ECF6\",\"width\":0.5},\"pattern\":{\"fillmode\":\"overlay\",\"size\":10,\"solidity\":0.2}},\"type\":\"barpolar\"}],\"pie\":[{\"automargin\":true,\"type\":\"pie\"}]},\"layout\":{\"autotypenumbers\":\"strict\",\"colorway\":[\"#636efa\",\"#EF553B\",\"#00cc96\",\"#ab63fa\",\"#FFA15A\",\"#19d3f3\",\"#FF6692\",\"#B6E880\",\"#FF97FF\",\"#FECB52\"],\"font\":{\"color\":\"#2a3f5f\"},\"hovermode\":\"closest\",\"hoverlabel\":{\"align\":\"left\"},\"paper_bgcolor\":\"white\",\"plot_bgcolor\":\"#E5ECF6\",\"polar\":{\"bgcolor\":\"#E5ECF6\",\"angularaxis\":{\"gridcolor\":\"white\",\"linecolor\":\"white\",\"ticks\":\"\"},\"radialaxis\":{\"gridcolor\":\"white\",\"linecolor\":\"white\",\"ticks\":\"\"}},\"ternary\":{\"bgcolor\":\"#E5ECF6\",\"aaxis\":{\"gridcolor\":\"white\",\"linecolor\":\"white\",\"ticks\":\"\"},\"baxis\":{\"gridcolor\":\"white\",\"linecolor\":\"white\",\"ticks\":\"\"},\"caxis\":{\"gridcolor\":\"white\",\"linecolor\":\"white\",\"ticks\":\"\"}},\"coloraxis\":{\"colorbar\":{\"outlinewidth\":0,\"ticks\":\"\"}},\"colorscale\":{\"sequential\":[[0.0,\"#0d0887\"],[0.1111111111111111,\"#46039f\"],[0.2222222222222222,\"#7201a8\"],[0.3333333333333333,\"#9c179e\"],[0.4444444444444444,\"#bd3786\"],[0.5555555555555556,\"#d8576b\"],[0.6666666666666666,\"#ed7953\"],[0.7777777777777778,\"#fb9f3a\"],[0.8888888888888888,\"#fdca26\"],[1.0,\"#f0f921\"]],\"sequentialminus\":[[0.0,\"#0d0887\"],[0.1111111111111111,\"#46039f\"],[0.2222222222222222,\"#7201a8\"],[0.3333333333333333,\"#9c179e\"],[0.4444444444444444,\"#bd3786\"],[0.5555555555555556,\"#d8576b\"],[0.6666666666666666,\"#ed7953\"],[0.7777777777777778,\"#fb9f3a\"],[0.8888888888888888,\"#fdca26\"],[1.0,\"#f0f921\"]],\"diverging\":[[0,\"#8e0152\"],[0.1,\"#c51b7d\"],[0.2,\"#de77ae\"],[0.3,\"#f1b6da\"],[0.4,\"#fde0ef\"],[0.5,\"#f7f7f7\"],[0.6,\"#e6f5d0\"],[0.7,\"#b8e186\"],[0.8,\"#7fbc41\"],[0.9,\"#4d9221\"],[1,\"#276419\"]]},\"xaxis\":{\"gridcolor\":\"white\",\"linecolor\":\"white\",\"ticks\":\"\",\"title\":{\"standoff\":15},\"zerolinecolor\":\"white\",\"automargin\":true,\"zerolinewidth\":2},\"yaxis\":{\"gridcolor\":\"white\",\"linecolor\":\"white\",\"ticks\":\"\",\"title\":{\"standoff\":15},\"zerolinecolor\":\"white\",\"automargin\":true,\"zerolinewidth\":2},\"scene\":{\"xaxis\":{\"backgroundcolor\":\"#E5ECF6\",\"gridcolor\":\"white\",\"linecolor\":\"white\",\"showbackground\":true,\"ticks\":\"\",\"zerolinecolor\":\"white\",\"gridwidth\":2},\"yaxis\":{\"backgroundcolor\":\"#E5ECF6\",\"gridcolor\":\"white\",\"linecolor\":\"white\",\"showbackground\":true,\"ticks\":\"\",\"zerolinecolor\":\"white\",\"gridwidth\":2},\"zaxis\":{\"backgroundcolor\":\"#E5ECF6\",\"gridcolor\":\"white\",\"linecolor\":\"white\",\"showbackground\":true,\"ticks\":\"\",\"zerolinecolor\":\"white\",\"gridwidth\":2}},\"shapedefaults\":{\"line\":{\"color\":\"#2a3f5f\"}},\"annotationdefaults\":{\"arrowcolor\":\"#2a3f5f\",\"arrowhead\":0,\"arrowwidth\":1},\"geo\":{\"bgcolor\":\"white\",\"landcolor\":\"#E5ECF6\",\"subunitcolor\":\"white\",\"showland\":true,\"showlakes\":true,\"lakecolor\":\"white\"},\"title\":{\"x\":0.05},\"mapbox\":{\"style\":\"light\"}}},\"xaxis\":{\"anchor\":\"y\",\"domain\":[0.0,1.0],\"title\":{\"text\":\"Frequency [count]\"}},\"yaxis\":{\"anchor\":\"x\",\"domain\":[0.0,1.0],\"title\":{\"text\":\"Degree\"}},\"legend\":{\"tracegroupgap\":0},\"title\":{\"text\":\"DS Applicants: Highest Degree Earned\"},\"barmode\":\"relative\"},                        {\"responsive\": true}                    ).then(function(){\n",
       "                            \n",
       "var gd = document.getElementById('2bd84023-dad1-4faa-afb2-2701b3dc2015');\n",
       "var x = new MutationObserver(function (mutations, observer) {{\n",
       "        var display = window.getComputedStyle(gd).display;\n",
       "        if (!display || display === 'none') {{\n",
       "            console.log([gd, 'removed!']);\n",
       "            Plotly.purge(gd);\n",
       "            observer.disconnect();\n",
       "        }}\n",
       "}});\n",
       "\n",
       "// Listen for the removal of the full notebook cells\n",
       "var notebookContainer = gd.closest('#notebook-container');\n",
       "if (notebookContainer) {{\n",
       "    x.observe(notebookContainer, {childList: true});\n",
       "}}\n",
       "\n",
       "// Listen for the clearing of the current output cell\n",
       "var outputEl = gd.closest('.output');\n",
       "if (outputEl) {{\n",
       "    x.observe(outputEl, {childList: true});\n",
       "}}\n",
       "\n",
       "                        })                };                });            </script>        </div>"
      ]
     },
     "metadata": {},
     "output_type": "display_data"
    }
   ],
   "source": [
    "def build_ed_bar():\n",
    "    # Create bar chart\n",
    "    fig = px.bar(\n",
    "        x=education,\n",
    "        y=education.index,\n",
    "        orientation=\"h\",\n",
    "        title=\"DS Applicants: Highest Degree Earned\"\n",
    "    )\n",
    "    # Add axis labels\n",
    "    fig.update_layout(xaxis_title=\"Frequency [count]\", yaxis_title=\"Degree\")\n",
    "    return fig\n",
    "\n",
    "\n",
    "ed_fig = build_ed_bar()\n",
    "print(\"ed_fig type:\", type(ed_fig))\n",
    "ed_fig.show()"
   ]
  },
  {
   "cell_type": "code",
   "execution_count": null,
   "id": "ead785a2-c67c-4fa0-a77c-64e08281ec1d",
   "metadata": {},
   "outputs": [],
   "source": []
  }
 ],
 "metadata": {
  "kernelspec": {
   "display_name": "Python 3 (ipykernel)",
   "language": "python",
   "name": "python3"
  },
  "language_info": {
   "codemirror_mode": {
    "name": "ipython",
    "version": 3
   },
   "file_extension": ".py",
   "mimetype": "text/x-python",
   "name": "python",
   "nbconvert_exporter": "python",
   "pygments_lexer": "ipython3",
   "version": "3.11.7"
  }
 },
 "nbformat": 4,
 "nbformat_minor": 5
}
