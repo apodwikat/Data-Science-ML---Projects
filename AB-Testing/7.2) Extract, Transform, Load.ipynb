{
 "cells": [
  {
   "cell_type": "markdown",
   "id": "72bda2ba-a038-480b-b3eb-00f7a796d226",
   "metadata": {},
   "source": [
    "# ETL"
   ]
  },
  {
   "cell_type": "markdown",
   "id": "d670b94e-ef44-4277-bcbf-1893a03ba3e0",
   "metadata": {},
   "source": [
    "In Data Science and Data Engineering, the process of taking data from a source, changing it, and then loading it into a database is called ETL, which is short for extract, transform, load. ETL tends to be more programming-intensive than other data science tasks like visualization, so we'll also spend time in this lesson exploring Python as an object-oriented programming language. Specifically, we'll create our own Python class to contain our ETL processes."
   ]
  },
  {
   "cell_type": "code",
   "execution_count": 1,
   "id": "6cdb0ee3-83c5-4415-9166-0fff408904d3",
   "metadata": {},
   "outputs": [],
   "source": [
    "#import random\n",
    "\n",
    "import pandas as pd\n",
    "from pymongo import MongoClient"
   ]
  },
  {
   "cell_type": "code",
   "execution_count": 24,
   "id": "06dde1f1-8413-4cb1-8542-66309c236af5",
   "metadata": {},
   "outputs": [
    {
     "data": {
      "text/html": [
       "<div>\n",
       "<style scoped>\n",
       "    .dataframe tbody tr th:only-of-type {\n",
       "        vertical-align: middle;\n",
       "    }\n",
       "\n",
       "    .dataframe tbody tr th {\n",
       "        vertical-align: top;\n",
       "    }\n",
       "\n",
       "    .dataframe thead th {\n",
       "        text-align: right;\n",
       "    }\n",
       "</style>\n",
       "<table border=\"1\" class=\"dataframe\">\n",
       "  <thead>\n",
       "    <tr style=\"text-align: right;\">\n",
       "      <th></th>\n",
       "      <th>_id</th>\n",
       "      <th>firstName</th>\n",
       "      <th>lastName</th>\n",
       "      <th>email</th>\n",
       "      <th>birthday</th>\n",
       "      <th>gender</th>\n",
       "      <th>highestDegreeEarned</th>\n",
       "      <th>countryISO2</th>\n",
       "      <th>admissionsQuiz</th>\n",
       "    </tr>\n",
       "  </thead>\n",
       "  <tbody>\n",
       "    <tr>\n",
       "      <th>0</th>\n",
       "      <td>6525d787953844722c8383f8</td>\n",
       "      <td>Terry</td>\n",
       "      <td>Hassler</td>\n",
       "      <td>terry.hassler28@yahow.com</td>\n",
       "      <td>1998-04-29</td>\n",
       "      <td>male</td>\n",
       "      <td>Bachelor's degree</td>\n",
       "      <td>GB</td>\n",
       "      <td>incomplete</td>\n",
       "    </tr>\n",
       "    <tr>\n",
       "      <th>1</th>\n",
       "      <td>6525d787953844722c8383f9</td>\n",
       "      <td>Alan</td>\n",
       "      <td>Noble</td>\n",
       "      <td>alan.noble91@hotmeal.com</td>\n",
       "      <td>1999-03-03</td>\n",
       "      <td>male</td>\n",
       "      <td>Bachelor's degree</td>\n",
       "      <td>NG</td>\n",
       "      <td>complete</td>\n",
       "    </tr>\n",
       "    <tr>\n",
       "      <th>2</th>\n",
       "      <td>6525d787953844722c8383fa</td>\n",
       "      <td>Ruth</td>\n",
       "      <td>Vedovelli</td>\n",
       "      <td>ruth.vedovelli46@microsift.com</td>\n",
       "      <td>1994-08-16</td>\n",
       "      <td>female</td>\n",
       "      <td>Master's degree</td>\n",
       "      <td>ZM</td>\n",
       "      <td>incomplete</td>\n",
       "    </tr>\n",
       "    <tr>\n",
       "      <th>3</th>\n",
       "      <td>6525d787953844722c8383fb</td>\n",
       "      <td>Jennifer</td>\n",
       "      <td>Mayer</td>\n",
       "      <td>jennifer.mayer25@gmall.com</td>\n",
       "      <td>1984-11-23</td>\n",
       "      <td>female</td>\n",
       "      <td>Bachelor's degree</td>\n",
       "      <td>NG</td>\n",
       "      <td>complete</td>\n",
       "    </tr>\n",
       "    <tr>\n",
       "      <th>4</th>\n",
       "      <td>6525d787953844722c8383fc</td>\n",
       "      <td>Ray</td>\n",
       "      <td>Hersey</td>\n",
       "      <td>ray.hersey99@hotmeal.com</td>\n",
       "      <td>1990-10-15</td>\n",
       "      <td>male</td>\n",
       "      <td>Master's degree</td>\n",
       "      <td>PK</td>\n",
       "      <td>complete</td>\n",
       "    </tr>\n",
       "  </tbody>\n",
       "</table>\n",
       "</div>"
      ],
      "text/plain": [
       "                        _id firstName   lastName  \\\n",
       "0  6525d787953844722c8383f8     Terry    Hassler   \n",
       "1  6525d787953844722c8383f9      Alan      Noble   \n",
       "2  6525d787953844722c8383fa      Ruth  Vedovelli   \n",
       "3  6525d787953844722c8383fb  Jennifer      Mayer   \n",
       "4  6525d787953844722c8383fc       Ray     Hersey   \n",
       "\n",
       "                            email   birthday  gender highestDegreeEarned  \\\n",
       "0       terry.hassler28@yahow.com 1998-04-29    male   Bachelor's degree   \n",
       "1        alan.noble91@hotmeal.com 1999-03-03    male   Bachelor's degree   \n",
       "2  ruth.vedovelli46@microsift.com 1994-08-16  female     Master's degree   \n",
       "3      jennifer.mayer25@gmall.com 1984-11-23  female   Bachelor's degree   \n",
       "4        ray.hersey99@hotmeal.com 1990-10-15    male     Master's degree   \n",
       "\n",
       "  countryISO2 admissionsQuiz  \n",
       "0          GB     incomplete  \n",
       "1          NG       complete  \n",
       "2          ZM     incomplete  \n",
       "3          NG       complete  \n",
       "4          PK       complete  "
      ]
     },
     "execution_count": 24,
     "metadata": {},
     "output_type": "execute_result"
    }
   ],
   "source": [
    "df = pd.read_excel(r\"C:\\Users\\hp\\WorldQuantum\\7) A-B Testing\\Wq-TestInfo-AB.xlsx\")\n",
    "df.head()"
   ]
  },
  {
   "cell_type": "markdown",
   "id": "67681257-6053-450d-8b5f-ef4140f20af4",
   "metadata": {
    "jp-MarkdownHeadingCollapsed": true
   },
   "source": [
    "# Extract: Developing the Hypothesis"
   ]
  },
  {
   "cell_type": "markdown",
   "id": "943bf5cd-cbe7-4b77-ad1e-ac2444d7fb5d",
   "metadata": {},
   "source": [
    "##### how many applicants actually complete the DS Lab admissions quiz ??"
   ]
  },
  {
   "cell_type": "code",
   "execution_count": 25,
   "id": "28104863-3fbd-4f1b-b322-4e44a39c2a1b",
   "metadata": {},
   "outputs": [
    {
     "data": {
      "text/plain": [
       "5025"
      ]
     },
     "execution_count": 25,
     "metadata": {},
     "output_type": "execute_result"
    }
   ],
   "source": [
    "len(df[\"admissionsQuiz\"])"
   ]
  },
  {
   "cell_type": "code",
   "execution_count": 26,
   "id": "ec737d6b-558a-4e92-b7fc-e8a3c6eb9644",
   "metadata": {},
   "outputs": [
    {
     "data": {
      "text/plain": [
       "5025"
      ]
     },
     "execution_count": 26,
     "metadata": {},
     "output_type": "execute_result"
    }
   ],
   "source": [
    "df['admissionsQuiz'].notnull().sum()"
   ]
  },
  {
   "cell_type": "code",
   "execution_count": 34,
   "id": "1b5cb52a-e5f2-41c9-bc6e-39b96269685d",
   "metadata": {},
   "outputs": [
    {
     "name": "stdout",
     "output_type": "stream",
     "text": [
      "complete: 3717\n",
      "incomplete: 1308\n"
     ]
    }
   ],
   "source": [
    "complete = (df[\"admissionsQuiz\"]==\"complete\").sum()\n",
    "incomplete = (df[\"admissionsQuiz\"]!=\"complete\").sum()\n",
    "print(\"complete:\", complete)\n",
    "print(\"incomplete:\", incomplete)"
   ]
  },
  {
   "cell_type": "code",
   "execution_count": 36,
   "id": "adc1315b-797d-4f56-9f9b-df15a9c56bc9",
   "metadata": {},
   "outputs": [
    {
     "name": "stdout",
     "output_type": "stream",
     "text": [
      "Proportion of users who don't complete admissions quiz: 0.26\n"
     ]
    }
   ],
   "source": [
    "total = incomplete + complete\n",
    "prop_incomplete = incomplete / total\n",
    "print(\n",
    "    \"Proportion of users who don't complete admissions quiz:\", round(prop_incomplete, 2)\n",
    ")"
   ]
  },
  {
   "cell_type": "raw",
   "id": "3dfc864a-ddc8-4a1a-99d1-36bb6baf00ba",
   "metadata": {},
   "source": [
    "Now that we know that around a quarter of DS Lab applicants don't complete the admissions quiz, is there anything we can do improve the completion rate?\n",
    "\n",
    "This is a question that we asked ourselves at WQU. In fact, here's a conversation between Nicholas and Anne (Program Director at WQU) where they identify the issue, come up with a hypothesis, and then decide how they'll conduct their experiment.\n",
    "\n",
    "A hypothesis is an informed guess about what we think is going to happen in an experiment. We probably hope that whatever we're trying out is going to work, but it's important to maintain a healthy degree of skepticism. Science experiments are designed to demonstrate what does work, not what doesn't, so we always start out by assuming that whatever we're about to do won't make a difference (even if we hope it will). The idea that an experimental intervention won't change anything is called a null hypothesis ( 𝐻0\n",
    " ), and every experiment either rejects the null hypothesis (meaning the intervention worked), or fails to reject the null hypothesis (meaning it didn't).\n",
    "\n",
    "The mirror image of the null hypothesis is called an alternate hypothesis ( 𝐻𝑎\n",
    " ), and it proceeds from the idea that whatever we're about to do actually will work. If I'm trying to figure out whether exercising is going to help me lose weight, the null hypothesis says that if I exercise, I won't lose any weight. The alternate hypothesis says that if I exercise, I will lose weight.\n",
    "\n",
    "It's important to keep both types of hypothesis in mind as you work through your experimental design."
   ]
  },
  {
   "cell_type": "code",
   "execution_count": 37,
   "id": "6d8f0dc4-f057-4079-8076-9903af8e4380",
   "metadata": {},
   "outputs": [
    {
     "name": "stdout",
     "output_type": "stream",
     "text": [
      "Null Hypothesis: \n",
      "    No relationship between recieving email and completing the Quiz.\n",
      "    Sending email does not increase the rate of completion.\n",
      "\n",
      "Alternate Hypothesis: \n",
      "    There is a relationship between recieving email and completing the Quiz.\n",
      "    Sending email does inrease the rate of completion.\n",
      "\n"
     ]
    }
   ],
   "source": [
    "null_hypothesis = \"\"\"\n",
    "    No relationship between recieving email and completing the Quiz.\n",
    "    Sending email does not increase the rate of completion.\n",
    "\"\"\"\n",
    "\n",
    "alternate_hypothesis = \"\"\"\n",
    "    There is a relationship between recieving email and completing the Quiz.\n",
    "    Sending email does inrease the rate of completion.\n",
    "\"\"\"\n",
    "\n",
    "print(\"Null Hypothesis:\", null_hypothesis)\n",
    "print(\"Alternate Hypothesis:\", alternate_hypothesis)"
   ]
  },
  {
   "cell_type": "markdown",
   "id": "4fa73531-4c75-474c-b8a3-b0db52332d84",
   "metadata": {},
   "source": [
    "### The next thing we need to do is figure out a way to filter the data so that we're only looking at students who applied on a certain date. This is a perfect chance to write a function!"
   ]
  },
  {
   "cell_type": "markdown",
   "id": "9b597427-b3d7-4ff2-923a-99d5f1943e17",
   "metadata": {},
   "source": [
    "## We miss the df['createdAt'] column"
   ]
  },
  {
   "cell_type": "markdown",
   "id": "68c51bd1-2941-40eb-a246-3cffd80c9b2f",
   "metadata": {},
   "source": [
    "# Transform"
   ]
  },
  {
   "cell_type": "raw",
   "id": "a6086ee2-5a96-4d47-a953-93c52b2e45c6",
   "metadata": {},
   "source": [
    "Okay! Now that we've extracted the data we'll need for the experiment, it's time to get our hands dirty.\n",
    "\n",
    "The transform stage of ETL involves manipulating the data we just extracted. In this case, we're going to be figuring out which students didn't take the quiz, and assigning them to different experimental groups. To do that, we'll need to transform each document in the database by creating a new attribute for each record.\n",
    "\n",
    "Now we can split the students who didn't take the quiz into two groups: one that will receive a reminder email, and one that will not. Let's make another function that'll do that for us."
   ]
  },
  {
   "cell_type": "code",
   "execution_count": null,
   "id": "12f28586-5401-42cd-9a8e-36276aa5a29e",
   "metadata": {},
   "outputs": [],
   "source": []
  },
  {
   "cell_type": "code",
   "execution_count": null,
   "id": "36dfb256-8a8d-43f0-892d-0a3d58bd228d",
   "metadata": {},
   "outputs": [],
   "source": []
  },
  {
   "cell_type": "code",
   "execution_count": null,
   "id": "38dca3b6-1444-4fd6-872c-b6bbbec1e7f8",
   "metadata": {},
   "outputs": [],
   "source": []
  },
  {
   "cell_type": "code",
   "execution_count": null,
   "id": "0eb86aa7-14b6-4e91-ba39-4cc631bb7247",
   "metadata": {},
   "outputs": [],
   "source": []
  },
  {
   "cell_type": "code",
   "execution_count": null,
   "id": "c1b00c90-75ae-4c22-8b16-183b61d310a8",
   "metadata": {},
   "outputs": [],
   "source": []
  },
  {
   "cell_type": "markdown",
   "id": "456b20c8-3967-4580-99ed-6fd99076537f",
   "metadata": {},
   "source": [
    "# Load: Preparing the Data"
   ]
  },
  {
   "cell_type": "raw",
   "id": "6be82feb-7b33-4ff7-8c5d-92295f9ba534",
   "metadata": {},
   "source": [
    "We've extracted the data and written a bunch of functions we can use to transform the data, so it's time for the third part of this module: loading the data.\n",
    "\n",
    "We've assigned the no-quiz applicants to groups for our experiment, so we should update the records in the \"ds-applicants\" collection to reflect that assignment. Before we update all our records, let's start with just one."
   ]
  },
  {
   "cell_type": "code",
   "execution_count": null,
   "id": "49d4f7ed-e7ae-45d7-9305-6cea815d33bf",
   "metadata": {},
   "outputs": [],
   "source": []
  }
 ],
 "metadata": {
  "kernelspec": {
   "display_name": "Python 3 (ipykernel)",
   "language": "python",
   "name": "python3"
  },
  "language_info": {
   "codemirror_mode": {
    "name": "ipython",
    "version": 3
   },
   "file_extension": ".py",
   "mimetype": "text/x-python",
   "name": "python",
   "nbconvert_exporter": "python",
   "pygments_lexer": "ipython3",
   "version": "3.11.7"
  }
 },
 "nbformat": 4,
 "nbformat_minor": 5
}
