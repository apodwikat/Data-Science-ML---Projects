{
 "cells": [
  {
   "cell_type": "code",
   "execution_count": 1,
   "id": "df0cbc09-8497-428f-8436-64b5416dc7b7",
   "metadata": {},
   "outputs": [],
   "source": [
    "import pandas as pd\n",
    "import numpy as np\n",
    "from matplotlib import pyplot as plt\n",
    "import plotly.express as px\n",
    "import math\n",
    "from pymongo import MongoClient\n",
    "import scipy\n",
    "from statsmodels.stats.power import GofChisquarePower\n",
    "from statsmodels.stats.contingency_tables import Table2x2"
   ]
  },
  {
   "cell_type": "code",
   "execution_count": 2,
   "id": "9a3c4ac5-dfaa-4271-b041-c0be831fb310",
   "metadata": {},
   "outputs": [
    {
     "name": "stdout",
     "output_type": "stream",
     "text": [
      "<class 'pandas.core.frame.DataFrame'>\n",
      "RangeIndex: 5025 entries, 0 to 5024\n",
      "Data columns (total 10 columns):\n",
      " #   Column               Non-Null Count  Dtype         \n",
      "---  ------               --------------  -----         \n",
      " 0   _id                  5025 non-null   object        \n",
      " 1   firstName            5025 non-null   object        \n",
      " 2   lastName             5025 non-null   object        \n",
      " 3   email                5025 non-null   object        \n",
      " 4   birthday             5025 non-null   datetime64[ns]\n",
      " 5   gender               5025 non-null   object        \n",
      " 6   highestDegreeEarned  5025 non-null   object        \n",
      " 7   countryISO2          5018 non-null   object        \n",
      " 8   admissionsQuiz       5025 non-null   object        \n",
      " 9   createdAt            5025 non-null   datetime64[ns]\n",
      "dtypes: datetime64[ns](2), object(8)\n",
      "memory usage: 392.7+ KB\n",
      "data types: None\n"
     ]
    }
   ],
   "source": [
    "df = pd.read_excel(r\"C:\\Users\\hp\\WorldQuantum\\7) A-B Testing\\Wq-TestInfo-AB.xlsx\")\n",
    "print(\"data types:\", df.info())"
   ]
  },
  {
   "cell_type": "code",
   "execution_count": 3,
   "id": "a1c645aa-d41a-4ce0-ae9c-96074c998acd",
   "metadata": {},
   "outputs": [
    {
     "data": {
      "text/html": [
       "<div>\n",
       "<style scoped>\n",
       "    .dataframe tbody tr th:only-of-type {\n",
       "        vertical-align: middle;\n",
       "    }\n",
       "\n",
       "    .dataframe tbody tr th {\n",
       "        vertical-align: top;\n",
       "    }\n",
       "\n",
       "    .dataframe thead th {\n",
       "        text-align: right;\n",
       "    }\n",
       "</style>\n",
       "<table border=\"1\" class=\"dataframe\">\n",
       "  <thead>\n",
       "    <tr style=\"text-align: right;\">\n",
       "      <th></th>\n",
       "      <th>_id</th>\n",
       "      <th>firstName</th>\n",
       "      <th>lastName</th>\n",
       "      <th>email</th>\n",
       "      <th>birthday</th>\n",
       "      <th>gender</th>\n",
       "      <th>highestDegreeEarned</th>\n",
       "      <th>countryISO2</th>\n",
       "      <th>admissionsQuiz</th>\n",
       "      <th>createdAt</th>\n",
       "    </tr>\n",
       "  </thead>\n",
       "  <tbody>\n",
       "    <tr>\n",
       "      <th>0</th>\n",
       "      <td>6525d787953844722c8383f8</td>\n",
       "      <td>Terry</td>\n",
       "      <td>Hassler</td>\n",
       "      <td>terry.hassler28@yahow.com</td>\n",
       "      <td>1998-04-29</td>\n",
       "      <td>male</td>\n",
       "      <td>Bachelor's degree</td>\n",
       "      <td>GB</td>\n",
       "      <td>incomplete</td>\n",
       "      <td>2022-05-13 15:02:44</td>\n",
       "    </tr>\n",
       "    <tr>\n",
       "      <th>1</th>\n",
       "      <td>6525d787953844722c8383f9</td>\n",
       "      <td>Alan</td>\n",
       "      <td>Noble</td>\n",
       "      <td>alan.noble91@hotmeal.com</td>\n",
       "      <td>1999-03-03</td>\n",
       "      <td>male</td>\n",
       "      <td>Bachelor's degree</td>\n",
       "      <td>NG</td>\n",
       "      <td>complete</td>\n",
       "      <td>2022-05-23 10:36:56</td>\n",
       "    </tr>\n",
       "    <tr>\n",
       "      <th>2</th>\n",
       "      <td>6525d787953844722c8383fa</td>\n",
       "      <td>Ruth</td>\n",
       "      <td>Vedovelli</td>\n",
       "      <td>ruth.vedovelli46@microsift.com</td>\n",
       "      <td>1994-08-16</td>\n",
       "      <td>female</td>\n",
       "      <td>Master's degree</td>\n",
       "      <td>ZM</td>\n",
       "      <td>incomplete</td>\n",
       "      <td>2022-05-11 09:35:39</td>\n",
       "    </tr>\n",
       "    <tr>\n",
       "      <th>3</th>\n",
       "      <td>6525d787953844722c8383fb</td>\n",
       "      <td>Jennifer</td>\n",
       "      <td>Mayer</td>\n",
       "      <td>jennifer.mayer25@gmall.com</td>\n",
       "      <td>1984-11-23</td>\n",
       "      <td>female</td>\n",
       "      <td>Bachelor's degree</td>\n",
       "      <td>NG</td>\n",
       "      <td>complete</td>\n",
       "      <td>2022-05-16 08:31:34</td>\n",
       "    </tr>\n",
       "    <tr>\n",
       "      <th>4</th>\n",
       "      <td>6525d787953844722c8383fc</td>\n",
       "      <td>Ray</td>\n",
       "      <td>Hersey</td>\n",
       "      <td>ray.hersey99@hotmeal.com</td>\n",
       "      <td>1990-10-15</td>\n",
       "      <td>male</td>\n",
       "      <td>Master's degree</td>\n",
       "      <td>PK</td>\n",
       "      <td>complete</td>\n",
       "      <td>2022-05-02 15:14:39</td>\n",
       "    </tr>\n",
       "  </tbody>\n",
       "</table>\n",
       "</div>"
      ],
      "text/plain": [
       "                        _id firstName   lastName  \\\n",
       "0  6525d787953844722c8383f8     Terry    Hassler   \n",
       "1  6525d787953844722c8383f9      Alan      Noble   \n",
       "2  6525d787953844722c8383fa      Ruth  Vedovelli   \n",
       "3  6525d787953844722c8383fb  Jennifer      Mayer   \n",
       "4  6525d787953844722c8383fc       Ray     Hersey   \n",
       "\n",
       "                            email   birthday  gender highestDegreeEarned  \\\n",
       "0       terry.hassler28@yahow.com 1998-04-29    male   Bachelor's degree   \n",
       "1        alan.noble91@hotmeal.com 1999-03-03    male   Bachelor's degree   \n",
       "2  ruth.vedovelli46@microsift.com 1994-08-16  female     Master's degree   \n",
       "3      jennifer.mayer25@gmall.com 1984-11-23  female   Bachelor's degree   \n",
       "4        ray.hersey99@hotmeal.com 1990-10-15    male     Master's degree   \n",
       "\n",
       "  countryISO2 admissionsQuiz           createdAt  \n",
       "0          GB     incomplete 2022-05-13 15:02:44  \n",
       "1          NG       complete 2022-05-23 10:36:56  \n",
       "2          ZM     incomplete 2022-05-11 09:35:39  \n",
       "3          NG       complete 2022-05-16 08:31:34  \n",
       "4          PK       complete 2022-05-02 15:14:39  "
      ]
     },
     "execution_count": 3,
     "metadata": {},
     "output_type": "execute_result"
    }
   ],
   "source": [
    "df.head()"
   ]
  },
  {
   "cell_type": "markdown",
   "id": "d4f9be2f-c942-43bc-95c7-04499714f5ed",
   "metadata": {},
   "source": [
    "## Calculate Power\r\n",
    "\r\n",
    "One of a Data Scientist's jobs is to help others determine what's  meaningful information and what's not. You can think about this as distinguishing between **signal** and **noise**. As the author [Nate Silver](https://en.wikipedia.org/wiki/The_Signal_and_the_Noise) puts it, \"The signal is the truth. The noise is what distracts us from the truth.\"\r\n",
    "\r\n",
    "In our experiment, we're looking for a signal indicating that applicants who receive an email are more likely to complete the admissions quiz. If signal's strong, it'll be easy to see. A much higher number of applicants in our treatment group will complete the quiz. But if the signal's weak and there's only a tiny change in quiz completion, it will be harder to determine if this is a meaningful difference or just random variation. How can we separate signal from noise in this case? The answer is **statistical power**.\r\n",
    "\r\n",
    "To understand what statistical power is, let's imagine that we're radio engineers building an antenna. The size of our antenna would depend on the type of signal we wanted to detect. It would be OK to build a low-power antenna if we only wanted to detect strong signals, like a car antenna that picks up your favorite local music station. But our antenna wouldn't pick up weaker signals — like a radio station on the other side of the globe. For weaker signals, we'd need something with higher power. In statistics, power comes from the number of observations you include in your experiment. In other words, the more people we include, the stronger our antenna, and the better we can detect weak signals. \r\n",
    "\r\n",
    "To determine exactly how many people we should include in our study, we need to do a **power calculation**. "
   ]
  },
  {
   "cell_type": "markdown",
   "id": "8404e687-f7bb-40f5-ba42-1c6124ba8661",
   "metadata": {},
   "source": [
    "**Task 7.3.2:** First, instantiate a `GofChisquarePower` object and assign it to the variable name `chi_square_power`. Then use it to calculate the `group_size` needed to detect an effect size of `0.2`, with an alpha of `0.05` and power of `0.8`.\n",
    "\n",
    "- [What's statistical power?](../%40textbook/20-statistics.ipynb#Power)\n",
    "- [What's effect size?](../%40textbook/20-statistics.ipynb#Effect-Size)\n",
    "- [Perform a power calculation using statsmodels.](../%40textbook/20-statistics.ipynb#Test-for-Independence)"
   ]
  },
  {
   "cell_type": "code",
   "execution_count": 4,
   "id": "ff403c0a-4c64-4924-87b9-b413f28fb156",
   "metadata": {},
   "outputs": [
    {
     "name": "stdout",
     "output_type": "stream",
     "text": [
      "Group Size: 197\n",
      "Total # of applicants needed: 394\n"
     ]
    }
   ],
   "source": [
    "chi_square_power = GofChisquarePower()\n",
    "group_size = math.ceil(\n",
    "    chi_square_power.solve_power(effect_size=0.2, alpha=0.05, power=0.80)\n",
    ")\n",
    "print(\"Group Size:\", group_size)\n",
    "print(\"Total # of applicants needed:\", group_size * 2)"
   ]
  },
  {
   "cell_type": "markdown",
   "id": "01ae29e6-5780-4e15-b5e9-4be6cc3dd497",
   "metadata": {},
   "source": [
    "The results here are telling us that if we want to detect an effect size of 0.2 we need a group size of about 200 people. Since our experiment has two conditions (treatment and control, or email and no email), that means we need a total of about 400 applicants in our experiment.\n",
    "\n",
    "But what about detecting other effect sizes? If we needed to detect a *larger* effect size, we'd need *fewer* applicants. If we needed to detect a *smaller* effect size, we'd need *more* applicants. One way to visualize the relationship between effect size, statistical power, and number of applicants is to make a graph."
   ]
  },
  {
   "cell_type": "code",
   "execution_count": 5,
   "id": "f0b71357-b25c-4417-9b92-22c09ccb7e0b",
   "metadata": {},
   "outputs": [
    {
     "data": {
      "image/png": "[encoded data removed]",
      "text/plain": [
       "<Figure size 640x480 with 1 Axes>"
      ]
     },
     "metadata": {},
     "output_type": "display_data"
    }
   ],
   "source": [
    "n_observations = np.arange(0, group_size * 2 + 1)\n",
    "effect_sizes = np.array([0.2, 0.5, 0.8])\n",
    "\n",
    "# Plot power curve using `chi_square_power`\n",
    "chi_square_power.plot_power(\n",
    "    dep_var=\"nobs\",\n",
    "    nobs=n_observations,\n",
    "    effect_size=effect_sizes,\n",
    "    alpha=0.05,\n",
    "    n_bins=2\n",
    ");"
   ]
  },
  {
   "cell_type": "markdown",
   "id": "905dd530-2c7f-4cfb-8b82-04dd6c95973e",
   "metadata": {},
   "source": [
    "## Calculate Subjects per Day\n",
    "\n",
    "In the previous lesson, we decided that our experiment would focus on the subset of applicants who don't take the admissions quiz immediately after creating an account. We know we need around 400 observations from this subset, but how long do we need to run our experiment for in order to get that number?\n",
    "\n",
    "To answer that question, we first need to calculate how many such applicants open an account each day."
   ]
  },
  {
   "cell_type": "code",
   "execution_count": 6,
   "id": "512edc2b-cf60-4441-93bd-0e51e977d64c",
   "metadata": {},
   "outputs": [
    {
     "name": "stdout",
     "output_type": "stream",
     "text": [
      "     createdAt  count\n",
      "0   2022-05-01     37\n",
      "1   2022-05-02     49\n",
      "2   2022-05-03     43\n",
      "3   2022-05-04     48\n",
      "4   2022-05-05     47\n",
      "5   2022-05-06     47\n",
      "6   2022-05-07     46\n",
      "7   2022-05-08     60\n",
      "8   2022-05-09     33\n",
      "9   2022-05-10     41\n",
      "10  2022-05-11     36\n",
      "11  2022-05-12     55\n",
      "12  2022-05-13     51\n",
      "13  2022-05-14     44\n",
      "14  2022-05-15     30\n",
      "15  2022-05-16     38\n",
      "16  2022-05-17     42\n",
      "17  2022-05-18     43\n",
      "18  2022-05-19     39\n",
      "19  2022-05-20     41\n",
      "20  2022-05-21     39\n",
      "21  2022-05-22     50\n",
      "22  2022-05-23     49\n",
      "23  2022-05-24     50\n",
      "24  2022-05-25     46\n",
      "25  2022-05-26     40\n",
      "26  2022-05-27     43\n",
      "27  2022-05-28     40\n",
      "28  2022-05-29     39\n",
      "29  2022-05-30     42\n"
     ]
    },
    {
     "name": "stderr",
     "output_type": "stream",
     "text": [
      "C:\\Users\\hp\\AppData\\Local\\Temp\\ipykernel_18140\\3555889600.py:5: SettingWithCopyWarning: \n",
      "A value is trying to be set on a copy of a slice from a DataFrame.\n",
      "Try using .loc[row_indexer,col_indexer] = value instead\n",
      "\n",
      "See the caveats in the documentation: https://pandas.pydata.org/pandas-docs/stable/user_guide/indexing.html#returning-a-view-versus-a-copy\n",
      "  filtered_df[\"createdAt\"] = pd.to_datetime(filtered_df[\"createdAt\"])\n"
     ]
    }
   ],
   "source": [
    "# Step 1: Filter rows where admissionsQuiz is \"incomplete\"\n",
    "filtered_df = df[df[\"admissionsQuiz\"] == \"incomplete\"]\n",
    "\n",
    "# Step 2: Convert createdAt to datetime\n",
    "filtered_df[\"createdAt\"] = pd.to_datetime(filtered_df[\"createdAt\"])\n",
    "\n",
    "# Step 3: Group by the date part of createdAt and count the occurrences\n",
    "result = filtered_df.groupby(filtered_df[\"createdAt\"].dt.date).size().reset_index(name='count')\n",
    "\n",
    "# Display the result\n",
    "print(result)"
   ]
  },
  {
   "cell_type": "code",
   "execution_count": 7,
   "id": "0be0db99-4b48-4f75-bffd-6dadcd409c23",
   "metadata": {},
   "outputs": [
    {
     "name": "stdout",
     "output_type": "stream",
     "text": [
      "no_quiz type: <class 'pandas.core.series.Series'>\n",
      "no_quiz shape: (30,)\n"
     ]
    },
    {
     "data": {
      "text/plain": [
       "date\n",
       "2022-05-01    37\n",
       "2022-05-02    49\n",
       "2022-05-03    43\n",
       "2022-05-04    48\n",
       "2022-05-05    47\n",
       "Name: new_users, dtype: int64"
      ]
     },
     "execution_count": 7,
     "metadata": {},
     "output_type": "execute_result"
    }
   ],
   "source": [
    "# Assuming 'result' is the DataFrame from the previous task\n",
    "no_quiz = (\n",
    "    pd.DataFrame(result)\n",
    "    .rename({\"createdAt\": \"date\", \"count\": \"new_users\"}, axis=1)  # Rename columns\n",
    "    .set_index(\"date\")                                            # Set \"date\" as the index\n",
    "    .sort_index()                                                 # Sort by date\n",
    "    .squeeze()                                                    # Convert to a Series\n",
    ")\n",
    "\n",
    "# Print type and shape\n",
    "print(\"no_quiz type:\", type(no_quiz))\n",
    "print(\"no_quiz shape:\", no_quiz.shape)\n",
    "\n",
    "# Display the first few rows\n",
    "no_quiz.head()"
   ]
  },
  {
   "cell_type": "markdown",
   "id": "f49da6a8-c5d6-4184-b2b7-5c2cac648014",
   "metadata": {},
   "source": [
    "Okay! Let's see what we've got here by creating a histogram."
   ]
  },
  {
   "cell_type": "code",
   "execution_count": 8,
   "id": "d9a912f5-acf1-4908-aacd-875623da3beb",
   "metadata": {},
   "outputs": [
    {
     "data": {
      "image/png": "[encoded data removed]",
      "text/plain": [
       "<Figure size 640x480 with 1 Axes>"
      ]
     },
     "metadata": {},
     "output_type": "display_data"
    }
   ],
   "source": [
    "# Create histogram of `no_quiz`\n",
    "no_quiz.hist()\n",
    "# Add axis labels and title\n",
    "plt.xlabel(\"No-Quiz Applicants\")\n",
    "plt.ylabel(\"Frequency [count]\")\n",
    "plt.title(\"Distribution of Daily No-Quiz Applicants\");"
   ]
  },
  {
   "cell_type": "markdown",
   "id": "b39bab9c-257a-4654-9b84-e4f16e616134",
   "metadata": {},
   "source": [
    "We can see that somewhere between 30–60 no-quiz applicants come to the site every day. But how can we use this information to ensure that we get our 400 observations? We need to calculate the mean and standard deviation of this distribution."
   ]
  },
  {
   "cell_type": "code",
   "execution_count": 9,
   "id": "ce0b36fe-472a-46a8-81ee-556b4bab6bda",
   "metadata": {},
   "outputs": [
    {
     "name": "stdout",
     "output_type": "stream",
     "text": [
      "no_quiz mean: 43.6\n",
      "no_quiz std: 6.398275629767974\n"
     ]
    }
   ],
   "source": [
    "mean = no_quiz.describe()[\"mean\"]\n",
    "std = no_quiz.describe()[\"std\"]\n",
    "print(\"no_quiz mean:\", mean)\n",
    "print(\"no_quiz std:\", std)"
   ]
  },
  {
   "cell_type": "markdown",
   "id": "9ca52acb-7c96-406e-87f1-c7f4735a2625",
   "metadata": {},
   "source": [
    "The mean around 40 and a standard deviation between 7 and 8. Taking those rough numbers as a guide, how many days do we need to run the experiment to make sure we get to 400 users?\n",
    "\n",
    "Intuitively, you might think the answer is 10 days, because $10 \\cdot 40 = 400$. But we can't guarantee that we'll get 40 new users every day. Some days, there will be fewer; some days, more. So how can we estimate how many days we'll need? Statistics!\n",
    "\n",
    "The distribution we plotted above shows how many no-quiz applicants come to the site *each day*, but we can use that mean and standard deviation to create a new distribution — one for the sum of no-quiz applicants over *several days*. Let's start with our intuition, and create a distribution for 10 days."
   ]
  },
  {
   "cell_type": "code",
   "execution_count": 10,
   "id": "50c0cac7-61db-41a6-9bc9-a06b4b20a548",
   "metadata": {},
   "outputs": [
    {
     "name": "stdout",
     "output_type": "stream",
     "text": [
      "Mean of sum: 436.0\n",
      "Std of sum: 20.233124087615032\n"
     ]
    }
   ],
   "source": [
    "days = 10\n",
    "sum_mean = mean * days\n",
    "sum_std = std * np.sqrt(days)\n",
    "print(\"Mean of sum:\", sum_mean)\n",
    "print(\"Std of sum:\", sum_std)"
   ]
  },
  {
   "cell_type": "markdown",
   "id": "fd5a6847-8557-43dc-86ad-e09abdf2008d",
   "metadata": {},
   "source": [
    "With this new distribution, we want to know what the probability is that we'll have 400 or more no-quiz applicants after 10 days. We can calculate this using the **cumulative density function** or CDF. The CDF will give us the probability of having 400 or fewer no-quiz applicants, so we'll need to subtract our result from 1."
   ]
  },
  {
   "cell_type": "code",
   "execution_count": 13,
   "id": "7e62af25-5797-470b-8cfd-ebf06581e98c",
   "metadata": {},
   "outputs": [
    {
     "name": "stdout",
     "output_type": "stream",
     "text": [
      "Probability of getting 400+ no_quiz in 10 days: 0.981\n"
     ]
    }
   ],
   "source": [
    "prob_400_or_fewer = scipy.stats.norm.cdf(\n",
    "    group_size * 2,\n",
    "    loc=sum_mean,\n",
    "    scale=sum_std\n",
    ")\n",
    "prob_400_or_greater = 1 - prob_400_or_fewer\n",
    "\n",
    "print(\n",
    "    f\"Probability of getting 400+ no_quiz in {days} days:\",\n",
    "    round(prob_400_or_greater, 3),\n",
    ")"
   ]
  },
  {
   "cell_type": "markdown",
   "id": "d3cb177f-0a53-4337-8bdc-8593bf351156",
   "metadata": {},
   "source": [
    "Again, the exact probability will change every time we regenerate the database, but there should be around a 90% chance that we'll get the number of applicants we need over 10 days. \n",
    "\n",
    "Since we're talking about finding an optimal timeframe, though, try out some other possibilities. Try changing the value of `days` and see what happens."
   ]
  },
  {
   "cell_type": "markdown",
   "id": "736bcb85-602c-4235-9380-41b35cb5d6d2",
   "metadata": {},
   "source": [
    "# Running the Experiment\n",
    "\n",
    "Okay, now we know how many applicants we need and what the timeframe needs to be. Let's actually run the experiment!"
   ]
  },
  {
   "cell_type": "code",
   "execution_count": 16,
   "id": "628a09b6-cb4f-4913-a83c-892948d154ef",
   "metadata": {},
   "outputs": [
    {
     "name": "stdout",
     "output_type": "stream",
     "text": [
      "Experiment reset: Filtered incomplete admissions.\n",
      "Mean new users for 10 days: 436.0\n",
      "Standard deviation for 10 days: 20.233124087615032\n",
      "Result type: <class 'dict'>\n",
      "{'acknowledged': True, 'inserted_count': 30}\n"
     ]
    }
   ],
   "source": [
    "class DataFrameExperiment:\n",
    "    def __init__(self, df):\n",
    "        \"\"\"\n",
    "        Initialize the experiment with a DataFrame.\n",
    "        \"\"\"\n",
    "        self.df = df\n",
    "\n",
    "    def reset_experiment(self):\n",
    "        \"\"\"\n",
    "        Reset the experiment by filtering only incomplete admissions.\n",
    "        \"\"\"\n",
    "        self.filtered_df = self.df[self.df[\"admissionsQuiz\"] == \"incomplete\"].copy()\n",
    "        self.filtered_df[\"createdAt\"] = pd.to_datetime(self.filtered_df[\"createdAt\"])\n",
    "        print(\"Experiment reset: Filtered incomplete admissions.\")\n",
    "\n",
    "    def run_experiment(self, days):\n",
    "        \"\"\"\n",
    "        Simulate running the experiment over a given number of days.\n",
    "        Args:\n",
    "            days (int): Number of days for the experiment.\n",
    "\n",
    "        Returns:\n",
    "            dict: Simulated MongoDB-like output with acknowledgment and inserted count.\n",
    "        \"\"\"\n",
    "        # Step 1: Group data by date and count new users\n",
    "        result = (\n",
    "            self.filtered_df\n",
    "            .groupby(self.filtered_df[\"createdAt\"].dt.date)\n",
    "            .size()\n",
    "            .reset_index(name=\"new_users\")\n",
    "            .rename(columns={\"createdAt\": \"date\"})\n",
    "            .set_index(\"date\")\n",
    "            .sort_index()\n",
    "        )\n",
    "\n",
    "        # Step 2: Limit to the specified number of days\n",
    "        if days > len(result):\n",
    "            print(f\"Warning: Only {len(result)} days of data available. Using all available data.\")\n",
    "            days = len(result)\n",
    "\n",
    "        # Step 3: Calculate mean and standard deviation\n",
    "        mean_new_users = result[\"new_users\"].mean()\n",
    "        std_new_users = result[\"new_users\"].std()\n",
    "        sum_mean = mean_new_users * days\n",
    "        sum_std = std_new_users * np.sqrt(days)\n",
    "\n",
    "        print(f\"Mean new users for {days} days: {sum_mean}\")\n",
    "        print(f\"Standard deviation for {days} days: {sum_std}\")\n",
    "\n",
    "        # Step 4: Create MongoDB-like output\n",
    "        output = {\n",
    "            'acknowledged': True,\n",
    "            'inserted_count': len(result)  # Number of unique dates\n",
    "        }\n",
    "\n",
    "        return output\n",
    "\n",
    "# Instantiate and run the experiment\n",
    "exp = DataFrameExperiment(df)\n",
    "exp.reset_experiment()\n",
    "days = 10  # Example number of days\n",
    "result = exp.run_experiment(days=days)\n",
    "print(\"Result type:\", type(result))\n",
    "print(result)"
   ]
  },
  {
   "cell_type": "markdown",
   "id": "5a2eb111-0d7f-43f8-8b07-cb6556a7d6dc",
   "metadata": {},
   "source": [
    "After all that work, the actual running of the experiment might seem a little anticlimactic. This is because we automated the process and are working with synthetic data. Let's look at our results?"
   ]
  },
  {
   "cell_type": "markdown",
   "id": "293898e1-6975-458a-b084-6d0ae19aa224",
   "metadata": {},
   "source": [
    "# Evaluating Experiment Results\n",
    "\n",
    "After all that work, the actual running of the experiment might seem a little anticlimactic. This is because we automated the process and are working with synthetic data. Let's look at our results?"
   ]
  },
  {
   "cell_type": "markdown",
   "id": "e5c91fe7-15f4-4784-9d6c-877a0af4791f",
   "metadata": {},
   "source": [
    "## Get Data\n",
    "\n",
    "First, get the data we need by finding just the people who were part of the experiment..."
   ]
  },
  {
   "cell_type": "code",
   "execution_count": 22,
   "id": "f599547c-1fed-4be9-b776-a233661cddf5",
   "metadata": {},
   "outputs": [
    {
     "name": "stdout",
     "output_type": "stream",
     "text": [
      "results type: <class 'pandas.core.frame.DataFrame'>\n",
      "                         _id firstName    lastName  \\\n",
      "0   6525d787953844722c8383f8     Terry     Hassler   \n",
      "2   6525d787953844722c8383fa      Ruth   Vedovelli   \n",
      "6   6525d787953844722c8383fe     Wendy        Apel   \n",
      "12  6525d787953844722c838404    Dwight  Montgomery   \n",
      "14  6525d787953844722c838406    Sharon        Butt   \n",
      "\n",
      "                             email   birthday  gender highestDegreeEarned  \\\n",
      "0        terry.hassler28@yahow.com 1998-04-29    male   Bachelor's degree   \n",
      "2   ruth.vedovelli46@microsift.com 1994-08-16  female     Master's degree   \n",
      "6           wendy.apel41@yahow.com 1993-01-09  female   Bachelor's degree   \n",
      "12   dwight.montgomery57@yahow.com 1993-10-22    male   Bachelor's degree   \n",
      "14       sharon.butt95@hotmeal.com 1996-12-22  female     Master's degree   \n",
      "\n",
      "   countryISO2 admissionsQuiz           createdAt  inExperiment  \n",
      "0           GB     incomplete 2022-05-13 15:02:44          True  \n",
      "2           ZM     incomplete 2022-05-11 09:35:39          True  \n",
      "6           CM     incomplete 2022-05-13 11:37:23          True  \n",
      "12          GM     incomplete 2022-05-20 08:49:27          True  \n",
      "14          MW     incomplete 2022-05-09 04:57:27          True  \n"
     ]
    }
   ],
   "source": [
    "# Example: Create a new 'inExperiment' column based on some condition (e.g., admissionsQuiz is incomplete)\n",
    "df[\"inExperiment\"] = df[\"admissionsQuiz\"] == \"incomplete\""
   ]
  },
  {
   "cell_type": "code",
   "execution_count": 24,
   "id": "650bf85f-59c2-4c88-a820-9c31e1fb198d",
   "metadata": {},
   "outputs": [
    {
     "name": "stdout",
     "output_type": "stream",
     "text": [
      "results type: <class 'pandas.core.frame.DataFrame'>\n"
     ]
    }
   ],
   "source": [
    "# Now filter rows where 'inExperiment' is True\n",
    "results = df[df[\"inExperiment\"] == True]\n",
    "\n",
    "# Print the type and first few rows of the result\n",
    "print(\"results type:\", type(results))"
   ]
  },
  {
   "cell_type": "code",
   "execution_count": 32,
   "id": "a990981b-bc50-4bae-accf-dd84a6c05b32",
   "metadata": {},
   "outputs": [
    {
     "name": "stdout",
     "output_type": "stream",
     "text": [
      "                           _id firstName    lastName  \\\n",
      "0     6525d787953844722c8383f8     Terry     Hassler   \n",
      "2     6525d787953844722c8383fa      Ruth   Vedovelli   \n",
      "6     6525d787953844722c8383fe     Wendy        Apel   \n",
      "12    6525d787953844722c838404    Dwight  Montgomery   \n",
      "14    6525d787953844722c838406    Sharon        Butt   \n",
      "...                        ...       ...         ...   \n",
      "5007  6525d787953844722c839787     Edgar        Reed   \n",
      "5011  6525d787953844722c83978b    Joseph      Allman   \n",
      "5013  6525d787953844722c83978d  Jonathan        Mayo   \n",
      "5020  6525d787953844722c839794    Victor     Collins   \n",
      "5023  6525d787953844722c839797   Florine      Thomas   \n",
      "\n",
      "                               email   birthday  gender  \\\n",
      "0          terry.hassler28@yahow.com 1998-04-29    male   \n",
      "2     ruth.vedovelli46@microsift.com 1994-08-16  female   \n",
      "6             wendy.apel41@yahow.com 1993-01-09  female   \n",
      "12     dwight.montgomery57@yahow.com 1993-10-22    male   \n",
      "14         sharon.butt95@hotmeal.com 1996-12-22  female   \n",
      "...                              ...        ...     ...   \n",
      "5007      edgar.reed43@microsift.com 1994-12-15    male   \n",
      "5011   joseph.allman28@microsift.com 1988-04-15    male   \n",
      "5013       jonathan.mayo80@yahow.com 1988-07-25    male   \n",
      "5020  victor.collins67@microsift.com 1985-02-15    male   \n",
      "5023    florine.thomas60@hotmeal.com 1983-01-24  female   \n",
      "\n",
      "           highestDegreeEarned countryISO2 admissionsQuiz           createdAt  \\\n",
      "0            Bachelor's degree          GB     incomplete 2022-05-13 15:02:44   \n",
      "2              Master's degree          ZM     incomplete 2022-05-11 09:35:39   \n",
      "6            Bachelor's degree          CM     incomplete 2022-05-13 11:37:23   \n",
      "12           Bachelor's degree          GM     incomplete 2022-05-20 08:49:27   \n",
      "14             Master's degree          MW     incomplete 2022-05-09 04:57:27   \n",
      "...                        ...         ...            ...                 ...   \n",
      "5007         Bachelor's degree          NG     incomplete 2022-05-17 12:29:08   \n",
      "5011         Bachelor's degree          ZM     incomplete 2022-05-06 05:52:36   \n",
      "5013  Some College (1-3 years)          GH     incomplete 2022-05-25 22:32:44   \n",
      "5020         Bachelor's degree          UG     incomplete 2022-05-28 22:47:48   \n",
      "5023           Master's degree          ZA     incomplete 2022-05-12 06:02:24   \n",
      "\n",
      "      inExperiment  \n",
      "0             True  \n",
      "2             True  \n",
      "6             True  \n",
      "12            True  \n",
      "14            True  \n",
      "...            ...  \n",
      "5007          True  \n",
      "5011          True  \n",
      "5013          True  \n",
      "5020          True  \n",
      "5023          True  \n",
      "\n",
      "[1308 rows x 11 columns]\n",
      "df1 type: <class 'pandas.core.frame.DataFrame'>\n",
      "df1 shape: (1305, 11)\n",
      "                         _id firstName    lastName  \\\n",
      "0   6525d787953844722c8383f8     Terry     Hassler   \n",
      "2   6525d787953844722c8383fa      Ruth   Vedovelli   \n",
      "6   6525d787953844722c8383fe     Wendy        Apel   \n",
      "12  6525d787953844722c838404    Dwight  Montgomery   \n",
      "14  6525d787953844722c838406    Sharon        Butt   \n",
      "\n",
      "                             email   birthday  gender highestDegreeEarned  \\\n",
      "0        terry.hassler28@yahow.com 1998-04-29    male   Bachelor's degree   \n",
      "2   ruth.vedovelli46@microsift.com 1994-08-16  female     Master's degree   \n",
      "6           wendy.apel41@yahow.com 1993-01-09  female   Bachelor's degree   \n",
      "12   dwight.montgomery57@yahow.com 1993-10-22    male   Bachelor's degree   \n",
      "14       sharon.butt95@hotmeal.com 1996-12-22  female     Master's degree   \n",
      "\n",
      "   countryISO2 admissionsQuiz           createdAt  inExperiment  \n",
      "0           GB     incomplete 2022-05-13 15:02:44          True  \n",
      "2           ZM     incomplete 2022-05-11 09:35:39          True  \n",
      "6           CM     incomplete 2022-05-13 11:37:23          True  \n",
      "12          GM     incomplete 2022-05-20 08:49:27          True  \n",
      "14          MW     incomplete 2022-05-09 04:57:27          True  \n"
     ]
    }
   ],
   "source": [
    "# Check the structure of 'result'\n",
    "print(results)\n",
    "\n",
    "# Ensure 'result' is in the expected format (list of dictionaries or similar)\n",
    "if isinstance(results, dict):\n",
    "    # If it's a dictionary, make sure to wrap it in a list or correct the structure\n",
    "    results = [results]\n",
    "\n",
    "# Convert to DataFrame, drop NaN values, and inspect\n",
    "df1 = pd.DataFrame(results).dropna()\n",
    "\n",
    "print(\"df1 type:\", type(df1))\n",
    "print(\"df1 shape:\", df1.shape)\n",
    "print(df1.head())"
   ]
  },
  {
   "cell_type": "markdown",
   "id": "2d37f737-bfad-4301-b999-1107e41e62e1",
   "metadata": {},
   "source": [
    "## Build Contingency Table\n",
    "\n",
    "Now that the results are in a DataFrame, we can start pulling apart what we found. Let's start by making a table showing how many people did and didn't complete the quiz across our two groups."
   ]
  },
  {
   "cell_type": "code",
   "execution_count": 36,
   "id": "958a8fe4-8462-47f5-8543-4721940ff05c",
   "metadata": {},
   "outputs": [
    {
     "data": {
      "text/html": [
       "<div>\n",
       "<style scoped>\n",
       "    .dataframe tbody tr th:only-of-type {\n",
       "        vertical-align: middle;\n",
       "    }\n",
       "\n",
       "    .dataframe tbody tr th {\n",
       "        vertical-align: top;\n",
       "    }\n",
       "\n",
       "    .dataframe thead th {\n",
       "        text-align: right;\n",
       "    }\n",
       "</style>\n",
       "<table border=\"1\" class=\"dataframe\">\n",
       "  <thead>\n",
       "    <tr style=\"text-align: right;\">\n",
       "      <th>admissionsQuiz</th>\n",
       "      <th>complete</th>\n",
       "      <th>incomplete</th>\n",
       "    </tr>\n",
       "    <tr>\n",
       "      <th>inExperiment</th>\n",
       "      <th></th>\n",
       "      <th></th>\n",
       "    </tr>\n",
       "  </thead>\n",
       "  <tbody>\n",
       "    <tr>\n",
       "      <th>False</th>\n",
       "      <td>3717</td>\n",
       "      <td>0</td>\n",
       "    </tr>\n",
       "    <tr>\n",
       "      <th>True</th>\n",
       "      <td>0</td>\n",
       "      <td>1308</td>\n",
       "    </tr>\n",
       "  </tbody>\n",
       "</table>\n",
       "</div>"
      ],
      "text/plain": [
       "admissionsQuiz  complete  incomplete\n",
       "inExperiment                        \n",
       "False               3717           0\n",
       "True                   0        1308"
      ]
     },
     "execution_count": 36,
     "metadata": {},
     "output_type": "execute_result"
    }
   ],
   "source": [
    "pd.crosstab(df['inExperiment'], df['admissionsQuiz'])\n"
   ]
  },
  {
   "cell_type": "code",
   "execution_count": 35,
   "id": "c701742b-4241-4506-9853-fd3748cf5430",
   "metadata": {},
   "outputs": [
    {
     "name": "stdout",
     "output_type": "stream",
     "text": [
      "Index(['_id', 'firstName', 'lastName', 'email', 'birthday', 'gender',\n",
      "       'highestDegreeEarned', 'countryISO2', 'admissionsQuiz', 'createdAt',\n",
      "       'inExperiment'],\n",
      "      dtype='object')\n"
     ]
    }
   ],
   "source": [
    "print(df.columns)\n"
   ]
  },
  {
   "cell_type": "code",
   "execution_count": 37,
   "id": "180635c8-71fd-488a-aff1-afaaa8948e2e",
   "metadata": {},
   "outputs": [
    {
     "ename": "KeyError",
     "evalue": "'group'",
     "output_type": "error",
     "traceback": [
      "\u001b[1;31m---------------------------------------------------------------------------\u001b[0m",
      "\u001b[1;31mKeyError\u001b[0m                                  Traceback (most recent call last)",
      "File \u001b[1;32m~\\anaconda3\\Lib\\site-packages\\pandas\\core\\indexes\\base.py:3802\u001b[0m, in \u001b[0;36mIndex.get_loc\u001b[1;34m(self, key, method, tolerance)\u001b[0m\n\u001b[0;32m   3801\u001b[0m \u001b[38;5;28;01mtry\u001b[39;00m:\n\u001b[1;32m-> 3802\u001b[0m     \u001b[38;5;28;01mreturn\u001b[39;00m \u001b[38;5;28mself\u001b[39m\u001b[38;5;241m.\u001b[39m_engine\u001b[38;5;241m.\u001b[39mget_loc(casted_key)\n\u001b[0;32m   3803\u001b[0m \u001b[38;5;28;01mexcept\u001b[39;00m \u001b[38;5;167;01mKeyError\u001b[39;00m \u001b[38;5;28;01mas\u001b[39;00m err:\n",
      "File \u001b[1;32m~\\anaconda3\\Lib\\site-packages\\pandas\\_libs\\index.pyx:138\u001b[0m, in \u001b[0;36mpandas._libs.index.IndexEngine.get_loc\u001b[1;34m()\u001b[0m\n",
      "File \u001b[1;32m~\\anaconda3\\Lib\\site-packages\\pandas\\_libs\\index.pyx:165\u001b[0m, in \u001b[0;36mpandas._libs.index.IndexEngine.get_loc\u001b[1;34m()\u001b[0m\n",
      "File \u001b[1;32mpandas\\_libs\\hashtable_class_helper.pxi:5745\u001b[0m, in \u001b[0;36mpandas._libs.hashtable.PyObjectHashTable.get_item\u001b[1;34m()\u001b[0m\n",
      "File \u001b[1;32mpandas\\_libs\\hashtable_class_helper.pxi:5753\u001b[0m, in \u001b[0;36mpandas._libs.hashtable.PyObjectHashTable.get_item\u001b[1;34m()\u001b[0m\n",
      "\u001b[1;31mKeyError\u001b[0m: 'group'",
      "\nThe above exception was the direct cause of the following exception:\n",
      "\u001b[1;31mKeyError\u001b[0m                                  Traceback (most recent call last)",
      "Cell \u001b[1;32mIn[37], line 2\u001b[0m\n\u001b[0;32m      1\u001b[0m data \u001b[38;5;241m=\u001b[39m pd\u001b[38;5;241m.\u001b[39mcrosstab(\n\u001b[1;32m----> 2\u001b[0m     index\u001b[38;5;241m=\u001b[39mdf[\u001b[38;5;124m\"\u001b[39m\u001b[38;5;124mgroup\u001b[39m\u001b[38;5;124m\"\u001b[39m],\n\u001b[0;32m      3\u001b[0m     columns\u001b[38;5;241m=\u001b[39mdf[\u001b[38;5;124m\"\u001b[39m\u001b[38;5;124madmissionsQuiz\u001b[39m\u001b[38;5;124m\"\u001b[39m],\n\u001b[0;32m      4\u001b[0m     normalize\u001b[38;5;241m=\u001b[39m\u001b[38;5;28;01mFalse\u001b[39;00m\n\u001b[0;32m      5\u001b[0m )\n\u001b[0;32m      6\u001b[0m \u001b[38;5;28mprint\u001b[39m(\u001b[38;5;124m\"\u001b[39m\u001b[38;5;124mdata type:\u001b[39m\u001b[38;5;124m\"\u001b[39m, \u001b[38;5;28mtype\u001b[39m(data))\n\u001b[0;32m      7\u001b[0m \u001b[38;5;28mprint\u001b[39m(\u001b[38;5;124m\"\u001b[39m\u001b[38;5;124mdata shape:\u001b[39m\u001b[38;5;124m\"\u001b[39m, data\u001b[38;5;241m.\u001b[39mshape)\n",
      "File \u001b[1;32m~\\anaconda3\\Lib\\site-packages\\pandas\\core\\frame.py:3807\u001b[0m, in \u001b[0;36mDataFrame.__getitem__\u001b[1;34m(self, key)\u001b[0m\n\u001b[0;32m   3805\u001b[0m \u001b[38;5;28;01mif\u001b[39;00m \u001b[38;5;28mself\u001b[39m\u001b[38;5;241m.\u001b[39mcolumns\u001b[38;5;241m.\u001b[39mnlevels \u001b[38;5;241m>\u001b[39m \u001b[38;5;241m1\u001b[39m:\n\u001b[0;32m   3806\u001b[0m     \u001b[38;5;28;01mreturn\u001b[39;00m \u001b[38;5;28mself\u001b[39m\u001b[38;5;241m.\u001b[39m_getitem_multilevel(key)\n\u001b[1;32m-> 3807\u001b[0m indexer \u001b[38;5;241m=\u001b[39m \u001b[38;5;28mself\u001b[39m\u001b[38;5;241m.\u001b[39mcolumns\u001b[38;5;241m.\u001b[39mget_loc(key)\n\u001b[0;32m   3808\u001b[0m \u001b[38;5;28;01mif\u001b[39;00m is_integer(indexer):\n\u001b[0;32m   3809\u001b[0m     indexer \u001b[38;5;241m=\u001b[39m [indexer]\n",
      "File \u001b[1;32m~\\anaconda3\\Lib\\site-packages\\pandas\\core\\indexes\\base.py:3804\u001b[0m, in \u001b[0;36mIndex.get_loc\u001b[1;34m(self, key, method, tolerance)\u001b[0m\n\u001b[0;32m   3802\u001b[0m     \u001b[38;5;28;01mreturn\u001b[39;00m \u001b[38;5;28mself\u001b[39m\u001b[38;5;241m.\u001b[39m_engine\u001b[38;5;241m.\u001b[39mget_loc(casted_key)\n\u001b[0;32m   3803\u001b[0m \u001b[38;5;28;01mexcept\u001b[39;00m \u001b[38;5;167;01mKeyError\u001b[39;00m \u001b[38;5;28;01mas\u001b[39;00m err:\n\u001b[1;32m-> 3804\u001b[0m     \u001b[38;5;28;01mraise\u001b[39;00m \u001b[38;5;167;01mKeyError\u001b[39;00m(key) \u001b[38;5;28;01mfrom\u001b[39;00m \u001b[38;5;21;01merr\u001b[39;00m\n\u001b[0;32m   3805\u001b[0m \u001b[38;5;28;01mexcept\u001b[39;00m \u001b[38;5;167;01mTypeError\u001b[39;00m:\n\u001b[0;32m   3806\u001b[0m     \u001b[38;5;66;03m# If we have a listlike key, _check_indexing_error will raise\u001b[39;00m\n\u001b[0;32m   3807\u001b[0m     \u001b[38;5;66;03m#  InvalidIndexError. Otherwise we fall through and re-raise\u001b[39;00m\n\u001b[0;32m   3808\u001b[0m     \u001b[38;5;66;03m#  the TypeError.\u001b[39;00m\n\u001b[0;32m   3809\u001b[0m     \u001b[38;5;28mself\u001b[39m\u001b[38;5;241m.\u001b[39m_check_indexing_error(key)\n",
      "\u001b[1;31mKeyError\u001b[0m: 'group'"
     ]
    }
   ],
   "source": [
    "data = pd.crosstab(\n",
    "    index=df[\"group\"],\n",
    "    columns=df[\"admissionsQuiz\"],\n",
    "    normalize=False\n",
    ")\n",
    "print(\"data type:\", type(data))\n",
    "print(\"data shape:\", data.shape)\n",
    "data"
   ]
  },
  {
   "cell_type": "code",
   "execution_count": 38,
   "id": "8f2a506e-4b7a-41e8-8b7e-debd5b0856e5",
   "metadata": {},
   "outputs": [
    {
     "ename": "NameError",
     "evalue": "name 'data' is not defined",
     "output_type": "error",
     "traceback": [
      "\u001b[1;31m---------------------------------------------------------------------------\u001b[0m",
      "\u001b[1;31mNameError\u001b[0m                                 Traceback (most recent call last)",
      "Cell \u001b[1;32mIn[38], line 17\u001b[0m\n\u001b[0;32m      9\u001b[0m     fig\u001b[38;5;241m.\u001b[39mupdate_layout(\n\u001b[0;32m     10\u001b[0m         xaxis_title\u001b[38;5;241m=\u001b[39m\u001b[38;5;124m\"\u001b[39m\u001b[38;5;124mGroup\u001b[39m\u001b[38;5;124m\"\u001b[39m,\n\u001b[0;32m     11\u001b[0m         yaxis_title\u001b[38;5;241m=\u001b[39m\u001b[38;5;124m\"\u001b[39m\u001b[38;5;124mFrequency [count]\u001b[39m\u001b[38;5;124m\"\u001b[39m,\n\u001b[0;32m     12\u001b[0m         legend\u001b[38;5;241m=\u001b[39m{\u001b[38;5;124m\"\u001b[39m\u001b[38;5;124mtitle\u001b[39m\u001b[38;5;124m\"\u001b[39m: \u001b[38;5;124m\"\u001b[39m\u001b[38;5;124mAdmissions Quiz\u001b[39m\u001b[38;5;124m\"\u001b[39m}\n\u001b[0;32m     13\u001b[0m     )\n\u001b[0;32m     14\u001b[0m     \u001b[38;5;28;01mreturn\u001b[39;00m fig\n\u001b[1;32m---> 17\u001b[0m build_contingency_bar()\u001b[38;5;241m.\u001b[39mshow()\n",
      "Cell \u001b[1;32mIn[38], line 4\u001b[0m, in \u001b[0;36mbuild_contingency_bar\u001b[1;34m()\u001b[0m\n\u001b[0;32m      1\u001b[0m \u001b[38;5;28;01mdef\u001b[39;00m \u001b[38;5;21mbuild_contingency_bar\u001b[39m():\n\u001b[0;32m      2\u001b[0m     \u001b[38;5;66;03m# Create side-by-side bar chart\u001b[39;00m\n\u001b[0;32m      3\u001b[0m     fig \u001b[38;5;241m=\u001b[39m px\u001b[38;5;241m.\u001b[39mbar(\n\u001b[1;32m----> 4\u001b[0m         data_frame\u001b[38;5;241m=\u001b[39mdata,\n\u001b[0;32m      5\u001b[0m         barmode\u001b[38;5;241m=\u001b[39m\u001b[38;5;124m\"\u001b[39m\u001b[38;5;124mgroup\u001b[39m\u001b[38;5;124m\"\u001b[39m,\n\u001b[0;32m      6\u001b[0m         title\u001b[38;5;241m=\u001b[39m\u001b[38;5;124m\"\u001b[39m\u001b[38;5;124mAdmissions Quiz Completion by Group\u001b[39m\u001b[38;5;124m\"\u001b[39m\n\u001b[0;32m      7\u001b[0m     )\n\u001b[0;32m      8\u001b[0m     \u001b[38;5;66;03m# Set axis labels\u001b[39;00m\n\u001b[0;32m      9\u001b[0m     fig\u001b[38;5;241m.\u001b[39mupdate_layout(\n\u001b[0;32m     10\u001b[0m         xaxis_title\u001b[38;5;241m=\u001b[39m\u001b[38;5;124m\"\u001b[39m\u001b[38;5;124mGroup\u001b[39m\u001b[38;5;124m\"\u001b[39m,\n\u001b[0;32m     11\u001b[0m         yaxis_title\u001b[38;5;241m=\u001b[39m\u001b[38;5;124m\"\u001b[39m\u001b[38;5;124mFrequency [count]\u001b[39m\u001b[38;5;124m\"\u001b[39m,\n\u001b[0;32m     12\u001b[0m         legend\u001b[38;5;241m=\u001b[39m{\u001b[38;5;124m\"\u001b[39m\u001b[38;5;124mtitle\u001b[39m\u001b[38;5;124m\"\u001b[39m: \u001b[38;5;124m\"\u001b[39m\u001b[38;5;124mAdmissions Quiz\u001b[39m\u001b[38;5;124m\"\u001b[39m}\n\u001b[0;32m     13\u001b[0m     )\n",
      "\u001b[1;31mNameError\u001b[0m: name 'data' is not defined"
     ]
    }
   ],
   "source": [
    "def build_contingency_bar():\n",
    "    # Create side-by-side bar chart\n",
    "    fig = px.bar(\n",
    "        data_frame=data,\n",
    "        barmode=\"group\",\n",
    "        title=\"Admissions Quiz Completion by Group\"\n",
    "    )\n",
    "    # Set axis labels\n",
    "    fig.update_layout(\n",
    "        xaxis_title=\"Group\",\n",
    "        yaxis_title=\"Frequency [count]\",\n",
    "        legend={\"title\": \"Admissions Quiz\"}\n",
    "    )\n",
    "    return fig\n",
    "\n",
    "\n",
    "build_contingency_bar().show()"
   ]
  },
  {
   "cell_type": "markdown",
   "id": "2e2efc41-daf7-4f98-8eda-71b8b07e4573",
   "metadata": {},
   "source": [
    "Without doing anything else, we can see that people who got an email actually did complete the quiz more often than people who didn't. So can we conclude that, as a general rule, applicants who receive an email are more likely to complete quiz. No, not yet. After all, the difference we see could be due to chance. \n",
    "\n",
    "In order to determine if this difference is more than random variation, we need to take our results, put them into a **contingency table**, and run a statistical test."
   ]
  },
  {
   "cell_type": "code",
   "execution_count": 39,
   "id": "b19e9268-515e-40a9-93fc-83a3f63c86d0",
   "metadata": {},
   "outputs": [
    {
     "ename": "NameError",
     "evalue": "name 'data' is not defined",
     "output_type": "error",
     "traceback": [
      "\u001b[1;31m---------------------------------------------------------------------------\u001b[0m",
      "\u001b[1;31mNameError\u001b[0m                                 Traceback (most recent call last)",
      "Cell \u001b[1;32mIn[39], line 1\u001b[0m\n\u001b[1;32m----> 1\u001b[0m contingency_table \u001b[38;5;241m=\u001b[39m Table2x2(data\u001b[38;5;241m.\u001b[39mvalues)\n\u001b[0;32m      3\u001b[0m \u001b[38;5;28mprint\u001b[39m(\u001b[38;5;124m\"\u001b[39m\u001b[38;5;124mcontingency_table type:\u001b[39m\u001b[38;5;124m\"\u001b[39m, \u001b[38;5;28mtype\u001b[39m(contingency_table))\n\u001b[0;32m      4\u001b[0m contingency_table\u001b[38;5;241m.\u001b[39mtable_orig\n",
      "\u001b[1;31mNameError\u001b[0m: name 'data' is not defined"
     ]
    }
   ],
   "source": [
    "contingency_table = Table2x2(data.values)\n",
    "\n",
    "print(\"contingency_table type:\", type(contingency_table))\n",
    "contingency_table.table_orig"
   ]
  },
  {
   "cell_type": "markdown",
   "id": "3441a0b0-5c18-4cfb-a7be-e1c0c317ca3e",
   "metadata": {},
   "source": [
    "## Conduct Chi-Square Test"
   ]
  },
  {
   "cell_type": "markdown",
   "id": "050a6b83-4cb8-443e-b5a5-adcb76c5fbc8",
   "metadata": {},
   "source": [
    "Here's where the rubber meets the road: all the previous calculations have shown us that some of the people who got an email went on to complete the quiz, but we don't know what might be driving that effect. After all, some people might be responding to getting an email, but others might have finished the quiz whether we emailed them or not. Either way, the effect we found could just as easily be due to chance as it could be a result of something we did. The only way to find out whether the result is due to chance is to calculate statistical significance.\n",
    "\n",
    "There are several ways to do this, but since the rows and columns here are unordered (nominal factors), we can do a chi-square test."
   ]
  },
  {
   "cell_type": "code",
   "execution_count": null,
   "id": "10621811-12c4-468e-9094-0b0ebf06f41f",
   "metadata": {},
   "outputs": [],
   "source": []
  }
 ],
 "metadata": {
  "kernelspec": {
   "display_name": "Python 3 (ipykernel)",
   "language": "python",
   "name": "python3"
  },
  "language_info": {
   "codemirror_mode": {
    "name": "ipython",
    "version": 3
   },
   "file_extension": ".py",
   "mimetype": "text/x-python",
   "name": "python",
   "nbconvert_exporter": "python",
   "pygments_lexer": "ipython3",
   "version": "3.11.7"
  }
 },
 "nbformat": 4,
 "nbformat_minor": 5
}
